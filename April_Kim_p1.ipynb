{
 "cells": [
  {
   "cell_type": "markdown",
   "metadata": {},
   "source": [
    "# Project 1: Digit Classification with KNN and Naive Bayes"
   ]
  },
  {
   "cell_type": "markdown",
   "metadata": {},
   "source": [
    "In this project, you'll implement your own image recognition system for classifying digits. Read through the code and the instructions carefully and add your own code where indicated. Each problem can be addressed succinctly with the included packages -- please don't add any more. Grading will be based on writing clean, commented code, along with a few short answers.\n",
    "\n",
    "As always, you're welcome to work on the project in groups and discuss ideas on the course wall, but <b> please prepare your own write-up (with your own code). </b>\n",
    "\n",
    "If you're interested, check out these links related to digit recognition:\n",
    "\n",
    "Yann Lecun's MNIST benchmarks: http://yann.lecun.com/exdb/mnist/\n",
    "\n",
    "Stanford Streetview research and data: http://ufldl.stanford.edu/housenumbers/"
   ]
  },
  {
   "cell_type": "code",
   "execution_count": 1,
   "metadata": {},
   "outputs": [
    {
     "name": "stderr",
     "output_type": "stream",
     "text": [
      "/Users/aprilkim/anaconda2/lib/python2.7/site-packages/sklearn/cross_validation.py:41: DeprecationWarning: This module was deprecated in version 0.18 in favor of the model_selection module into which all the refactored classes and functions are moved. Also note that the interface of the new CV iterators are different from that of this module. This module will be removed in 0.20.\n",
      "  \"This module will be removed in 0.20.\", DeprecationWarning)\n",
      "/Users/aprilkim/anaconda2/lib/python2.7/site-packages/sklearn/grid_search.py:42: DeprecationWarning: This module was deprecated in version 0.18 in favor of the model_selection module into which all the refactored classes and functions are moved. This module will be removed in 0.20.\n",
      "  DeprecationWarning)\n"
     ]
    }
   ],
   "source": [
    "# This tells matplotlib not to try opening a new window for each plot.\n",
    "%matplotlib inline\n",
    "\n",
    "# Import a bunch of libraries.\n",
    "import time\n",
    "import numpy as np\n",
    "import pandas as pd\n",
    "import matplotlib.pyplot as plt\n",
    "from matplotlib.ticker import MultipleLocator\n",
    "from sklearn.pipeline import Pipeline\n",
    "from sklearn.datasets import fetch_mldata\n",
    "from sklearn.neighbors import KNeighborsClassifier\n",
    "from sklearn.metrics import confusion_matrix\n",
    "from sklearn.linear_model import LinearRegression\n",
    "from sklearn.naive_bayes import BernoulliNB\n",
    "from sklearn.naive_bayes import MultinomialNB\n",
    "from sklearn.naive_bayes import GaussianNB\n",
    "from sklearn.grid_search import GridSearchCV\n",
    "from sklearn.metrics import classification_report\n",
    "\n",
    "# Set the randomizer seed so results are the same each time.\n",
    "np.random.seed(0)"
   ]
  },
  {
   "cell_type": "markdown",
   "metadata": {},
   "source": [
    "Load the data. Notice that we are splitting the data into training, development, and test. We also have a small subset of the training data called mini_train_data and mini_train_labels that you should use in all the experiments below, unless otherwise noted."
   ]
  },
  {
   "cell_type": "code",
   "execution_count": 2,
   "metadata": {},
   "outputs": [
    {
     "name": "stdout",
     "output_type": "stream",
     "text": [
      "data shape:  (70000, 784)\n",
      "label shape: (70000,)\n"
     ]
    }
   ],
   "source": [
    "# Load the digit data either from mldata.org, or once downloaded to data_home, from disk. The data is about 53MB so this cell\n",
    "# should take a while the first time your run it.\n",
    "#, data_home='~/datasets/mnist'\n",
    "mnist = fetch_mldata('MNIST original')\n",
    "X, Y = mnist.data, mnist.target\n",
    "\n",
    "# Rescale grayscale values to [0,1].\n",
    "X = X / 255.0\n",
    "\n",
    "# Shuffle the input: create a random permutation of the integers between 0 and the number of data points and apply this\n",
    "# permutation to X and Y.\n",
    "# NOTE: Each time you run this cell, you'll re-shuffle the data, resulting in a different ordering.\n",
    "shuffle = np.random.permutation(np.arange(X.shape[0]))\n",
    "X, Y = X[shuffle], Y[shuffle]\n",
    "\n",
    "print 'data shape: ', X.shape\n",
    "print 'label shape:', Y.shape\n",
    "\n",
    "# Set some variables to hold test, dev, and training data.\n",
    "test_data, test_labels = X[61000:], Y[61000:]\n",
    "dev_data, dev_labels = X[60000:61000], Y[60000:61000]\n",
    "train_data, train_labels = X[:60000], Y[:60000]\n",
    "mini_train_data, mini_train_labels = X[:1000], Y[:1000]"
   ]
  },
  {
   "cell_type": "markdown",
   "metadata": {},
   "source": [
    "(1) Create a 10x10 grid to visualize 10 examples of each digit. Python hints:\n",
    "\n",
    "- plt.rc() for setting the colormap, for example to black and white\n",
    "- plt.subplot() for creating subplots\n",
    "- plt.imshow() for rendering a matrix\n",
    "- np.array.reshape() for reshaping a 1D feature vector into a 2D matrix (for rendering)"
   ]
  },
  {
   "cell_type": "code",
   "execution_count": 3,
   "metadata": {},
   "outputs": [
    {
     "data": {
      "image/png": "[encoded data removed]",
      "text/plain": [
       "<matplotlib.figure.Figure at 0x10ee17690>"
      ]
     },
     "metadata": {},
     "output_type": "display_data"
    }
   ],
   "source": [
    "def P1(num_examples=10):\n",
    "\n",
    "### STUDENT START ###\n",
    "\n",
    "    # for each digit from train_lables\n",
    "    for x in np.unique(train_labels):\n",
    "        # create ndarray of features of each digit x 10 examples\n",
    "        features = train_data[train_labels == x][:num_examples]\n",
    "        # for each of the number examples\n",
    "        for y in range(num_examples):\n",
    "            # create subplot\n",
    "            plt.subplot(len(np.unique(train_labels)), num_examples, num_examples*x+y+1)\n",
    "            plt.axis('off')\n",
    "            # reshape the dimension from (784,) to (28,28)\n",
    "            digit = features[y].reshape((28,28))\n",
    "            plt.imshow(digit, cmap='Greys')\n",
    "    \n",
    "### STUDENT END ###\n",
    "\n",
    "P1(10)"
   ]
  },
  {
   "cell_type": "markdown",
   "metadata": {},
   "source": [
    "(2) Evaluate a K-Nearest-Neighbors model with k = [1,3,5,7,9] using the mini training set. Report accuracy on the dev set. For k=1, show precision, recall, and F1 for each label. Which is the most difficult digit?\n",
    "\n",
    "- KNeighborsClassifier() for fitting and predicting\n",
    "- classification_report() for producing precision, recall, F1 results"
   ]
  },
  {
   "cell_type": "code",
   "execution_count": 4,
   "metadata": {},
   "outputs": [
    {
     "name": "stdout",
     "output_type": "stream",
     "text": [
      "k = 1; accuracy = 0.888\n",
      "k = 3; accuracy = 0.878\n",
      "k = 5; accuracy = 0.869\n",
      "k = 7; accuracy = 0.865\n",
      "k = 9; accuracy = 0.863\n",
      "             precision    recall  f1-score   support\n",
      "\n",
      "        0.0       0.91      0.98      0.94        99\n",
      "        1.0       0.89      1.00      0.94       105\n",
      "        2.0       0.99      0.79      0.88       102\n",
      "        3.0       0.77      0.87      0.82        86\n",
      "        4.0       0.89      0.82      0.85       104\n",
      "        5.0       0.93      0.84      0.88        91\n",
      "        6.0       0.94      0.96      0.95        98\n",
      "        7.0       0.89      0.92      0.90       113\n",
      "        8.0       0.94      0.88      0.91        96\n",
      "        9.0       0.78      0.82      0.80       106\n",
      "\n",
      "avg / total       0.89      0.89      0.89      1000\n",
      "\n"
     ]
    }
   ],
   "source": [
    "def P2(k_values):\n",
    "\n",
    "### STUDENT START ###\n",
    "\n",
    "    # loop through different values of k\n",
    "    for k in k_values:\n",
    "        # create knn object\n",
    "        knn_model = KNeighborsClassifier(n_neighbors=k)\n",
    "        # fit training data on the labels\n",
    "        knn_model.fit(mini_train_data, mini_train_labels) \n",
    "        # calculate the accuracy\n",
    "        accuracy = knn_model.score(dev_data, dev_labels)\n",
    "        print \"k = {}; accuracy = {:.3}\".format(k, accuracy)\n",
    "\n",
    "    # show precision recall, and F1 for each lable for k=1\n",
    "    knn_model = KNeighborsClassifier(n_neighbors=1)\n",
    "    knn_model.fit(mini_train_data, mini_train_labels)\n",
    "    knn_predictions = knn_model.predict(dev_data)\n",
    "    # report displays\n",
    "    print classification_report(y_true = dev_labels, y_pred = knn_predictions)\n",
    "\n",
    "### STUDENT END ###\n",
    "\n",
    "k_values = [1, 3, 5, 7, 9]\n",
    "P2(k_values)"
   ]
  },
  {
   "cell_type": "markdown",
   "metadata": {},
   "source": [
    "ANSWER: 9 has the lowest F1, which indicates it is the most difficult to predict. "
   ]
  },
  {
   "cell_type": "markdown",
   "metadata": {},
   "source": [
    "(3) Using k=1, report dev set accuracy for the training set sizes below. Also, measure the amount of time needed for prediction with each training size.\n",
    "\n",
    "- time.time() gives a wall clock value you can use for timing operations"
   ]
  },
  {
   "cell_type": "code",
   "execution_count": 5,
   "metadata": {},
   "outputs": [
    {
     "name": "stdout",
     "output_type": "stream",
     "text": [
      "training size = 100; accuracy = 0.72; time = 0.185\n",
      "training size = 200; accuracy = 0.786; time = 0.371\n",
      "training size = 400; accuracy = 0.841; time = 0.754\n",
      "training size = 800; accuracy = 0.884; time = 1.714\n",
      "training size = 1600; accuracy = 0.902; time = 3.318\n",
      "training size = 3200; accuracy = 0.926; time = 6.692\n",
      "training size = 6400; accuracy = 0.937; time = 13.917\n",
      "training size = 12800; accuracy = 0.959; time = 31.177\n",
      "training size = 25000; accuracy = 0.97; time = 67.675\n"
     ]
    }
   ],
   "source": [
    "def P3(train_sizes, accuracies):\n",
    "\n",
    "### STUDENT START ###\n",
    "\n",
    "    # create model similar to P2\n",
    "    knn_model = KNeighborsClassifier(n_neighbors=1)\n",
    "    # loop through each training size and create a knn model\n",
    "    for size in train_sizes:\n",
    "        # set timer to measure time needed for prediction\n",
    "        start_time = time.time()\n",
    "        # fit model with trainint set\n",
    "        knn_model.fit(train_data[:size], train_labels[:size])\n",
    "        knn_preds = knn_model.predict(dev_data)\n",
    "        # estimate dev set accuracy\n",
    "        accuracy = knn_model.score(dev_data, dev_labels) \n",
    "        run_time = round(time.time() - start_time, 3)\n",
    "        accuracies.append(accuracy)\n",
    "        \n",
    "        # print results\n",
    "        print \"training size = {}; accuracy = {:3}; time = {}\".format(size, accuracy, run_time)\n",
    "    \n",
    "\n",
    "    \n",
    "### STUDENT END ###\n",
    "\n",
    "train_sizes = [100, 200, 400, 800, 1600, 3200, 6400, 12800, 25000]\n",
    "accuracies = []\n",
    "P3(train_sizes, accuracies)"
   ]
  },
  {
   "cell_type": "markdown",
   "metadata": {},
   "source": [
    "(4) Fit a regression model that predicts accuracy from training size. What does it predict for n=60000? What's wrong with using regression here? Can you apply a transformation that makes the predictions more reasonable?\n",
    "\n",
    "- Remember that the sklearn fit() functions take an input matrix X and output vector Y. So each input example in X is a vector, even if it contains only a single value."
   ]
  },
  {
   "cell_type": "code",
   "execution_count": 6,
   "metadata": {},
   "outputs": [
    {
     "name": "stdout",
     "output_type": "stream",
     "text": [
      "regression model accuracy for n=60000: 1.24307226036\n"
     ]
    },
    {
     "data": {
      "image/png": "[encoded data removed]",
      "text/plain": [
       "<matplotlib.figure.Figure at 0x10ee18350>"
      ]
     },
     "metadata": {},
     "output_type": "display_data"
    },
    {
     "data": {
      "image/png": "[encoded data removed]",
      "text/plain": [
       "<matplotlib.figure.Figure at 0x1a2a7d7f10>"
      ]
     },
     "metadata": {},
     "output_type": "display_data"
    },
    {
     "name": "stdout",
     "output_type": "stream",
     "text": [
      "regression model accuracy for n=log(60000): 1.03386513757\n"
     ]
    }
   ],
   "source": [
    "def P4():\n",
    "\n",
    "### STUDENT START ###\n",
    "\n",
    "    # create arrays for size and accuracies; reshape\n",
    "    train_sizes_lm = np.asarray(train_sizes).reshape(-1,1)\n",
    "    accuracies_lm = np.asarray(accuracies).reshape(-1,1)\n",
    "    # fit linear regression model\n",
    "    lr = LinearRegression()\n",
    "    lr.fit(train_sizes_lm, accuracies_lm)\n",
    "\n",
    "    # predict n=60000\n",
    "    print \"regression model accuracy for n=60000: {}\".format(lr.predict(60000)[0][0])\n",
    "\n",
    "    plt.scatter(train_sizes_lm, accuracies_lm, label = \"Samples\")\n",
    "    plt.plot(train_sizes_lm, lr.predict(train_sizes_lm), label = 'True Function')\n",
    "    plt.legend(loc='best', fontsize='x-small')\n",
    "    plt.title(\"\")\n",
    "    plt.show()\n",
    "\n",
    "    # apply transformation to make predictions more reasonable \n",
    "    # perform log transformation of size\n",
    "    train_log = np.log10(train_sizes_lm)\n",
    "    # fit linear regression model on transformed data\n",
    "    lr_log = LinearRegression()\n",
    "    lr_log.fit(train_log, accuracies_lm)\n",
    "\n",
    "    plt.scatter(train_log, accuracies_lm, label = \"Samples\")\n",
    "    plt.plot(train_log, lr_log.predict(train_log), label = 'True Function')\n",
    "    plt.legend(loc='best', fontsize='x-small')\n",
    "    plt.title(\"\")\n",
    "    plt.show()\n",
    "\n",
    "    # predict n=60000\n",
    "    print \"regression model accuracy for n=log(60000): {}\".format(lr_log.predict(np.log10(60000))[0][0])\n",
    "\n",
    "\n",
    "### STUDENT END ###\n",
    "\n",
    "P4()"
   ]
  },
  {
   "cell_type": "markdown",
   "metadata": {},
   "source": [
    "ANSWER: Regression model that predicts for n=60000 gives accuracy of 1.24307226036, which is more than the maximum value of accuracy and therefore use of linear regression does not work. Applying log transformation fit the dataset the best, although the predicted value for n=60000 is still above 1."
   ]
  },
  {
   "cell_type": "markdown",
   "metadata": {},
   "source": [
    "Fit a 1-NN and output a confusion matrix for the dev data. Use the confusion matrix to identify the most confused pair of digits, and display a few example mistakes.\n",
    "\n",
    "- confusion_matrix() produces a confusion matrix"
   ]
  },
  {
   "cell_type": "code",
   "execution_count": 7,
   "metadata": {},
   "outputs": [
    {
     "name": "stdout",
     "output_type": "stream",
     "text": [
      "Confusion Matrix\n",
      "\n",
      "[[ 97   0   0   0   0   0   2   0   0   0]\n",
      " [  0 105   0   0   0   0   0   0   0   0]\n",
      " [  4   4  81   4   0   0   0   4   3   2]\n",
      " [  1   0   0  75   0   3   0   3   1   3]\n",
      " [  0   2   0   0  85   0   3   0   0  14]\n",
      " [  2   0   0   9   0  76   0   1   1   2]\n",
      " [  1   1   1   0   1   0  94   0   0   0]\n",
      " [  1   4   0   1   1   0   0 104   0   2]\n",
      " [  0   2   0   5   0   2   1   0  84   2]\n",
      " [  1   0   0   3   9   1   0   5   0  87]]\n",
      "\n",
      "\n",
      "The most confused pair of digits is 4 and 9\n",
      "\n",
      "\n"
     ]
    },
    {
     "data": {
      "image/png": "[encoded data removed]",
      "text/plain": [
       "<matplotlib.figure.Figure at 0x1a2a5ffe10>"
      ]
     },
     "metadata": {},
     "output_type": "display_data"
    }
   ],
   "source": [
    "def P5():\n",
    "\n",
    "    ### STUDENT START ###\n",
    "\n",
    "    # create 1-NN model similar to P3\n",
    "    knn_model = KNeighborsClassifier(n_neighbors=1)\n",
    "    # fit the model\n",
    "    knn_model.fit(mini_train_data, mini_train_labels)\n",
    "    knn_preds = knn_model.predict(dev_data)\n",
    "    # create confusion matrix and print\n",
    "    print \"Confusion Matrix\\n\"\n",
    "    print confusion_matrix(dev_labels, knn_preds)\n",
    "\n",
    "    print\"\\n\\nThe most confused pair of digits is 4 and 9\\n\\n\"\n",
    "\n",
    "    x = 0\n",
    "    plot_position = 1\n",
    "    while plot_position < 5:\n",
    "        if (dev_labels[x] == 4) and (knn_preds[x] == 9):  \n",
    "            plt.subplot(1,4,plot_position)\n",
    "            plt.imshow(dev_data[x,].reshape((28,28)), cmap='gray') \n",
    "            plt.axis('off') \n",
    "            plot_position += 1\n",
    "        x += 1\n",
    "    \n",
    "    ### STUDENT END ###\n",
    "\n",
    "P5()"
   ]
  },
  {
   "cell_type": "markdown",
   "metadata": {},
   "source": [
    "(6) A common image processing technique is to smooth an image by blurring. The idea is that the value of a particular pixel is estimated as the weighted combination of the original value and the values around it. Typically, the blurring is Gaussian -- that is, the weight of a pixel's influence is determined by a Gaussian function over the distance to the relevant pixel.\n",
    "\n",
    "Implement a simplified Gaussian blur by just using the 8 neighboring pixels: the smoothed value of a pixel is a weighted combination of the original value and the 8 neighboring values. Try applying your blur filter in 3 ways:\n",
    "- preprocess the training data but not the dev data\n",
    "- preprocess the dev data but not the training data\n",
    "- preprocess both training and dev data\n",
    "\n",
    "Note that there are Guassian blur filters available, for example in scipy.ndimage.filters. You're welcome to experiment with those, but you are likely to get the best results with the simplified version I described above."
   ]
  },
  {
   "cell_type": "code",
   "execution_count": 8,
   "metadata": {},
   "outputs": [
    {
     "name": "stdout",
     "output_type": "stream",
     "text": [
      "Application 1 accuracy: 0.099\n",
      "Application 2 accuracy: 0.105\n",
      "Application 3 accuracy: 0.099\n"
     ]
    }
   ],
   "source": [
    "def P6():\n",
    "    \n",
    "### STUDENT START ###\n",
    "\n",
    "    def gaussian_blur(digit):\n",
    "        # duplicate image\n",
    "        blurred_copy = np.zeros(digit.shape)\n",
    "        for x in range(blurred_copy.shape[0]):\n",
    "            # reshape to 28 x 28 matrix\n",
    "            copy_reshaped = np.reshape(blurred_copy[x], (28,28))\n",
    "            for row in range(copy_reshaped.shape[0]):\n",
    "                for col in range(copy_reshaped.shape[1]):\n",
    "                    # for 8 neighboring\n",
    "                    # calculate weighted average\n",
    "                    if (row > 0 and row < 27 and col > 0 and col < 27):\n",
    "                        # bottom row (3 pixels)\n",
    "                        lower_left = copy_reshaped[row+1][col-1]\n",
    "                        lower_middle = copy_reshaped[row+1][col]\n",
    "                        lower_right = copy_reshaped[row+1][col+1]\n",
    "                        # middle row (2 pixels)\n",
    "                        middle_left = copy_reshaped[row][col-1]\n",
    "                        middle_right = copy_reshaped[row][col+1]\n",
    "                        # top row (3 pixels)\n",
    "                        top_left = copy_reshaped[row-1][col-1]\n",
    "                        top_middle = copy_reshaped[row-1][col]\n",
    "                        top_right = copy_reshaped[row-1][col+1]\n",
    "\n",
    "                        copy_reshaped[row][col] = (copy_reshaped[row][col] + \n",
    "                                                   lower_left + lower_middle + lower_right +\n",
    "                                                   middle_left + middle_right +\n",
    "                                                   top_left + top_middle + top_right) * 0.111\n",
    "            # reshape blurred image to 784 and set as duplicated image\n",
    "            blurred_copy[x] = np.reshape(copy_reshaped, (784))\n",
    "        return blurred_copy                                     \n",
    "\n",
    "    # application 1: preprocess the training data but not the dev data\n",
    "    processed_mini_train = gaussian_blur(mini_train_data)\n",
    "    # train model\n",
    "    knn_model1 = KNeighborsClassifier(n_neighbors=1)\n",
    "    knn_model1.fit(processed_mini_train, mini_train_labels)\n",
    "    knn_predictions1 = knn_model1.predict(dev_data)    \n",
    "    print \"Application 1 accuracy: {}\".format(np.mean(knn_predictions1 == dev_labels))\n",
    "\n",
    "    # application 2: preprocess the dev data but not the training data\n",
    "    processed_dev_data = gaussian_blur(dev_data)\n",
    "    # train model\n",
    "    knn_model2 = KNeighborsClassifier(n_neighbors=1)\n",
    "    knn_model2.fit(mini_train_data, mini_train_labels)\n",
    "    knn_predictions2 = knn_model2.predict(processed_dev_data)\n",
    "    print \"Application 2 accuracy: {}\".format(np.mean(knn_predictions2 == dev_labels))\n",
    "\n",
    "    # application 3: preprocess both training and dev data\n",
    "    # train model\n",
    "    knn_model3 = KNeighborsClassifier(n_neighbors=1)\n",
    "    knn_model3.fit(processed_mini_train, mini_train_labels)\n",
    "    knn_predictions3 = knn_model3.predict(processed_dev_data)\n",
    "    print \"Application 3 accuracy: {}\".format(np.mean(knn_predictions3 == dev_labels))\n",
    "\n",
    "### STUDENT END ###\n",
    "\n",
    "P6()"
   ]
  },
  {
   "cell_type": "markdown",
   "metadata": {},
   "source": [
    "ANSWER: Blurring only the training data and blurring both the training and dev data gives very similar accuracies. "
   ]
  },
  {
   "cell_type": "markdown",
   "metadata": {},
   "source": [
    "(7) Fit a Naive Bayes classifier and report accuracy on the dev data. Remember that Naive Bayes estimates P(feature|label). While sklearn can handle real-valued features, let's start by mapping the pixel values to either 0 or 1. You can do this as a preprocessing step, or with the binarize argument. With binary-valued features, you can use BernoulliNB. Next try mapping the pixel values to 0, 1, or 2, representing white, grey, or black. This mapping requires MultinomialNB. Does the multi-class version improve the results? Why or why not?"
   ]
  },
  {
   "cell_type": "code",
   "execution_count": 9,
   "metadata": {},
   "outputs": [
    {
     "name": "stdout",
     "output_type": "stream",
     "text": [
      "Bernoulli NB accuracy = 0.815\n",
      "Multinomial NB accuracy = 0.797\n"
     ]
    }
   ],
   "source": [
    "def P7():\n",
    "\n",
    "### STUDENT START ###\n",
    "\n",
    "    # create BernoulliNB model with default\n",
    "    bernoulli_model = BernoulliNB()\n",
    "    bernoulli_model.fit(mini_train_data, mini_train_labels)\n",
    "    bernoulli_accuracy = bernoulli_model.score(dev_data, dev_labels)\n",
    "\n",
    "    print \"Bernoulli NB accuracy = {:3}\".format(bernoulli_accuracy)\n",
    "\n",
    "\n",
    "    # create MultinomialNB model\n",
    "    multinomal_model = MultinomialNB()\n",
    "    trinarize_data = np.copy(mini_train_data)\n",
    "    trinarize_data[mini_train_data < 0.333] = 0\n",
    "    trinarize_data[np.logical_and(mini_train_data >= 0.33, mini_train_data < 0.667)] = 1\n",
    "    trinarize_data[mini_train_data > 0.667] = 2\n",
    "    multinomal_model.fit(trinarize_data, mini_train_labels)\n",
    "    multinomal_accuracy = multinomal_model.score(dev_data, dev_labels)\n",
    "    print \"Multinomial NB accuracy = {:3}\".format(multinomal_accuracy)\n",
    "\n",
    "    \n",
    "### STUDENT END ###\n",
    "\n",
    "P7()"
   ]
  },
  {
   "cell_type": "markdown",
   "metadata": {},
   "source": [
    "ANSWER: The multi-class version does not improve the results. The binary model performs better at 81.5% compared to the multinomal model at 79.7% because the binary model has less categories and therefore increases P(feature|label) estimate."
   ]
  },
  {
   "cell_type": "markdown",
   "metadata": {},
   "source": [
    "(8) Use GridSearchCV to perform a search over values of alpha (the Laplace smoothing parameter) in a Bernoulli NB model. What is the best value for alpha? What is the accuracy when alpha=0? Is this what you'd expect?\n",
    "\n",
    "- Note that GridSearchCV partitions the training data so the results will be a bit different than if you used the dev data for evaluation."
   ]
  },
  {
   "cell_type": "code",
   "execution_count": 10,
   "metadata": {},
   "outputs": [
    {
     "name": "stderr",
     "output_type": "stream",
     "text": [
      "/Users/aprilkim/anaconda2/lib/python2.7/site-packages/sklearn/naive_bayes.py:472: UserWarning: alpha too small will result in numeric errors, setting alpha = 1.0e-10\n",
      "  'setting alpha = %.1e' % _ALPHA_MIN)\n"
     ]
    },
    {
     "name": "stdout",
     "output_type": "stream",
     "text": [
      "mean: 0.80300, std: 0.01644, params: {'alpha': 0.0}\n",
      "mean: 0.81800, std: 0.02216, params: {'alpha': 0.0001}\n",
      "mean: 0.82000, std: 0.02073, params: {'alpha': 0.001}\n",
      "mean: 0.82100, std: 0.01811, params: {'alpha': 0.01}\n",
      "mean: 0.81500, std: 0.02013, params: {'alpha': 0.1}\n",
      "mean: 0.80000, std: 0.01188, params: {'alpha': 0.5}\n",
      "mean: 0.79500, std: 0.01145, params: {'alpha': 1.0}\n",
      "mean: 0.78400, std: 0.01934, params: {'alpha': 2.0}\n",
      "mean: 0.72000, std: 0.02495, params: {'alpha': 10.0}\n"
     ]
    }
   ],
   "source": [
    "def P8(alphas):\n",
    "\n",
    "### STUDENT START ###\n",
    "\n",
    "    # perform search using GridSearchCV in Bernoulli NB model\n",
    "    grid_search = GridSearchCV(BernoulliNB(binarize=0.5), alphas)\n",
    "    # fit the model with mini training set\n",
    "    grid_search.fit(mini_train_data, mini_train_labels)\n",
    "    for score in grid_search.grid_scores_:\n",
    "        print score\n",
    "    return grid_search\n",
    "\n",
    "### STUDENT END ###\n",
    "\n",
    "alphas = {'alpha': [0.0, 0.0001, 0.001, 0.01, 0.1, 0.5, 1.0, 2.0, 10.0]}\n",
    "nb = P8(alphas)"
   ]
  },
  {
   "cell_type": "code",
   "execution_count": 11,
   "metadata": {},
   "outputs": [
    {
     "name": "stdout",
     "output_type": "stream",
     "text": [
      "Best value = {'alpha': 0.01}\n",
      "Accuracy when alpha is 0 = 0.803\n"
     ]
    }
   ],
   "source": [
    "print \"Best value = {}\".format(nb.best_params_)\n",
    "print \"Accuracy when alpha is 0 = {}\".format(nb.grid_scores_[0][1])"
   ]
  },
  {
   "cell_type": "markdown",
   "metadata": {},
   "source": [
    "ANSWER: The best value for alpha is 0.01. The accuracy when alpha=0 is 80.3%. I would have expected the accuracy to the highest when alpha=0 because there is no smoothin when alpha=0 but the accuracy is best when alpha=0.01, which is an unexpected outcome."
   ]
  },
  {
   "cell_type": "markdown",
   "metadata": {},
   "source": [
    "(9) Try training a model using GuassianNB, which is intended for real-valued features, and evaluate on the dev data. You'll notice that it doesn't work so well. Try to diagnose the problem. You should be able to find a simple fix that returns the accuracy to around the same rate as BernoulliNB. Explain your solution.\n",
    "\n",
    "Hint: examine the parameters estimated by the fit() method, theta\\_ and sigma\\_."
   ]
  },
  {
   "cell_type": "code",
   "execution_count": 12,
   "metadata": {},
   "outputs": [
    {
     "name": "stdout",
     "output_type": "stream",
     "text": [
      "Gaussian NB accuracy = 0.621\n",
      "Gaussian NB theta = [[ 0.  0.  0. ...,  0.  0.  0.]\n",
      " [ 0.  0.  0. ...,  0.  0.  0.]\n",
      " [ 0.  0.  0. ...,  0.  0.  0.]\n",
      " ..., \n",
      " [ 0.  0.  0. ...,  0.  0.  0.]\n",
      " [ 0.  0.  0. ...,  0.  0.  0.]\n",
      " [ 0.  0.  0. ...,  0.  0.  0.]]\n",
      "Gaussian NB sigma = [[  1.98697608e-10   1.98697608e-10   1.98697608e-10 ...,   1.98697608e-10\n",
      "    1.98697608e-10   1.98697608e-10]\n",
      " [  1.98697608e-10   1.98697608e-10   1.98697608e-10 ...,   1.98697608e-10\n",
      "    1.98697608e-10   1.98697608e-10]\n",
      " [  1.98697608e-10   1.98697608e-10   1.98697608e-10 ...,   1.98697608e-10\n",
      "    1.98697608e-10   1.98697608e-10]\n",
      " ..., \n",
      " [  1.98697608e-10   1.98697608e-10   1.98697608e-10 ...,   1.98697608e-10\n",
      "    1.98697608e-10   1.98697608e-10]\n",
      " [  1.98697608e-10   1.98697608e-10   1.98697608e-10 ...,   1.98697608e-10\n",
      "    1.98697608e-10   1.98697608e-10]\n",
      " [  1.98697608e-10   1.98697608e-10   1.98697608e-10 ...,   1.98697608e-10\n",
      "    1.98697608e-10   1.98697608e-10]]\n",
      "\n",
      "Gaussian NB with noise accuracy = 0.784\n"
     ]
    },
    {
     "data": {
      "image/png": "[encoded data removed]",
      "text/plain": [
       "<matplotlib.figure.Figure at 0x10edf9950>"
      ]
     },
     "metadata": {},
     "output_type": "display_data"
    }
   ],
   "source": [
    "def P9():\n",
    "\n",
    "### STUDENT END ###\n",
    "\n",
    "    # create Gaussian model\n",
    "    gaussian_model = GaussianNB()\n",
    "    # fit the model using mini training data \n",
    "    gaussian_model.fit(mini_train_data, mini_train_labels)\n",
    "    gaussian_accuracy = gaussian_model.score(dev_data, dev_labels)\n",
    "\n",
    "    print \"Gaussian NB accuracy = {:3}\".format(gaussian_accuracy)\n",
    "    print \"Gaussian NB theta = \" + str(gaussian_model.theta_)\n",
    "    print \"Gaussian NB sigma = \" + str(gaussian_model.sigma_)\n",
    "    \n",
    "    # visualize random image from mini_train_data\n",
    "    plt.figure(figsize=(11, 5))\n",
    "    plt.subplot(1, 2, 1)\n",
    "    hist = plt.hist(mini_train_data[42], bins=50)\n",
    "    plt.title(\"Histogram of random mini train data\")\n",
    "    \n",
    "    # add random noise to training data\n",
    "    # sigma of 0.2 derived from trial of different values\n",
    "    plus_noise_training_data = mini_train_data + np.random.normal(0, 0.2, mini_train_data.shape)\n",
    "    \n",
    "    # Gaussian model with noise\n",
    "    gaussian_noise_model = GaussianNB()\n",
    "    gaussian_noise_model.fit(plus_noise_training_data, mini_train_labels)\n",
    "    gaussian_noise_accuracy = gaussian_noise_model.score(dev_data, dev_labels)\n",
    "    \n",
    "    print \"\\nGaussian NB with noise accuracy = {:3}\".format(gaussian_noise_accuracy)\n",
    "    \n",
    "    # visualize random image from mini_train_data plus noise\n",
    "    plt.subplot(1, 2, 2)\n",
    "    hist = plt.hist(plus_noise_training_data[42], bins=50)\n",
    "    plt.title(\"Histogram of train data with noise\")\n",
    "    \n",
    "    return gaussian_model\n",
    "\n",
    "\n",
    "### STUDENT END ###\n",
    "\n",
    "gnb = P9()"
   ]
  },
  {
   "cell_type": "markdown",
   "metadata": {},
   "source": [
    "ANSWER: Training the model using GaussianNB, evaluating the dev_data gives accuracy of 62.1%. Observing the data as a histogram, the data is almost binary, which is not suitable for Gaussian NB model that expects normally distributed data. Adding gaussian noise transforms the data to be more normally distributed and the accuracy improves by more than 15%."
   ]
  },
  {
   "cell_type": "markdown",
   "metadata": {},
   "source": [
    "(10) Because Naive Bayes is a generative model, we can use the trained model to generate digits. Train a BernoulliNB model and then generate a 10x20 grid with 20 examples of each digit. Because you're using a Bernoulli model, each pixel output will be either 0 or 1. How do the generated digits compare to the training digits?\n",
    "\n",
    "- You can use np.random.rand() to generate random numbers from a uniform distribution\n",
    "- The estimated probability of each pixel is stored in feature\\_log\\_prob\\_. You'll need to use np.exp() to convert a log probability back to a probability."
   ]
  },
  {
   "cell_type": "code",
   "execution_count": 13,
   "metadata": {},
   "outputs": [
    {
     "data": {
      "image/png": "[encoded data removed]",
      "text/plain": [
       "<matplotlib.figure.Figure at 0x1a2a3a5390>"
      ]
     },
     "metadata": {},
     "output_type": "display_data"
    }
   ],
   "source": [
    "def P10(num_examples):\n",
    "\n",
    "### STUDENT START ###\n",
    "\n",
    "    # train BernoulliNB model using best alpha solved from P8\n",
    "    bernoulli_model = BernoulliNB(binarize=0.5, alpha=0.01)\n",
    "    bernoulli_model.fit(mini_train_data, mini_train_labels)\n",
    "    \n",
    "    # for each digit \n",
    "    for x in range(10):\n",
    "        # for each of the 20 examples\n",
    "        for y in range(num_examples):\n",
    "            # generate random numbers from a uniform distribution\n",
    "            random = np.random.rand(784)\n",
    "            # create subplot\n",
    "            plt.subplot(10, num_examples, num_examples*x+y+1)\n",
    "            plt.axis('off')\n",
    "            # reshape the dimension from (784,) to (28,28)\n",
    "            digit = np.reshape([np.exp(bernoulli_model.feature_log_prob_)[x] > random], (28,28))\n",
    "            plt.imshow(digit, cmap='Greys')\n",
    "\n",
    "\n",
    "### STUDENT END ###\n",
    "\n",
    "P10(20)"
   ]
  },
  {
   "cell_type": "markdown",
   "metadata": {},
   "source": [
    "ANSWER: The generated digits are recognizable, however, much fuzzier and staticky."
   ]
  },
  {
   "cell_type": "markdown",
   "metadata": {},
   "source": [
    "(11) Remember that a strongly calibrated classifier is rougly 90% accurate when the posterior probability of the predicted class is 0.9. A weakly calibrated classifier is more accurate when the posterior is 90% than when it is 80%. A poorly calibrated classifier has no positive correlation between posterior and accuracy.\n",
    "\n",
    "Train a BernoulliNB model with a reasonable alpha value. For each posterior bucket (think of a bin in a histogram), you want to estimate the classifier's accuracy. So for each prediction, find the bucket the maximum posterior belongs to and update the \"correct\" and \"total\" counters.\n",
    "\n",
    "How would you characterize the calibration for the Naive Bayes model?"
   ]
  },
  {
   "cell_type": "code",
   "execution_count": 14,
   "metadata": {},
   "outputs": [
    {
     "name": "stdout",
     "output_type": "stream",
     "text": [
      "p(pred) <= 0.5000000000000    total =   0    accuracy = 0.000\n",
      "p(pred) <= 0.9000000000000    total = 240    accuracy = 0.200\n",
      "p(pred) <= 0.9990000000000    total = 602    accuracy = 0.465\n",
      "p(pred) <= 0.9999900000000    total = 510    accuracy = 0.612\n",
      "p(pred) <= 0.9999999000000    total = 290    accuracy = 0.690\n",
      "p(pred) <= 0.9999999990000    total = 244    accuracy = 0.754\n",
      "p(pred) <= 0.9999999999900    total = 219    accuracy = 0.877\n",
      "p(pred) <= 0.9999999999999    total = 150    accuracy = 0.840\n",
      "p(pred) <= 1.0000000000000    total = 532    accuracy = 0.953\n"
     ]
    }
   ],
   "source": [
    "def P11(buckets, correct, total):\n",
    "    \n",
    "### STUDENT START ###\n",
    "\n",
    "    # train BernoulliNB model, same as P8 and P10\n",
    "    bernoulli_model = BernoulliNB(alpha=0.01, binarize=0.5)\n",
    "    bernoulli_model.fit(mini_train_data, mini_train_labels)\n",
    "    # predictions\n",
    "    predictions = bernoulli_model.predict(dev_data)\n",
    "    # predicted probabilities     \n",
    "    pred_probs = bernoulli_model.predict_proba(dev_data)\n",
    "    \n",
    "    pred_correct = np.empty(len(dev_labels))\n",
    "\n",
    "    # Loop through each prediction to check which maximum bucket it should fall in.\n",
    "    for x in range(len(dev_labels)):\n",
    "        # which bucket has max posterior for prediction?\n",
    "        pred_correct[x] = np.argmax(pred_probs[x]) == dev_labels[x]\n",
    "        i = 0\n",
    "        for y in buckets:\n",
    "            # if bucket  has max posterior \n",
    "            if np.max(pred_probs[x]) <= y:\n",
    "                # update correct\n",
    "                correct[i] += pred_correct[x]\n",
    "                # update total\n",
    "                total[i] += 1\n",
    "            else:\n",
    "                i += 1\n",
    "                \n",
    "### STUDENT END ###\n",
    "\n",
    "buckets = [0.5, 0.9, 0.999, 0.99999, 0.9999999, 0.999999999, 0.99999999999, 0.9999999999999, 1.0]\n",
    "correct = [0 for i in buckets]\n",
    "total = [0 for i in buckets]\n",
    "\n",
    "P11(buckets, correct, total)\n",
    "\n",
    "for i in range(len(buckets)):\n",
    "    accuracy = 0.0\n",
    "    if (total[i] > 0): accuracy = correct[i] / total[i]\n",
    "    print 'p(pred) <= %.13f    total = %3d    accuracy = %.3f' %(buckets[i], total[i], accuracy)"
   ]
  },
  {
   "cell_type": "markdown",
   "metadata": {},
   "source": [
    "ANSWER: The classifier is weakly calibrated. The accuracy increases as the posterior probaiblity increases, however, it is weakly correlated."
   ]
  },
  {
   "cell_type": "markdown",
   "metadata": {},
   "source": [
    "(12) EXTRA CREDIT\n",
    "\n",
    "Try designing extra features to see if you can improve the performance of Naive Bayes on the dev set. Here are a few ideas to get you started:\n",
    "- Try summing the pixel values in each row and each column.\n",
    "- Try counting the number of enclosed regions; 8 usually has 2 enclosed regions, 9 usually has 1, and 7 usually has 0.\n",
    "\n",
    "Make sure you comment your code well!"
   ]
  },
  {
   "cell_type": "code",
   "execution_count": null,
   "metadata": {
    "collapsed": true
   },
   "outputs": [],
   "source": [
    "#def P12():\n",
    "\n",
    "### STUDENT START ###\n",
    "\n",
    "\n",
    "### STUDENT END ###\n",
    "\n",
    "#P12()"
   ]
  }
 ],
 "metadata": {
  "anaconda-cloud": {},
  "kernelspec": {
   "display_name": "Python 2",
   "language": "python",
   "name": "python2"
  },
  "language_info": {
   "codemirror_mode": {
    "name": "ipython",
    "version": 2
   },
   "file_extension": ".py",
   "mimetype": "text/x-python",
   "name": "python",
   "nbconvert_exporter": "python",
   "pygments_lexer": "ipython2",
   "version": "2.7.14"
  }
 },
 "nbformat": 4,
 "nbformat_minor": 1
}

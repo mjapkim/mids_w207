{
 "cells": [
  {
   "cell_type": "markdown",
   "metadata": {},
   "source": [
    "# Final Project: Kobe Bryant Shot Selection"
   ]
  },
  {
   "cell_type": "markdown",
   "metadata": {},
   "source": [
    "### Authors: April Kim, Jennifer Podracky, Shelly Hsu"
   ]
  },
  {
   "cell_type": "markdown",
   "metadata": {},
   "source": [
    "\n",
    "## Business Understanding\n",
    "\n",
    "Shot selection in basketball is a term that refers to the types of shots that an individual takes. This data is important for determining how the NBA invests in people and programs to measure and discover where on the court players shoot their best. Maximizing this probability is key to maximizing the best results while spending the minimum amount of resources. In this paper, we address the problem of predicting which of Kobe Bryant's shots will be made (or missed) using machine learning techniques utilizing the data that is provided at the level of every field goal attempted by Kobe Bryant during his 20-year career. This will provide valuable insight into what types of shots Kobe Bryant should have attempted more often to ensure the highest amount of points are scored during a game. "
   ]
  },
  {
   "cell_type": "markdown",
   "metadata": {},
   "source": [
    "## Data Understanding\n",
    "\n",
    "### Background\n",
    "The raw data sources provided are a CSV file. In this file, each of the rows represents a shot taken by Kobe Bryant over the course of the 1996-2016 seasons of his NBA career.\n",
    "\n",
    "For each shot, the following attributes are recorded:\n",
    "\n",
    "* action_type - Type of shot taken, e.g. Driving Dunk Shot\n",
    "* combined_shot_type - More general type of shot taken, e.g. Dunk Shot\n",
    "* game_event_id - Numeric id of the shot taken within the game\n",
    "* game_id - Numeric id of the game in which the shot was taken\n",
    "* lat - Latitude of the game location\n",
    "* loc_x - Lateral location on the court at which shot was taken\n",
    "* loc_y - Vertical location on the court at which shot was taken\n",
    "* lon - Longitude of the game location\n",
    "* minutes_remaining - Minutes remaining in the period in which the shot was taken\n",
    "* period - A numeric indicator of which period that the shot was taken during\n",
    "* playoffs - 0/1 flag indicating whether the game happened during the playoffs\n",
    "* season - The season in which the game occured\n",
    "* seconds_remaining - Seconds remaining for Kobe to shoot at the time the shot was taken\n",
    "* shot_distance - Distance in feet from the basket at which shot was taken\n",
    "* shot_made_flag - 0/1 flag indicating whether the shot was made or not\n",
    "* shot_type - The type of shot that was made, e.g. 2PT Field Goal\n",
    "* shot_zone_area - The court area from which the shot was taken, e.g. Center(C)\n",
    "* shot_zone_basic - The court zone from which the shot was taken, e.g. Mid-Range\n",
    "* shot_zone_range - The distance range from hich the shot was taken, e.g. 8-16 ft.\n",
    "* team_id - Numeric ID of the team Kobe was playing for; always 1610612747 (Lakers)\n",
    "* team_name - Name of the team Kobe was playing for; always the Lakers\n",
    "* game_date - Date of the game in which shot was taken\n",
    "* matchup - String indicating which two teams were playing each other\n",
    "* opponent - Name of the team Kobe was playing against\n",
    "* shot_id - Unique identifier for each shot\n",
    "\n",
    "The variable that we are trying to predict through our analysis is shot_made_flag.\n",
    "\n",
    "\n",
    "### Exploratory Data Analysis\n",
    "\n",
    "In this section, we will load the provided CSV file, examine the provided variables, and analyze their distributions."
   ]
  },
  {
   "cell_type": "code",
<<<<<<< HEAD
   "execution_count": 2,
=======
   "execution_count": 1,
>>>>>>> 2e27a2a439dbcefa3123ea3c5caa317425f0d630
   "metadata": {},
   "outputs": [
    {
     "name": "stderr",
     "output_type": "stream",
     "text": [
      "C:\\Users\\Desktop\\Anaconda3\\lib\\site-packages\\sklearn\\cross_validation.py:41: DeprecationWarning: This module was deprecated in version 0.18 in favor of the model_selection module into which all the refactored classes and functions are moved. Also note that the interface of the new CV iterators are different from that of this module. This module will be removed in 0.20.\n",
      "  \"This module will be removed in 0.20.\", DeprecationWarning)\n",
      "C:\\Users\\Desktop\\Anaconda3\\lib\\site-packages\\sklearn\\grid_search.py:42: DeprecationWarning: This module was deprecated in version 0.18 in favor of the model_selection module into which all the refactored classes and functions are moved. This module will be removed in 0.20.\n",
      "  DeprecationWarning)\n"
     ]
    }
   ],
   "source": [
    "# This tells matplotlib not to try opening a new window for each plot.\n",
    "%matplotlib inline\n",
    "\n",
    "# General libraries.\n",
    "import re\n",
    "import numpy as np\n",
    "import pandas as pd\n",
    "import matplotlib.pyplot as plt\n",
    "from datetime import datetime\n",
    "\n",
    "# SK-learn libraries for learning.\n",
    "from sklearn.pipeline import Pipeline\n",
    "from sklearn.neighbors import KNeighborsClassifier\n",
    "from sklearn.linear_model import LogisticRegression\n",
    "from sklearn.naive_bayes import BernoulliNB\n",
    "from sklearn.naive_bayes import MultinomialNB\n",
    "from sklearn.grid_search import GridSearchCV\n",
    "from sklearn.ensemble import GradientBoostingClassifier\n",
    "\n",
    "# SK-learn libraries for evaluation.\n",
    "from sklearn.metrics import confusion_matrix\n",
    "from sklearn import metrics\n",
    "from sklearn.metrics import classification_report\n",
    "\n",
    "# SK-learn libraries for feature extraction from text.\n",
    "from sklearn.feature_extraction.text import *\n",
    "\n",
    "from sklearn.decomposition import PCA\n",
    "from sklearn.cluster import KMeans\n",
    "from sklearn.mixture import GMM\n",
    "from sklearn.mixture import GaussianMixture\n",
    "from matplotlib.colors import LogNorm"
   ]
  },
  {
   "cell_type": "code",
<<<<<<< HEAD
   "execution_count": 3,
   "metadata": {},
=======
   "execution_count": 2,
   "metadata": {
    "collapsed": true
   },
>>>>>>> 2e27a2a439dbcefa3123ea3c5caa317425f0d630
   "outputs": [],
   "source": [
    "# force Pandas to display all columns\n",
    "pd.set_option(\"display.max_columns\", None)"
   ]
  },
  {
   "cell_type": "code",
<<<<<<< HEAD
   "execution_count": 4,
   "metadata": {},
=======
   "execution_count": 3,
   "metadata": {
    "collapsed": true
   },
>>>>>>> 2e27a2a439dbcefa3123ea3c5caa317425f0d630
   "outputs": [],
   "source": [
    "# read in data\n",
    "# data contains location and circumstances of every field goal attempted by Kobe\n",
    "# using this data, predict whether the basket went in (shot_made_flag)\n",
    "data = \"data.csv\"\n",
    "sample_submission = \"sample_submission.csv\"\n",
    "\n",
    "d = pd.read_csv(data)\n",
    "sample = pd.read_csv(sample_submission)"
   ]
  },
  {
   "cell_type": "code",
<<<<<<< HEAD
   "execution_count": 5,
=======
   "execution_count": 4,
>>>>>>> 2e27a2a439dbcefa3123ea3c5caa317425f0d630
   "metadata": {},
   "outputs": [
    {
     "data": {
      "text/html": [
       "<div>\n",
       "<style scoped>\n",
       "    .dataframe tbody tr th:only-of-type {\n",
       "        vertical-align: middle;\n",
       "    }\n",
       "\n",
       "    .dataframe tbody tr th {\n",
       "        vertical-align: top;\n",
       "    }\n",
       "\n",
       "    .dataframe thead th {\n",
       "        text-align: right;\n",
       "    }\n",
       "</style>\n",
       "<table border=\"1\" class=\"dataframe\">\n",
       "  <thead>\n",
       "    <tr style=\"text-align: right;\">\n",
       "      <th></th>\n",
       "      <th>action_type</th>\n",
       "      <th>combined_shot_type</th>\n",
       "      <th>game_event_id</th>\n",
       "      <th>game_id</th>\n",
       "      <th>lat</th>\n",
       "      <th>loc_x</th>\n",
       "      <th>loc_y</th>\n",
       "      <th>lon</th>\n",
       "      <th>minutes_remaining</th>\n",
       "      <th>period</th>\n",
       "      <th>playoffs</th>\n",
       "      <th>season</th>\n",
       "      <th>seconds_remaining</th>\n",
       "      <th>shot_distance</th>\n",
       "      <th>shot_made_flag</th>\n",
       "      <th>shot_type</th>\n",
       "      <th>shot_zone_area</th>\n",
       "      <th>shot_zone_basic</th>\n",
       "      <th>shot_zone_range</th>\n",
       "      <th>team_id</th>\n",
       "      <th>team_name</th>\n",
       "      <th>game_date</th>\n",
       "      <th>matchup</th>\n",
       "      <th>opponent</th>\n",
       "      <th>shot_id</th>\n",
       "    </tr>\n",
       "  </thead>\n",
       "  <tbody>\n",
       "    <tr>\n",
       "      <th>0</th>\n",
       "      <td>Jump Shot</td>\n",
       "      <td>Jump Shot</td>\n",
       "      <td>10</td>\n",
       "      <td>20000012</td>\n",
       "      <td>33.9723</td>\n",
       "      <td>167</td>\n",
       "      <td>72</td>\n",
       "      <td>-118.1028</td>\n",
       "      <td>10</td>\n",
       "      <td>1</td>\n",
       "      <td>0</td>\n",
       "      <td>2000-01</td>\n",
       "      <td>27</td>\n",
       "      <td>18</td>\n",
       "      <td>NaN</td>\n",
       "      <td>2PT Field Goal</td>\n",
       "      <td>Right Side(R)</td>\n",
       "      <td>Mid-Range</td>\n",
       "      <td>16-24 ft.</td>\n",
       "      <td>1610612747</td>\n",
       "      <td>Los Angeles Lakers</td>\n",
       "      <td>2000-10-31</td>\n",
       "      <td>LAL @ POR</td>\n",
       "      <td>POR</td>\n",
       "      <td>1</td>\n",
       "    </tr>\n",
       "    <tr>\n",
       "      <th>1</th>\n",
       "      <td>Jump Shot</td>\n",
       "      <td>Jump Shot</td>\n",
       "      <td>12</td>\n",
       "      <td>20000012</td>\n",
       "      <td>34.0443</td>\n",
       "      <td>-157</td>\n",
       "      <td>0</td>\n",
       "      <td>-118.4268</td>\n",
       "      <td>10</td>\n",
       "      <td>1</td>\n",
       "      <td>0</td>\n",
       "      <td>2000-01</td>\n",
       "      <td>22</td>\n",
       "      <td>15</td>\n",
       "      <td>0.0</td>\n",
       "      <td>2PT Field Goal</td>\n",
       "      <td>Left Side(L)</td>\n",
       "      <td>Mid-Range</td>\n",
       "      <td>8-16 ft.</td>\n",
       "      <td>1610612747</td>\n",
       "      <td>Los Angeles Lakers</td>\n",
       "      <td>2000-10-31</td>\n",
       "      <td>LAL @ POR</td>\n",
       "      <td>POR</td>\n",
       "      <td>2</td>\n",
       "    </tr>\n",
       "    <tr>\n",
       "      <th>2</th>\n",
       "      <td>Jump Shot</td>\n",
       "      <td>Jump Shot</td>\n",
       "      <td>35</td>\n",
       "      <td>20000012</td>\n",
       "      <td>33.9093</td>\n",
       "      <td>-101</td>\n",
       "      <td>135</td>\n",
       "      <td>-118.3708</td>\n",
       "      <td>7</td>\n",
       "      <td>1</td>\n",
       "      <td>0</td>\n",
       "      <td>2000-01</td>\n",
       "      <td>45</td>\n",
       "      <td>16</td>\n",
       "      <td>1.0</td>\n",
       "      <td>2PT Field Goal</td>\n",
       "      <td>Left Side Center(LC)</td>\n",
       "      <td>Mid-Range</td>\n",
       "      <td>16-24 ft.</td>\n",
       "      <td>1610612747</td>\n",
       "      <td>Los Angeles Lakers</td>\n",
       "      <td>2000-10-31</td>\n",
       "      <td>LAL @ POR</td>\n",
       "      <td>POR</td>\n",
       "      <td>3</td>\n",
       "    </tr>\n",
       "    <tr>\n",
       "      <th>3</th>\n",
       "      <td>Jump Shot</td>\n",
       "      <td>Jump Shot</td>\n",
       "      <td>43</td>\n",
       "      <td>20000012</td>\n",
       "      <td>33.8693</td>\n",
       "      <td>138</td>\n",
       "      <td>175</td>\n",
       "      <td>-118.1318</td>\n",
       "      <td>6</td>\n",
       "      <td>1</td>\n",
       "      <td>0</td>\n",
       "      <td>2000-01</td>\n",
       "      <td>52</td>\n",
       "      <td>22</td>\n",
       "      <td>0.0</td>\n",
       "      <td>2PT Field Goal</td>\n",
       "      <td>Right Side Center(RC)</td>\n",
       "      <td>Mid-Range</td>\n",
       "      <td>16-24 ft.</td>\n",
       "      <td>1610612747</td>\n",
       "      <td>Los Angeles Lakers</td>\n",
       "      <td>2000-10-31</td>\n",
       "      <td>LAL @ POR</td>\n",
       "      <td>POR</td>\n",
       "      <td>4</td>\n",
       "    </tr>\n",
       "    <tr>\n",
       "      <th>4</th>\n",
       "      <td>Driving Dunk Shot</td>\n",
       "      <td>Dunk</td>\n",
       "      <td>155</td>\n",
       "      <td>20000012</td>\n",
       "      <td>34.0443</td>\n",
       "      <td>0</td>\n",
       "      <td>0</td>\n",
       "      <td>-118.2698</td>\n",
       "      <td>6</td>\n",
       "      <td>2</td>\n",
       "      <td>0</td>\n",
       "      <td>2000-01</td>\n",
       "      <td>19</td>\n",
       "      <td>0</td>\n",
       "      <td>1.0</td>\n",
       "      <td>2PT Field Goal</td>\n",
       "      <td>Center(C)</td>\n",
       "      <td>Restricted Area</td>\n",
       "      <td>Less Than 8 ft.</td>\n",
       "      <td>1610612747</td>\n",
       "      <td>Los Angeles Lakers</td>\n",
       "      <td>2000-10-31</td>\n",
       "      <td>LAL @ POR</td>\n",
       "      <td>POR</td>\n",
       "      <td>5</td>\n",
       "    </tr>\n",
       "  </tbody>\n",
       "</table>\n",
       "</div>"
      ],
      "text/plain": [
       "         action_type combined_shot_type  game_event_id   game_id      lat  \\\n",
       "0          Jump Shot          Jump Shot             10  20000012  33.9723   \n",
       "1          Jump Shot          Jump Shot             12  20000012  34.0443   \n",
       "2          Jump Shot          Jump Shot             35  20000012  33.9093   \n",
       "3          Jump Shot          Jump Shot             43  20000012  33.8693   \n",
       "4  Driving Dunk Shot               Dunk            155  20000012  34.0443   \n",
       "\n",
       "   loc_x  loc_y       lon  minutes_remaining  period  playoffs   season  \\\n",
       "0    167     72 -118.1028                 10       1         0  2000-01   \n",
       "1   -157      0 -118.4268                 10       1         0  2000-01   \n",
       "2   -101    135 -118.3708                  7       1         0  2000-01   \n",
       "3    138    175 -118.1318                  6       1         0  2000-01   \n",
       "4      0      0 -118.2698                  6       2         0  2000-01   \n",
       "\n",
       "   seconds_remaining  shot_distance  shot_made_flag       shot_type  \\\n",
       "0                 27             18             NaN  2PT Field Goal   \n",
       "1                 22             15             0.0  2PT Field Goal   \n",
       "2                 45             16             1.0  2PT Field Goal   \n",
       "3                 52             22             0.0  2PT Field Goal   \n",
       "4                 19              0             1.0  2PT Field Goal   \n",
       "\n",
       "          shot_zone_area  shot_zone_basic  shot_zone_range     team_id  \\\n",
       "0          Right Side(R)        Mid-Range        16-24 ft.  1610612747   \n",
       "1           Left Side(L)        Mid-Range         8-16 ft.  1610612747   \n",
       "2   Left Side Center(LC)        Mid-Range        16-24 ft.  1610612747   \n",
       "3  Right Side Center(RC)        Mid-Range        16-24 ft.  1610612747   \n",
       "4              Center(C)  Restricted Area  Less Than 8 ft.  1610612747   \n",
       "\n",
       "            team_name   game_date    matchup opponent  shot_id  \n",
       "0  Los Angeles Lakers  2000-10-31  LAL @ POR      POR        1  \n",
       "1  Los Angeles Lakers  2000-10-31  LAL @ POR      POR        2  \n",
       "2  Los Angeles Lakers  2000-10-31  LAL @ POR      POR        3  \n",
       "3  Los Angeles Lakers  2000-10-31  LAL @ POR      POR        4  \n",
       "4  Los Angeles Lakers  2000-10-31  LAL @ POR      POR        5  "
      ]
     },
<<<<<<< HEAD
     "execution_count": 5,
=======
     "execution_count": 4,
>>>>>>> 2e27a2a439dbcefa3123ea3c5caa317425f0d630
     "metadata": {},
     "output_type": "execute_result"
    }
   ],
   "source": [
    "# examine data\n",
    "d.head(5)"
   ]
  },
  {
   "cell_type": "markdown",
   "metadata": {},
   "source": [
    "The provided data includes 24 explanatory variables and one dependent variable.\n",
    "\n",
    "We look at some of the interesting variables.  \n",
    "\n",
    "**Interesting variables:**  \n",
    "    action_type  \n",
    "    combined_shot_type  \n",
    "    court location (loc_x and loc_y)\n",
    "    minutes_remaining + seconds_remaining  \n",
    "    period  \n",
    "    playoffs  \n",
    "    season  \n",
    "    shot_distance  \n",
    "    shot_type  \n",
    "    shot_zone_area  \n",
    "    shot_zone_basic  \n",
    "    shot_zone_range  \n",
    "    opponent\n",
    "    game_date"
   ]
  },
  {
   "cell_type": "code",
<<<<<<< HEAD
   "execution_count": 48,
   "metadata": {},
=======
   "execution_count": 5,
   "metadata": {
    "collapsed": true
   },
>>>>>>> 2e27a2a439dbcefa3123ea3c5caa317425f0d630
   "outputs": [],
   "source": [
    "d1 = d[[\"shot_made_flag\", \"action_type\", \"combined_shot_type\", \"loc_x\", \"loc_y\", \"minutes_remaining\", \"seconds_remaining\", \"period\", \"playoffs\", \"season\", \"shot_distance\", \"shot_type\", \"shot_zone_area\", \"shot_zone_basic\", \"shot_zone_range\", \"opponent\", \"game_date\"]]"
   ]
  },
  {
   "cell_type": "markdown",
   "metadata": {},
   "source": [
    "#### Action type"
   ]
  },
  {
   "cell_type": "code",
<<<<<<< HEAD
   "execution_count": 49,
=======
   "execution_count": 6,
>>>>>>> 2e27a2a439dbcefa3123ea3c5caa317425f0d630
   "metadata": {},
   "outputs": [
    {
     "data": {
      "text/plain": [
       "57"
      ]
     },
<<<<<<< HEAD
     "execution_count": 49,
=======
     "execution_count": 6,
>>>>>>> 2e27a2a439dbcefa3123ea3c5caa317425f0d630
     "metadata": {},
     "output_type": "execute_result"
    }
   ],
   "source": [
    "# number of different action types\n",
    "len(d1[\"action_type\"].unique())"
   ]
  },
  {
   "cell_type": "code",
<<<<<<< HEAD
   "execution_count": 50,
=======
   "execution_count": 7,
>>>>>>> 2e27a2a439dbcefa3123ea3c5caa317425f0d630
   "metadata": {},
   "outputs": [
    {
     "data": {
      "text/plain": [
       "Jump Shot                   18880\n",
       "Layup Shot                   2567\n",
       "Driving Layup Shot           1978\n",
       "Turnaround Jump Shot         1057\n",
       "Fadeaway Jump Shot           1048\n",
       "Running Jump Shot             926\n",
       "Pullup Jump shot              476\n",
       "Turnaround Fadeaway shot      439\n",
       "Slam Dunk Shot                411\n",
       "Reverse Layup Shot            395\n",
       "Name: action_type, dtype: int64"
      ]
     },
<<<<<<< HEAD
     "execution_count": 50,
=======
     "execution_count": 7,
>>>>>>> 2e27a2a439dbcefa3123ea3c5caa317425f0d630
     "metadata": {},
     "output_type": "execute_result"
    }
   ],
   "source": [
    "d1[\"action_type\"].value_counts().head(10)"
   ]
  },
  {
   "cell_type": "code",
<<<<<<< HEAD
   "execution_count": 51,
=======
   "execution_count": 8,
>>>>>>> 2e27a2a439dbcefa3123ea3c5caa317425f0d630
   "metadata": {},
   "outputs": [
    {
     "data": {
      "text/plain": [
<<<<<<< HEAD
       "Running Pull-Up Jump Shot             4\n",
       "Running Finger Roll Shot              4\n",
       "Running Tip Shot                      2\n",
       "Tip Layup Shot                        2\n",
       "Putback Slam Dunk Shot                2\n",
       "Turnaround Finger Roll Shot           2\n",
       "Turnaround Fadeaway Bank Jump Shot    1\n",
       "Running Slam Dunk Shot                1\n",
       "Cutting Finger Roll Layup Shot        1\n",
=======
       "Running Finger Roll Shot              4\n",
       "Running Pull-Up Jump Shot             4\n",
       "Putback Slam Dunk Shot                2\n",
       "Turnaround Finger Roll Shot           2\n",
       "Tip Layup Shot                        2\n",
       "Running Tip Shot                      2\n",
       "Cutting Finger Roll Layup Shot        1\n",
       "Turnaround Fadeaway Bank Jump Shot    1\n",
       "Running Slam Dunk Shot                1\n",
>>>>>>> 2e27a2a439dbcefa3123ea3c5caa317425f0d630
       "Driving Floating Bank Jump Shot       1\n",
       "Name: action_type, dtype: int64"
      ]
     },
<<<<<<< HEAD
     "execution_count": 51,
=======
     "execution_count": 8,
>>>>>>> 2e27a2a439dbcefa3123ea3c5caa317425f0d630
     "metadata": {},
     "output_type": "execute_result"
    }
   ],
   "source": [
    "d1[\"action_type\"].value_counts().tail(10)"
   ]
  },
  {
   "cell_type": "code",
<<<<<<< HEAD
   "execution_count": 52,
=======
   "execution_count": 9,
>>>>>>> 2e27a2a439dbcefa3123ea3c5caa317425f0d630
   "metadata": {},
   "outputs": [
    {
     "data": {
      "image/png": "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\n",
      "text/plain": [
<<<<<<< HEAD
       "<matplotlib.figure.Figure at 0x1a21cd8910>"
=======
       "<matplotlib.figure.Figure at 0xb7f9358>"
>>>>>>> 2e27a2a439dbcefa3123ea3c5caa317425f0d630
      ]
     },
     "metadata": {},
     "output_type": "display_data"
    }
   ],
   "source": [
    "# bar plot of counts of different action types\n",
    "d1[\"shot_made_flag\"].groupby(d1[\"action_type\"]).mean().sort_values().plot.bar(figsize=(12,5)).set_title(\"% Shots Made, by Action Type\")\n",
    "plt.show()"
   ]
  },
  {
   "cell_type": "markdown",
   "metadata": {},
   "source": [
    "We observe that there are many values of action types with very low counts, which makes it difficult to compare them. To mitigate this, we group all action_type values with fewer than 20 occurrances as \"Other Shot\"."
   ]
  },
  {
   "cell_type": "code",
<<<<<<< HEAD
   "execution_count": 53,
   "metadata": {},
   "outputs": [],
=======
   "execution_count": 10,
   "metadata": {},
   "outputs": [
    {
     "name": "stderr",
     "output_type": "stream",
     "text": [
      "C:\\Users\\Desktop\\Anaconda3\\lib\\site-packages\\pandas\\core\\indexing.py:537: SettingWithCopyWarning: \n",
      "A value is trying to be set on a copy of a slice from a DataFrame.\n",
      "Try using .loc[row_indexer,col_indexer] = value instead\n",
      "\n",
      "See the caveats in the documentation: http://pandas.pydata.org/pandas-docs/stable/indexing.html#indexing-view-versus-copy\n",
      "  self.obj[item] = s\n"
     ]
    }
   ],
>>>>>>> 2e27a2a439dbcefa3123ea3c5caa317425f0d630
   "source": [
    "action_type_counts = d1[\"action_type\"].value_counts()\n",
    "d1.loc[d1[\"action_type\"].isin(action_type_counts.index[action_type_counts<20]), 'action_type'] = \"Other Shot\""
   ]
  },
  {
   "cell_type": "code",
<<<<<<< HEAD
   "execution_count": 54,
=======
   "execution_count": 11,
>>>>>>> 2e27a2a439dbcefa3123ea3c5caa317425f0d630
   "metadata": {},
   "outputs": [
    {
     "data": {
      "text/plain": [
       "34"
      ]
     },
<<<<<<< HEAD
     "execution_count": 54,
=======
     "execution_count": 11,
>>>>>>> 2e27a2a439dbcefa3123ea3c5caa317425f0d630
     "metadata": {},
     "output_type": "execute_result"
    }
   ],
   "source": [
    "# fewer action types compared to original 57\n",
    "len(d1[\"action_type\"].unique())"
   ]
  },
  {
   "cell_type": "markdown",
   "metadata": {},
   "source": [
    "We can then analyze the average made percentage for each action type."
   ]
  },
  {
   "cell_type": "code",
<<<<<<< HEAD
   "execution_count": 55,
=======
   "execution_count": 12,
>>>>>>> 2e27a2a439dbcefa3123ea3c5caa317425f0d630
   "metadata": {
    "scrolled": true
   },
   "outputs": [
    {
     "data": {
      "image/png": "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\n",
      "text/plain": [
<<<<<<< HEAD
       "<matplotlib.figure.Figure at 0x1177c4c90>"
=======
       "<matplotlib.figure.Figure at 0x5b13dd8>"
>>>>>>> 2e27a2a439dbcefa3123ea3c5caa317425f0d630
      ]
     },
     "metadata": {},
     "output_type": "display_data"
    }
   ],
   "source": [
    "# sorted by least accurate action type to most accurate\n",
    "d1[\"shot_made_flag\"].groupby(d1[\"action_type\"]).mean().sort_values().plot.bar(figsize=(12,5)).set_title(\"% Shots Made, by Action Type\")\n",
    "plt.show()"
   ]
  },
  {
   "cell_type": "markdown",
   "metadata": {
    "collapsed": true
   },
   "source": [
    "We observe that there does seem to be a correlation between shot_made_flag and action_type, in that certain types of shots are successfully made more often than other types of shots."
   ]
  },
  {
   "cell_type": "markdown",
   "metadata": {},
   "source": [
    "#### Combined shot type"
   ]
  },
  {
   "cell_type": "code",
<<<<<<< HEAD
   "execution_count": 56,
=======
   "execution_count": 13,
>>>>>>> 2e27a2a439dbcefa3123ea3c5caa317425f0d630
   "metadata": {},
   "outputs": [
    {
     "data": {
      "text/plain": [
       "6"
      ]
     },
<<<<<<< HEAD
     "execution_count": 56,
=======
     "execution_count": 13,
>>>>>>> 2e27a2a439dbcefa3123ea3c5caa317425f0d630
     "metadata": {},
     "output_type": "execute_result"
    }
   ],
   "source": [
    "# number of different combined shot types\n",
    "len(d1[\"combined_shot_type\"].unique())"
   ]
  },
  {
   "cell_type": "code",
<<<<<<< HEAD
   "execution_count": 57,
=======
   "execution_count": 14,
>>>>>>> 2e27a2a439dbcefa3123ea3c5caa317425f0d630
   "metadata": {},
   "outputs": [
    {
     "data": {
      "text/plain": [
       "Jump Shot    23485\n",
       "Layup         5448\n",
       "Dunk          1286\n",
       "Tip Shot       184\n",
       "Hook Shot      153\n",
       "Bank Shot      141\n",
       "Name: combined_shot_type, dtype: int64"
      ]
     },
<<<<<<< HEAD
     "execution_count": 57,
=======
     "execution_count": 14,
>>>>>>> 2e27a2a439dbcefa3123ea3c5caa317425f0d630
     "metadata": {},
     "output_type": "execute_result"
    }
   ],
   "source": [
    "d1[\"combined_shot_type\"].value_counts()"
   ]
  },
  {
   "cell_type": "code",
<<<<<<< HEAD
   "execution_count": 58,
=======
   "execution_count": 15,
>>>>>>> 2e27a2a439dbcefa3123ea3c5caa317425f0d630
   "metadata": {},
   "outputs": [
    {
     "data": {
      "image/png": "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\n",
      "text/plain": [
<<<<<<< HEAD
       "<matplotlib.figure.Figure at 0x117dd71d0>"
=======
       "<matplotlib.figure.Figure at 0xc754e48>"
>>>>>>> 2e27a2a439dbcefa3123ea3c5caa317425f0d630
      ]
     },
     "metadata": {},
     "output_type": "display_data"
    }
   ],
   "source": [
    "# we look at how many shots were made on average of each combined shot type\n",
    "# sorted by least accurate action type to most accurate\n",
    "d1[\"shot_made_flag\"].groupby(d1[\"combined_shot_type\"]).mean().sort_values().plot.bar(figsize=(12,5)).set_title(\"% Shots Made, by Combined Shot Type\")\n",
    "plt.show()"
   ]
  },
  {
   "cell_type": "markdown",
   "metadata": {
    "collapsed": true
   },
   "source": [
    "Similar to action_type, we observe some correlation between shot_made_flag and combined_shot_type. This makes intuitive sense, as combined_shot_type is a summarized form of action_type. Specifically, Kobe made Dunk and Bank Shots more frequently than Tip Shots or Jump Shots."
   ]
  },
  {
   "cell_type": "markdown",
   "metadata": {},
   "source": [
    "#### Loc x and loc y"
   ]
  },
  {
   "cell_type": "markdown",
   "metadata": {},
   "source": [
    "We can visualize the locations on the court where shots were made or not made using loc_x and loc_y. In the below plots, made shots are red and missed shots are blue."
   ]
  },
  {
   "cell_type": "code",
<<<<<<< HEAD
   "execution_count": 59,
   "metadata": {},
   "outputs": [
    {
     "data": {
      "text/plain": [
       "<matplotlib.figure.Figure at 0x1a2258d610>"
=======
   "execution_count": 16,
   "metadata": {},
   "outputs": [
    {
     "name": "stderr",
     "output_type": "stream",
     "text": [
      "C:\\Users\\Desktop\\Anaconda3\\lib\\site-packages\\matplotlib\\colors.py:489: RuntimeWarning: invalid value encountered in less\n",
      "  np.copyto(xa, -1, where=xa < 0.0)\n"
     ]
    },
    {
     "data": {
      "text/plain": [
       "<matplotlib.figure.Figure at 0xc8fc320>"
>>>>>>> 2e27a2a439dbcefa3123ea3c5caa317425f0d630
      ]
     },
     "metadata": {},
     "output_type": "display_data"
    },
    {
     "data": {
      "image/png": "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\n",
      "text/plain": [
<<<<<<< HEAD
       "<matplotlib.figure.Figure at 0x117dd4390>"
=======
       "<matplotlib.figure.Figure at 0xc75bf60>"
>>>>>>> 2e27a2a439dbcefa3123ea3c5caa317425f0d630
      ]
     },
     "metadata": {},
     "output_type": "display_data"
    }
   ],
   "source": [
    "# loc_x = left-right along the endline with 0 centered at the basket)\n",
    "# loc_y  = positive towards halfcourt with 0 being the basket)\n",
    "cmap = plt.cm.get_cmap('bwr')\n",
    "plt.figure(figsize=(7,5))\n",
    "d1.plot(x=\"loc_x\", y=\"loc_y\", kind='scatter', c = d1[\"shot_made_flag\"].map(cmap), alpha=0.8).set_title(\"Shots missed and made based on x and y loc\")\n",
    "plt.show()"
   ]
  },
  {
   "cell_type": "code",
<<<<<<< HEAD
   "execution_count": 60,
=======
   "execution_count": 17,
>>>>>>> 2e27a2a439dbcefa3123ea3c5caa317425f0d630
   "metadata": {},
   "outputs": [
    {
     "data": {
      "image/png": "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\n",
      "text/plain": [
<<<<<<< HEAD
       "<matplotlib.figure.Figure at 0x1a258d40d0>"
=======
       "<matplotlib.figure.Figure at 0xc7bfba8>"
>>>>>>> 2e27a2a439dbcefa3123ea3c5caa317425f0d630
      ]
     },
     "metadata": {},
     "output_type": "display_data"
    }
   ],
   "source": [
    "plt.figure(figsize=(14,5))\n",
    "plt.subplot(1,2,1)\n",
    "plt.scatter(d1[\"loc_x\"][d1['shot_made_flag']==0], d1[\"loc_y\"][d1['shot_made_flag']==0], c = 'b', alpha=0.8)\n",
    "plt.xlabel(\"loc_x\")\n",
    "plt.ylabel(\"loc_y\")\n",
    "plt.title(\"Shots missed based on x and y loc\")\n",
    "plt.subplot(1,2,2)\n",
    "plt.scatter(d1[\"loc_x\"][d1['shot_made_flag']==1], d1[\"loc_y\"][d1['shot_made_flag']==1], c = 'r', alpha=0.8)\n",
    "plt.ylim(ymax=800)\n",
    "plt.xlabel(\"loc_x\")\n",
    "plt.ylabel(\"loc_y\")\n",
    "plt.title(\"Shots made based on x and y loc\")\n",
    "plt.show()"
   ]
  },
  {
   "cell_type": "markdown",
   "metadata": {},
   "source": [
    "We observe that location does impact likelihood of making a shot. We can derive a new feature, loc_cluster, by clustering the shot locations into 10 groups using GM modeling."
   ]
  },
  {
   "cell_type": "code",
<<<<<<< HEAD
   "execution_count": 61,
=======
   "execution_count": 18,
>>>>>>> 2e27a2a439dbcefa3123ea3c5caa317425f0d630
   "metadata": {
    "scrolled": true
   },
   "outputs": [
    {
<<<<<<< HEAD
     "data": {
      "text/plain": [
       "Text(0.5,1,u'Location Clusters')"
      ]
     },
     "execution_count": 61,
=======
     "name": "stderr",
     "output_type": "stream",
     "text": [
      "C:\\Users\\Desktop\\Anaconda3\\lib\\site-packages\\pandas\\core\\indexing.py:357: SettingWithCopyWarning: \n",
      "A value is trying to be set on a copy of a slice from a DataFrame.\n",
      "Try using .loc[row_indexer,col_indexer] = value instead\n",
      "\n",
      "See the caveats in the documentation: http://pandas.pydata.org/pandas-docs/stable/indexing.html#indexing-view-versus-copy\n",
      "  self.obj[key] = _infer_fill_value(value)\n",
      "C:\\Users\\Desktop\\Anaconda3\\lib\\site-packages\\pandas\\core\\indexing.py:537: SettingWithCopyWarning: \n",
      "A value is trying to be set on a copy of a slice from a DataFrame.\n",
      "Try using .loc[row_indexer,col_indexer] = value instead\n",
      "\n",
      "See the caveats in the documentation: http://pandas.pydata.org/pandas-docs/stable/indexing.html#indexing-view-versus-copy\n",
      "  self.obj[item] = s\n"
     ]
    },
    {
     "data": {
      "text/plain": [
       "Text(0.5,1,'Location Clusters')"
      ]
     },
     "execution_count": 18,
>>>>>>> 2e27a2a439dbcefa3123ea3c5caa317425f0d630
     "metadata": {},
     "output_type": "execute_result"
    },
    {
     "data": {
<<<<<<< HEAD
      "image/png": "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\n",
      "text/plain": [
       "<matplotlib.figure.Figure at 0x1a259f27d0>"
=======
      "image/png": "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\n",
      "text/plain": [
       "<matplotlib.figure.Figure at 0xd0d83c8>"
>>>>>>> 2e27a2a439dbcefa3123ea3c5caa317425f0d630
      ]
     },
     "metadata": {},
     "output_type": "display_data"
    }
   ],
   "source": [
    "## location matters especially when Kobe is far from the basket\n",
    "# group coordinates into clusters using GMM\n",
    "loc_x_y = GaussianMixture(n_components=10, covariance_type=\"full\")\n",
    "loc_x_y.fit(d1.loc[:,(\"loc_x\", \"loc_y\")])\n",
    "d1.loc[:,\"loc_cluster\"] = loc_x_y.predict(d1.loc[:,(\"loc_x\", \"loc_y\")])\n",
    "d1.plot(x=\"loc_x\", y=\"loc_y\", kind='scatter', c = d1[\"loc_cluster\"], alpha=0.8).set_title(\"Location Clusters\")"
   ]
  },
  {
   "cell_type": "markdown",
   "metadata": {},
   "source": [
    "There does appear to be a relationship between court location and shot_made_flag. Specifically, shots taken farther from the basket are less likely to make it in than closer shots."
   ]
  },
  {
   "cell_type": "markdown",
   "metadata": {},
   "source": [
    "#### Minutes remaining + seconds remaining"
   ]
  },
  {
   "cell_type": "markdown",
   "metadata": {},
   "source": [
    "We combined minutes_remaining and seconds_remaining to get the total time remaining in the current period."
   ]
  },
  {
   "cell_type": "code",
<<<<<<< HEAD
   "execution_count": 62,
   "metadata": {},
   "outputs": [],
=======
   "execution_count": 19,
   "metadata": {},
   "outputs": [
    {
     "name": "stderr",
     "output_type": "stream",
     "text": [
      "C:\\Users\\Desktop\\Anaconda3\\lib\\site-packages\\pandas\\core\\indexing.py:357: SettingWithCopyWarning: \n",
      "A value is trying to be set on a copy of a slice from a DataFrame.\n",
      "Try using .loc[row_indexer,col_indexer] = value instead\n",
      "\n",
      "See the caveats in the documentation: http://pandas.pydata.org/pandas-docs/stable/indexing.html#indexing-view-versus-copy\n",
      "  self.obj[key] = _infer_fill_value(value)\n",
      "C:\\Users\\Desktop\\Anaconda3\\lib\\site-packages\\pandas\\core\\indexing.py:537: SettingWithCopyWarning: \n",
      "A value is trying to be set on a copy of a slice from a DataFrame.\n",
      "Try using .loc[row_indexer,col_indexer] = value instead\n",
      "\n",
      "See the caveats in the documentation: http://pandas.pydata.org/pandas-docs/stable/indexing.html#indexing-view-versus-copy\n",
      "  self.obj[item] = s\n"
     ]
    }
   ],
>>>>>>> 2e27a2a439dbcefa3123ea3c5caa317425f0d630
   "source": [
    "# combine two time variables as total seconds\n",
    "d1.loc[:,\"time_remaining\"] = (d1.loc[:,\"minutes_remaining\"]*60) + d1.loc[:,\"seconds_remaining\"]"
   ]
  },
  {
   "cell_type": "code",
<<<<<<< HEAD
   "execution_count": 63,
=======
   "execution_count": 20,
>>>>>>> 2e27a2a439dbcefa3123ea3c5caa317425f0d630
   "metadata": {},
   "outputs": [
    {
     "data": {
      "image/png": "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\n",
      "text/plain": [
<<<<<<< HEAD
       "<matplotlib.figure.Figure at 0x1a2258d650>"
=======
       "<matplotlib.figure.Figure at 0xc58c048>"
>>>>>>> 2e27a2a439dbcefa3123ea3c5caa317425f0d630
      ]
     },
     "metadata": {},
     "output_type": "display_data"
    }
   ],
   "source": [
    "# we look at how many shots were made with how many seconds remaining in the game\n",
    "# sorted by least accurate action type to most accurate\n",
    "plt.figure(figsize=(14,5))\n",
    "plt.subplot(1,2,1)\n",
    "plt.hist(d1[\"time_remaining\"][d1['shot_made_flag']==0], bins = 50, color = 'b', alpha=0.8)\n",
    "plt.ylim(ymax=800)\n",
    "plt.xlabel(\"Seconds remaining\")\n",
    "plt.ylabel(\"# of shots\")\n",
    "plt.title(\"Shots missed\")\n",
    "plt.subplot(1,2,2)\n",
    "plt.hist(d1[\"time_remaining\"][d1['shot_made_flag']==1], bins = 50, color = 'r', alpha=0.8)\n",
    "plt.ylim(ymax=800)\n",
    "plt.xlabel(\"Seconds remaining\")\n",
    "plt.ylabel(\"# of shots\")\n",
    "plt.title(\"Shots made\")\n",
    "plt.show()"
   ]
  },
  {
   "cell_type": "markdown",
   "metadata": {
    "collapsed": true
   },
   "source": [
    "There appears to be a correlation between time remaining and whether or not the basket is made, _especially_ when the time remaining is very small (< 30 seconds).\n",
    "\n",
    "We can create a new boolean variable to indicate whether or not the shot was taken in the last 3 seconds of the period."
   ]
  },
  {
   "cell_type": "code",
<<<<<<< HEAD
   "execution_count": 64,
   "metadata": {},
   "outputs": [
    {
=======
   "execution_count": 21,
   "metadata": {},
   "outputs": [
    {
     "name": "stderr",
     "output_type": "stream",
     "text": [
      "C:\\Users\\Desktop\\Anaconda3\\lib\\site-packages\\pandas\\core\\indexing.py:357: SettingWithCopyWarning: \n",
      "A value is trying to be set on a copy of a slice from a DataFrame.\n",
      "Try using .loc[row_indexer,col_indexer] = value instead\n",
      "\n",
      "See the caveats in the documentation: http://pandas.pydata.org/pandas-docs/stable/indexing.html#indexing-view-versus-copy\n",
      "  self.obj[key] = _infer_fill_value(value)\n",
      "C:\\Users\\Desktop\\Anaconda3\\lib\\site-packages\\pandas\\core\\indexing.py:537: SettingWithCopyWarning: \n",
      "A value is trying to be set on a copy of a slice from a DataFrame.\n",
      "Try using .loc[row_indexer,col_indexer] = value instead\n",
      "\n",
      "See the caveats in the documentation: http://pandas.pydata.org/pandas-docs/stable/indexing.html#indexing-view-versus-copy\n",
      "  self.obj[item] = s\n"
     ]
    },
    {
>>>>>>> 2e27a2a439dbcefa3123ea3c5caa317425f0d630
     "data": {
      "text/plain": [
       "Text(0.5,1,u'% Shots Made, if made in last 30 seconds')"
      ]
     },
<<<<<<< HEAD
     "execution_count": 64,
=======
     "execution_count": 21,
>>>>>>> 2e27a2a439dbcefa3123ea3c5caa317425f0d630
     "metadata": {},
     "output_type": "execute_result"
    },
    {
     "data": {
      "image/png": "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\n",
      "text/plain": [
<<<<<<< HEAD
       "<matplotlib.figure.Figure at 0x117ae3590>"
=======
       "<matplotlib.figure.Figure at 0xc5ee358>"
>>>>>>> 2e27a2a439dbcefa3123ea3c5caa317425f0d630
      ]
     },
     "metadata": {},
     "output_type": "display_data"
    }
   ],
   "source": [
    "d1.loc[:,'made_in_last_30'] = d1.loc[:,'time_remaining']<=30\n",
    "d1[\"shot_made_flag\"].groupby(d1[\"made_in_last_30\"]).mean().sort_values().plot.bar(figsize=(12,5)).set_title(\"% Shots Made, if made in last 30 seconds\")"
   ]
  },
  {
   "cell_type": "markdown",
   "metadata": {},
   "source": [
    "#### Playoffs"
   ]
  },
  {
   "cell_type": "code",
<<<<<<< HEAD
   "execution_count": 65,
=======
   "execution_count": 22,
>>>>>>> 2e27a2a439dbcefa3123ea3c5caa317425f0d630
   "metadata": {},
   "outputs": [
    {
     "data": {
      "text/plain": [
       "Text(0.5,1,u'% Shots Made, by Game Playoffs Status')"
      ]
     },
<<<<<<< HEAD
     "execution_count": 65,
=======
     "execution_count": 22,
>>>>>>> 2e27a2a439dbcefa3123ea3c5caa317425f0d630
     "metadata": {},
     "output_type": "execute_result"
    },
    {
     "data": {
      "image/png": "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\n",
      "text/plain": [
<<<<<<< HEAD
       "<matplotlib.figure.Figure at 0x117acb4d0>"
=======
       "<matplotlib.figure.Figure at 0xd094518>"
>>>>>>> 2e27a2a439dbcefa3123ea3c5caa317425f0d630
      ]
     },
     "metadata": {},
     "output_type": "display_data"
    }
   ],
   "source": [
    "d1[\"shot_made_flag\"].groupby(d1[\"playoffs\"]).mean().sort_values().plot.bar(figsize=(12,5)).set_title(\"% Shots Made, by Game Playoffs Status\")\n"
   ]
  },
  {
   "cell_type": "markdown",
   "metadata": {},
   "source": [
    "There does not appear to be any correlation between shot_made_flag and playoffs."
   ]
  },
  {
   "cell_type": "markdown",
   "metadata": {},
   "source": [
    "#### Period"
   ]
  },
  {
   "cell_type": "code",
<<<<<<< HEAD
   "execution_count": 66,
=======
   "execution_count": 23,
>>>>>>> 2e27a2a439dbcefa3123ea3c5caa317425f0d630
   "metadata": {},
   "outputs": [
    {
     "data": {
      "text/plain": [
       "7       7\n",
       "6      38\n",
       "5     330\n",
       "2    6718\n",
       "4    7260\n",
       "1    8048\n",
       "3    8296\n",
       "Name: period, dtype: int64"
      ]
     },
<<<<<<< HEAD
     "execution_count": 66,
=======
     "execution_count": 23,
>>>>>>> 2e27a2a439dbcefa3123ea3c5caa317425f0d630
     "metadata": {},
     "output_type": "execute_result"
    }
   ],
   "source": [
    "d1[\"period\"].value_counts().sort_values()"
   ]
  },
  {
   "cell_type": "markdown",
   "metadata": {
    "collapsed": true
   },
   "source": [
    "Basketball games are played on four quarters/periods but we see that the data has records up to the 7th period.\n",
    "\n",
    "We can assume that periods 5-7 are overtime periods, which last about half the time of regular periods. It also makes sense that there are significantly fewer shots taken in periods 5-7 above. "
   ]
  },
  {
   "cell_type": "code",
<<<<<<< HEAD
   "execution_count": 67,
=======
   "execution_count": 24,
>>>>>>> 2e27a2a439dbcefa3123ea3c5caa317425f0d630
   "metadata": {},
   "outputs": [
    {
     "data": {
      "image/png": "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\n",
      "text/plain": [
<<<<<<< HEAD
       "<matplotlib.figure.Figure at 0x1a259d9650>"
=======
       "<matplotlib.figure.Figure at 0xd071908>"
>>>>>>> 2e27a2a439dbcefa3123ea3c5caa317425f0d630
      ]
     },
     "metadata": {},
     "output_type": "display_data"
    }
   ],
   "source": [
    "d1[\"shot_made_flag\"].groupby(d1[\"period\"]).mean().plot.bar(figsize=(12,5)).set_title(\"% Shots Made, by Period\")\n",
    "plt.show()"
   ]
  },
  {
   "cell_type": "markdown",
   "metadata": {},
   "source": [
    "There does not appear to be a relationship between period and shot_made_flag."
   ]
  },
  {
   "cell_type": "markdown",
   "metadata": {},
   "source": [
    "#### Season"
   ]
  },
  {
   "cell_type": "code",
<<<<<<< HEAD
   "execution_count": 68,
=======
   "execution_count": 25,
>>>>>>> 2e27a2a439dbcefa3123ea3c5caa317425f0d630
   "metadata": {},
   "outputs": [
    {
     "data": {
      "image/png": "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\n",
      "text/plain": [
<<<<<<< HEAD
       "<matplotlib.figure.Figure at 0x1a259d8710>"
=======
       "<matplotlib.figure.Figure at 0xc1df400>"
>>>>>>> 2e27a2a439dbcefa3123ea3c5caa317425f0d630
      ]
     },
     "metadata": {},
     "output_type": "display_data"
    }
   ],
   "source": [
    "# we look at how many shots were made on average during each season Kobe played\n",
    "d1[\"shot_made_flag\"].groupby(d1[\"season\"]).mean().plot.bar(figsize=(12,5)).set_title(\"% Shots Made, by Season\")\n",
    "plt.show()\n"
   ]
  },
  {
   "cell_type": "markdown",
   "metadata": {
    "collapsed": true
   },
   "source": [
    "We see a gradual decrease in average baskets made per season towards the last few years before his retirement. Kobe has previously said in interviews that 2012-13 season was his greatest and the season that marked the beginning of the end of his career, which is represented correctly in the plot above. Prior to that, Kobe was quite consistent throughout his career."
   ]
  },
  {
   "cell_type": "markdown",
   "metadata": {},
   "source": [
    "#### Shot distance"
   ]
  },
  {
   "cell_type": "code",
<<<<<<< HEAD
   "execution_count": 69,
=======
   "execution_count": 26,
>>>>>>> 2e27a2a439dbcefa3123ea3c5caa317425f0d630
   "metadata": {},
   "outputs": [
    {
     "data": {
      "image/png": "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\n",
      "text/plain": [
<<<<<<< HEAD
       "<matplotlib.figure.Figure at 0x1a2192e610>"
=======
       "<matplotlib.figure.Figure at 0xd0f7e80>"
>>>>>>> 2e27a2a439dbcefa3123ea3c5caa317425f0d630
      ]
     },
     "metadata": {},
     "output_type": "display_data"
    }
   ],
   "source": [
    "# we look at how many shots were made on average at different distance\n",
    "d1[\"shot_made_flag\"].groupby(d1[\"shot_distance\"]).mean().plot.bar(figsize=(12,5)).set_title(\"% Shots Made, by Shot Distance\")\n",
    "plt.show()\n"
   ]
  },
  {
   "cell_type": "code",
<<<<<<< HEAD
   "execution_count": 70,
=======
   "execution_count": 27,
>>>>>>> 2e27a2a439dbcefa3123ea3c5caa317425f0d630
   "metadata": {
    "scrolled": true
   },
   "outputs": [
    {
     "data": {
      "image/png": "iVBORw0KGgoAAAANSUhEUgAAA00AAAFNCAYAAADcnIQFAAAABHNCSVQICAgIfAhkiAAAAAlwSFlzAAALEgAACxIB0t1+/AAAADl0RVh0U29mdHdhcmUAbWF0cGxvdGxpYiB2ZXJzaW9uIDIuMS4yLCBodHRwOi8vbWF0cGxvdGxpYi5vcmcvNQv5yAAAIABJREFUeJzt3X+UZGV95/H3RwaJ4g9QRg4CBtRRRFcRW8T4Y4kogjGiiURITJAYMVlcfxyjQTdnMbpmTdZIwsaYoCD4IyCK6GiIiKhR16AMCgiMxBFRRkZmEAT8ERT87h/1tBZDz+2amb5V1dPv1zl9quq5z733W9XV/a3vvc99KlWFJEmSJGlud5t0AJIkSZI0zSyaJEmSJKmDRZMkSZIkdbBokiRJkqQOFk2SJEmS1MGiSZIkSZI6WDRJm5DkRUm+MOk45pPkX5McPcb9VZKHjmt/kqTRLJa8tbnMO5oGFk1a0pI8OckXk9yc5MYk/y/J4xdgu29I8r6FiHE+VXVYVZ0+jn1JkiZrW8hb0mK0bNIBSJOS5D7Ax4E/Ac4C7g48BbhtknFJkjQX85Y0OZ5p0lL2MICqOqOq7qiqn1TVJ6vqsuFOSd6a5KYk30py2FD7A5OsbEf61iR5SWs/FHg98IIkP0xyaWt/UZKrk9zatvV7cwXVjvZ9MMn7Wt+vJXlYktclWZ/k2iSHDPX/bJI/avcfmuTf2hHIG5J8oLUnyYlt/ZuTXJbkUW3ZDu05fifJ9Un+Mck9hrb/miTrklyX5A8X5qWXJG2BbSVvHZNkdet7dZKXbrS9Tead+XKW1BeLJi1l/wHckeT0JIcl2XmOPk8ArgJ2Af4aOCVJ2rIzgLXAA4HnA3+Z5OCq+gTwl8AHqupeVfWYJDsCJwGHVdW9gV8DLumI7TeB9wI7A18FzmPw97o78Ebgnzax3puAT7b19gD+b2s/BHgqg4S7E/AC4Ptt2V+19v2Ah7Z9/E/4RSL9U+AZwArg6R0xS5L6ta3krfXAs4H7AMcAJybZH0bKO5vMWVKfLJq0ZFXVLcCTgQLeCWxoR+B2Her27ap6Z1XdAZwO7AbsmmTPtu6fVdV/VtUlwLuA3+/Y5c+BRyW5R1Wtq6orOvp+vqrOq6rbgQ8Cy4G3VNXPgDOBvZLsNMd6PwN+FXhgi+sLQ+33BvYBUlWrq2pdS6QvAV5VVTdW1a0MEueRbb3fAd5dVZdX1Y+AN3TELEnq0baSt6rqX6rqmzXwbwwO9j2lbWeTeWeEnCX1xqJJS1orHl5UVXsAj2Jw9O1vh7p8b6jvj9vde7V+s/+wZ32bwRGvufbzIwZnd/4YWJfkX5Ls0xHa9UP3fwLc0BLg7OPZODb2WiDAl5NcMTusoao+Dfw98Hbg+iQnZzA2fjlwT+DiJD9I8gPgE62d9jyv3eg5SpImZFvIW+0s2YVtmOAPgGcxODMG3Xlnvpwl9caiSWqq6uvAaQyS0HyuA+6X5N5DbQ8Cvju7uTm2f15VPYPBUb+vMzhKuKCq6ntV9ZKqeiDwUuAf0qZpraqTqupxwCMZDG14DXADg2T2yKraqf3ct6pmC7J1wJ4bPUdJ0hRYjHkryQ7A2cBbgV2raifgXAYH/KA778yXs6TeWDRpyUqyT5JXJ9mjPd4TOAq4cL51q+pa4IvA/07yK0keDbwYeH/rcj2DoQh3a9veNclz2hjx24AfAnfMsemtfU5HzD4f4CYGSfCOJI9P8oQk2wM/Av4TuKOqfs4gCZ6Y5AFtG7sneWbbxlnAi5Lsm+SewAkLHbMkaTTbSN66O7ADsAG4vU1UccjQ8k3mnRFyltQbiyYtZbcyuGD2S0l+xCDpXA68esT1jwL2YnD07hzghKo6vy37YLv9fpKvMPhbe3XreyPwX4H/tgDPYWOPZ/B8fgisBF5RVd9icLHtOxkUUt9mMAnEW9s6fwasAS5McgvwKeDhAFX1rwyGfXy69fl0DzFLkkaz6PNWGx74cgbF0U3A7zLIV7PL58s7m8xZUp9SdZezsZIkSZKkxjNNkiRJktSht6KpjZf9cpJL2yxef9Ha907ypSTfSPKBJHdv7Tu0x2va8r2GtvW61n6V41YlSQvBPCVJGlWfZ5puA55WVY9h8AVkhyY5kMGXkp1YVSsYjGV9cev/YuCmqnoocGLrR5J9Gcy//0jgUAazgW3XY9ySpKXBPCVJGklvRVP7wrIftofbt58CngZ8qLWfDjy33T+8PaYtP7h9idnhwJlVdVu7oH0NcEBfcUuSlgbzlCRpVL1e05RkuySXAOuB84FvAj9o3xYNsJZffqna7rQvM2vLbwbuP9w+xzqSJG0x85QkaRTL+tx4+ybo/ZLsxGBqy0fM1a3dZhPLNtV+J0mOBY4F2HHHHR+3zz5dX1otSRqHiy+++IaqWj7pODZlnHkKFjhXrV49Wr9HzPWUJEkwep7qtWiaVVU/SPJZ4EBgpyTL2lG6PRjM/w+DI3N7AmuTLAPuy+B7AWbbZw2vM7yPk4GTAWZmZmrVqlU9PRtJ0qiSfHvSMYxiHHmq7WfhctXMzGj9zIeStEmj5qk+Z89b3o7ckeQewNOB1cBngOe3bkcDH233V7bHtOWfrsGXSK0EjmyzFu0NrAC+3FfckqSlwTwlSRpVn2eadgNObzMI3Q04q6o+nuRK4Mwk/wv4KnBK638K8N4kaxgcuTsSoKquSHIWcCVwO3BcG04hSdLWME9JkkaSwUGybYvD8yRpOiS5uKpGHEe2tDg8T5Imb9Q81evseZIkSZK02Fk0SZIkSVIHiyZJkiRJ6mDRJEmSJEkdLJokSZIkqYNFkyRJkiR1sGiSJEmSpA4WTZIkSZLUwaJJkiRJkjpYNEmSJElSB4smSZIkSepg0SRJkiRJHSyaJEmSJKmDRZMkSZIkdbBokiRJkqQOFk2SJEmS1MGiSZIkSZI6WDRJkiRJUgeLJkmSJEnqYNEkSZIkSR0smiRJkiSpg0WTJEmSJHWwaJIkSZKkDhZNkiRJktTBokmSJEmSOlg0SZIkSVIHiyZJkiRJ6mDRJEmSJEkdLJokSZIkqYNFkyRJkiR1sGiSJEmSpA4WTZIkSZLUwaJJkiRJkjosm3QA0lxmZkbvu2pVf3FIkiRJnmmSJEmSpA4WTZIkSZLUobeiKcmeST6TZHWSK5K8orW/Icl3k1zSfp41tM7rkqxJclWSZw61H9ra1iQ5vq+YJUlLh3lKkjSqPq9puh14dVV9Jcm9gYuTnN+WnVhVbx3unGRf4EjgkcADgU8leVhb/HbgGcBa4KIkK6vqyh5jlyRt+8xTkqSR9FY0VdU6YF27f2uS1cDuHascDpxZVbcB30qyBjigLVtTVVcDJDmz9TUZSZK2mHlKkjSqsVzTlGQv4LHAl1rTy5JcluTUJDu3tt2Ba4dWW9vaNtUuSdKCME9Jkrr0XjQluRdwNvDKqroFeAfwEGA/Bkf4/ma26xyrV0f7xvs5NsmqJKs2bNiwILFLkrZ948pTbV/mKklahHotmpJszyARvb+qPgxQVddX1R1V9XPgnfxyaMNaYM+h1fcArutov5OqOrmqZqpqZvny5Qv/ZCRJ25xx5qm2bXOVJC1Cfc6eF+AUYHVVvW2ofbehbs8DLm/3VwJHJtkhyd7ACuDLwEXAiiR7J7k7g4twV/YVtyRpaTBPSZJG1efseU8Cfh/4WpJLWtvrgaOS7Mdg6MI1wEsBquqKJGcxuHD2duC4qroDIMnLgPOA7YBTq+qKHuOWJC0N5ilJ0kj6nD3vC8w9zvvcjnXeDLx5jvZzu9aTJGlzmackSaMay+x5kiRJkrRYWTRJkiRJUgeLJkmSJEnqYNEkSZIkSR0smiRJkiSpg0WTJEmSJHWwaJIkSZKkDhZNkiRJktTBokmSJEmSOlg0SZIkSVIHiyZJkiRJ6mDRJEmSJEkdLJokSZIkqYNFkyRJkiR1sGiSJEmSpA4WTZIkSZLUwaJJkiRJkjpYNEmSJElSB4smSZIkSepg0SRJkiRJHSyaJEmSJKmDRZMkSZIkdbBokiRJkqQOFk2SJEmS1MGiSZIkSZI6LJt0AJpOMzOj9121qr84JEmSpEnzTJMkSZIkdbBokiRJkqQOFk2SJEmS1MGiSZIkSZI6WDRJkiRJUgeLJkmSJEnqYNEkSZIkSR38nqZNGPV7ivyOIkmSJGnb5pkmSZIkSepg0SRJkiRJHSyaJEmSJKlDb0VTkj2TfCbJ6iRXJHlFa79fkvOTfKPd7tzak+SkJGuSXJZk/6FtHd36fyPJ0X3FLElaOsxTkqRR9Xmm6Xbg1VX1COBA4Lgk+wLHAxdU1QrggvYY4DBgRfs5FngHDJIXcALwBOAA4ITZBCZJ0lYwT0mSRtJb0VRV66rqK+3+rcBqYHfgcOD01u104Lnt/uHAe2rgQmCnJLsBzwTOr6obq+om4Hzg0L7iliQtDeYpSdKoxnJNU5K9gMcCXwJ2rap1MEhYwANat92Ba4dWW9vaNtUuSdKCME9Jkrr0XjQluRdwNvDKqrqlq+scbdXRvvF+jk2yKsmqDRs2bFmwkqQlZ1x5qu3LXCVJi1CvRVOS7RkkovdX1Ydb8/VtOAPtdn1rXwvsObT6HsB1He13UlUnV9VMVc0sX758YZ+IJGmbNM48BeYqSVqs+pw9L8ApwOqqetvQopXA7MxCRwMfHWr/gzY70YHAzW1YxHnAIUl2bhfWHtLaJEnaYuYpSdKolvW47ScBvw98Lcklre31wFuAs5K8GPgOcERbdi7wLGAN8GPgGICqujHJm4CLWr83VtWNPcYtSVoazFOSpJH0VjRV1ReYe5w3wMFz9C/guE1s61Tg1IWLTpK01JmnJEmjGsvseZIkSZK0WFk0SZIkSVIHiyZJkiRJ6mDRJEmSJEkdLJokSZIkqYNFkyRJkiR1sGiSJEmSpA4WTZIkSZLUwaJJkiRJkjpYNEmSJElSB4smSZIkSepg0SRJkiRJHSyaJEmSJKmDRZMkSZIkdbBokiRJkqQOFk2SJEmS1GHeoinJQ5Ls0O4flOTlSXbqPzRJkuZnnpIk9W2UM01nA3ckeShwCrA38M+9RiVJ0ujMU5KkXo1SNP28qm4Hngf8bVW9Ctit37AkSRqZeUqS1KtRiqafJTkKOBr4eGvbvr+QJEnaLOYpSVKvRimajgGeCLy5qr6VZG/gff2GJUnSyMxTkqReLRuhzzOq6uWzD1pC+kmPMUmStDnMU5KkXo1ypunoOdpetMBxSJK0pcxTkqRebfJMUxsf/rvA3klWDi26N/D9vgOTJKmLeUqSNC5dw/O+CKwDdgH+Zqj9VuCyPoOSJGkE5ilJ0lhssmiqqm8D3waemGRX4PFt0eo2taskSRNjnpIkjcu81zQlOQL4MnAE8DvAl5I8v+/AJEkahXlKktS3UWbP+3Pg8VW1HiDJcuBTwIf6DEyLx8zM6H1XreovDklLlnlKktSrUWbPu9tsImq+P+J6kiSNg3lKktSrUc40fSLJecAZ7fELgHP7C0mSpM1inpIk9WreoqmqXpPkt4EnAQFOrqpzeo9MkqQRmKckSX0b5UwTVXU2cHbPsUiStEXMU5KkPo0ye95vJflGkpuT3JLk1iS3jCM4SZLmY56SJPVtlDNNfw38ZlWt7jsYSZK2gHlKktSrUWYXut5EJEmaYuYpSVKvNnmmKclvtburknwA+Ahw2+zyqvpwz7FJkrRJ5ilJ0rh0nWn6zfZzH+DHwCFDbc+eb8NJTk2yPsnlQ21vSPLdJJe0n2cNLXtdkjVJrkryzKH2Q1vbmiTHb/5TlCRto8xTkqSx2OSZpqo6Ziu3fRrw98B7Nmo/sareOtyQZF/gSOCRwAOBTyV5WFv8duAZwFrgoiQrq+rKrYxNkrTImackSeMyyux5f53kPkm2T3JBkhuSvHC+9arqc8CNI8ZxOHBmVd1WVd8C1gAHtJ81VXV1Vf0UOLP1lSQJME9Jkvo3ykQQh1TVLQyGOqwFHga8Ziv2+bIkl7VhETu3tt2Ba4f6rG1tm2qXJGmWeUqS1KtRiqbt2+2zgDOqatSjcnN5B/AQYD9gHfA3rT1z9K2O9rtIcmySVUlWbdiwYStClCQtMosiT4G5SpIWq1GKpo8l+TowA1yQZDnwn1uys6q6vqruqKqfA+9kMKwBBkfm9hzqugdwXUf7XNs+uapmqmpm+fLlWxKeJGlxWhR5qm3fXCVJi9C8RVNVHQ88EZipqp8xmKFoi8ZrJ9lt6OHzgNkZi1YCRybZIcnewArgy8BFwIokeye5O4OLcFduyb4lSdsm85QkqW+bnD1vWFXdNHT/R8CP5lsnyRnAQcAuSdYCJwAHJdmPwdCFa4CXtm1ekeQs4ErgduC4qrqjbedlwHnAdsCpVXXFqE9OkrQ0mKckSX0aqWjaElV11BzNp3T0fzPw5jnazwXOXcDQJEkyT0mSRrbJ4XlJntRudxhfOJIkjcY8JUkal65rmk5qt/8+jkAkSdpM5ilJ0lh0Dc/7WZJ3A7snOWnjhVX18v7CkiRpXuYpSdJYdBVNzwaeDjwNuHg84UiSNDLzlCRpLDZZNFXVDcCZSVZX1aVjjEmSpHmZpyRJ4zLKl9t+P8k5SdYnuT7J2Un26D0ySZJGY56SJPVqlKLp3Qy+qO+BwO7Ax1qbJEnTwDwlSerVKEXTA6rq3VV1e/s5DVjec1ySJI3KPCVJ6tUoRdOGJC9Msl37eSHw/b4DkyRpROYpSVKvRima/hD4HeB7wDrg+a1NkqRpYJ6SJPWqa8pxAKrqO8BzxhCLJEmbzTwlSerbKGeaJEmSJGnJsmiSJEmSpA4WTZIkSZLUYd6iKcmfD93fod9wJEnaPOYpSVLfNlk0JXltkicymIVo1r/3H5IkSfMzT0mSxqVr9ryrgCOAByf5PLAauH+Sh1fVVWOJTpKkTTNPSZLGomt43k3A64E1wEHASa39+CRf7DkuSZLmY56SJI1F15mmQ4ETgIcAbwMuBX5UVceMIzBJkuZhnpIkjcUmzzRV1eur6mDgGuB9DAqs5Um+kORjY4pPkqQ5mackSePSdaZp1nlVdRFwUZI/qaonJ9ml78AkSRqReUqS1Kt5pxyvqtcOPXxRa7uhr4AkSdoc5ilJUt8268ttq+rSvgKRJGlrmackSX3YrKJJkiRJkpYaiyZJkiRJ6mDRJEmSJEkdLJokSZIkqYNFkyRJkiR1GOV7mjTlZmZG67dqVb9xSJIkSdsizzRJkiRJUgeLJkmSJEnqYNEkSZIkSR0smiRJkiSpg0WTJEmSJHVw9rwlZNRZ9iRJkiT9kmeaJEmSJKlDb0VTklOTrE9y+VDb/ZKcn+Qb7Xbn1p4kJyVZk+SyJPsPrXN06/+NJEf3Fa8kaekxV0mSRtHnmabTgEM3ajseuKCqVgAXtMcAhwEr2s+xwDtgkLiAE4AnAAcAJ8wmL0mSFsBpmKskSfPorWiqqs8BN27UfDhwert/OvDcofb31MCFwE5JdgOeCZxfVTdW1U3A+dw1uUmStEXMVZKkUYz7mqZdq2odQLt9QGvfHbh2qN/a1rapdkmS+mKukiTdybRMBJE52qqj/a4bSI5NsirJqg0bNixocJIkYa6SpCVr3EXT9W0oA+12fWtfC+w51G8P4LqO9ruoqpOraqaqZpYvX77ggUuSlgxzlSTpTsZdNK0EZmcVOhr46FD7H7SZiQ4Ebm5DIs4DDkmyc7uo9pDWJklSX8xVkqQ76e3LbZOcARwE7JJkLYOZhd4CnJXkxcB3gCNa93OBZwFrgB8DxwBU1Y1J3gRc1Pq9sao2vmBXkqQtYq6SJI2it6Kpqo7axKKD5+hbwHGb2M6pwKkLGJokSYC5SpI0mmmZCEKSJEmSplJvZ5q0dWZmJh2BJEkau835ALBqVX9xSLoTzzRJkiRJUgeLJkmSJEnqYNEkSZIkSR0smiRJkiSpg0WTJEmSJHVw9jxJkqRt3aiz8jkjnzQnzzRJkiRJUgeLJkmSJEnqYNEkSZIkSR0smiRJkiSpg0WTJEmSJHWwaJIkSZKkDhZNkiRJktTBokmSJEmSOlg0SZIkSVIHiyZJkiRJ6mDRJEmSJEkdLJokSZIkqYNFkyRJkiR1sGiSJEmSpA7LJh2AJEnSojQzM1q/Vav6jUNS7zzTJEmSJEkdLJokSZIkqYPD88Zo1LP4kiRJkqaHRZPGysJRkiRJi41FkyRJkvq1OUdNnThDU8hrmiRJkiSpg0WTJEmSJHWwaJIkSZKkDhZNkiRJktTBiSC2krPBSZIkSds2iyZJkiRNj1GPSDvLnsbI4XmSJEmS1MGiSZIkSZI6WDRJkiRJUoeJFE1JrknytSSXJFnV2u6X5Pwk32i3O7f2JDkpyZoklyXZfxIxS5KWDvOUJGnYJM80/XpV7VdVs1f7HQ9cUFUrgAvaY4DDgBXt51jgHWOPVJK0FJmnJEnAdA3POxw4vd0/HXjuUPt7auBCYKcku00iQEnSkmaekqQlalJFUwGfTHJxkmNb265VtQ6g3T6gte8OXDu07trWJklSX8xTkqRfmNT3ND2pqq5L8gDg/CRf7+ibOdrqLp0GSe1YgAc96EELE6Ukaala8DwFSzhXbc43wfvdO5Km0ESKpqq6rt2uT3IOcABwfZLdqmpdG9awvnVfC+w5tPoewHVzbPNk4GSAmZmZOZOVJEmj6CNPte2Zq7RwNqcYlbRVxl40JdkRuFtV3druHwK8EVgJHA28pd1+tK2yEnhZkjOBJwA3zw6PkCRpoZmnFgnPXsn3gMZoEmeadgXOSTK7/3+uqk8kuQg4K8mLge8AR7T+5wLPAtYAPwaOGX/IkqQlxDwlSbqTsRdNVXU18Jg52r8PHDxHewHHjSE0SZLMU5Kku5jURBDSgvHsvCRJkvo0Td/TJEmSJElTxzNNkiRJfXKWO2nR80yTJEmSJHWwaJIkSZKkDhZNkiRJktTBokmSJEmSOlg0SZIkSVIHiyZJkiRJ6mDRJEmSJEkdLJokSZIkqYNFkyRJkiR1sGiSJEmSpA4WTZIkSZLUYdmkA5AkSVNiZmb0vqtW9RfHJG3Oa7At8j0gzcmiSZIkTY8+ipalXghJ2moOz5MkSZKkDp5pkiRpW+ZZFknaap5pkiRJkqQOFk2SJEmS1MGiSZIkSZI6eE2TJEmSNp/Xy2kJsWiSJEmbzw/MkpYQh+dJkiRJUgeLJkmSJEnqYNEkSZIkSR0smiRJkiSpg0WTJEmSJHWwaJIkSZKkDhZNkiRJktTBokmSJEmSOlg0SZIkSVKHZZMOQBqnzfkC+1Wr+otDkiRJi4dnmiRJkiSpg0WTJEmSJHWwaJIkSZKkDovmmqYkhwJ/B2wHvKuq3jLhkCRJ+gXzlDTFvKhZW2lRnGlKsh3wduAwYF/gqCT7TjYqSZIGzFOStG1bLGeaDgDWVNXVAEnOBA4HrpxoVNqmjXpQanMOSG3Oga7N4UExaeLMU9K2wrNSmsNiKZp2B64derwWeMKEYpHupK9CaLHFsC2adEFsLl5UzFOStA1bLEVT5mirO3VIjgWObQ9/mOSqrdznLsANW7mNPk17fGCMC8UYF8Zmx5i5/vP0604xTmD/89mS3/Ov9hHIFJo3T8GC56rF8Hc3LXytRudrNbpdSHytRjPN76uR8tRiKZrWAnsOPd4DuG64Q1WdDJy8UDtMsqqqpvb4/bTHB8a4UIxxYRjj1pv2+CZs3jwFC5ur/H2MztdqdL5Wo/O1Gt228FotiokggIuAFUn2TnJ34Ehg5YRjkiRplnlKkrZhi+JMU1XdnuRlwHkMpnI9taqumHBYkiQB5ilJ2tYtiqIJoKrOBc4d4y4XbKhfT6Y9PjDGhWKMC8MYt960xzdR5qmp5ms1Ol+r0flajW7Rv1apust1qpIkSZKkZrFc0yRJkiRJE2HRtJEkhya5KsmaJMdPOh6AJKcmWZ/k8qG2+yU5P8k32u3OE45xzySfSbI6yRVJXjFtcSb5lSRfTnJpi/EvWvveSb7UYvxAu4h7YpJsl+SrST4+pfFdk+RrSS5Jsqq1Tc3vucWzU5IPJfl6e08+cZpiTPLw9vrN/tyS5JXTFGOL81Xtb+XyJGe0v6Gpej8uRdOYp6bJYsiZ02Ax5O1psVg+P0yTaf8ssyUsmoYk2Q54O3AYsC9wVJJ9JxsVAKcBh27UdjxwQVWtAC5ojyfpduDVVfUI4EDguPbaTVOctwFPq6rHAPsBhyY5EPgr4MQW403AiycYI8ArgNVDj6ctPoBfr6r9hqYPnabfM8DfAZ+oqn2AxzB4Pacmxqq6qr1++wGPA34MnDNNMSbZHXg5MFNVj2IwucGRTOf7ccmY4jw1TU5j+nPmNFgMeXtaLJbPD9NkMXyW2SwWTXd2ALCmqq6uqp8CZwKHTzgmqupzwI0bNR8OnN7unw48d6xBbaSq1lXVV9r9Wxn8oezOFMVZAz9sD7dvPwU8DfhQa59ojEn2AH4DeFd7HKYovg5T83tOch/gqcApAFX106r6AVMU40YOBr5ZVd9m+mJcBtwjyTLgnsA6Fsf7cVs2lXlqmiyGnDkNFkPenhaL4fPDNFnEn2U6WTTd2e7AtUOP17a2abRrVa2DwT8+4AETjucXkuwFPBb4ElMWZztdfAmwHjgf+Cbwg6q6vXWZ9O/8b4HXAj9vj+/PdMUHg0TxySQXJzm2tU3T7/nBwAbg3W1owLuS7DhlMQ47Ejij3Z+aGKvqu8Bbge8wKJZuBi5m+t6PS81iylPTZGr+tqbRNOftabEIPj9Mk8XwWWazWTTdWeZoc3rBzZDkXsDZwCur6pZJx7OxqrqjDYnag8ER20fM1W28UQ0keTawvqouHm6eo+uk35NPqqr9GQwPOi7JUyccz8aWAfsD76iqxwI/YkqHl7Qx3c8BPjjpWDbWrmM4HNgbeCCwI4Pf+cYm/X5caqbxf4IWsWnP29Nimj8/TJNF9Flms1k03dlaYM+hx3sA100olvlcn2Q3gHa7fsLxkGR7Bv94319VH27NUxcnQBuu9VkG47h3asOPYLK/8ycBz0lyDYMhN09jcLRmWuIDoKqua7frGVyHcwDT9XteC6ytqi+1xx9iUERNU4yzDgO+UlXXt8fTFOPTgW9V1Yaq+hnwYeDXmLL34xLYGspEAAAFH0lEQVS0mPLUNJmmv62psZjy9rSY0s8P02RRfJbZEhZNd3YRsKLN8HF3BsNmVk44pk1ZCRzd7h8NfHSCscyOVz0FWF1VbxtaNDVxJlmeZKd2/x4MPhSuBj4DPL91m1iMVfW6qtqjqvZi8N77dFX93rTEB5BkxyT3nr0PHAJczhT9nqvqe8C1SR7emg4GrmSKYhxyFL8cmgfTFeN3gAOT3LP9fc++jlPzflyiFlOemibT9Lc1FRZD3p4W0/75YZoshs8yW8ovt91IkmcxqIi3A06tqjdPOCSSnAEcBOwCXA+cAHwEOAt4EIMPN0dU1cYXvo4zxicDnwe+xi/HsL6ewfjoqYgzyaMZXHy4HYMDBmdV1RuTPJjB0ZD7AV8FXlhVt00ixllJDgL+tKqePU3xtVjOaQ+XAf9cVW9Ocn+m5PcMkGQ/Bheg3h24GjiG9jufohjvyeDalAdX1c2tbdpex78AXsBglq2vAn/EYBz6VLwfl6ppzFPTZDHkzGmwGPL2tFhMnx+mybR+ltlSFk2SJEmS1MHheZIkSZLUwaJJkiRJkjpYNEmSJElSB4smSZIkSepg0SRJkiRJHSyapDkk+R9JrkhyWZJLkjyhtV+TZJfN2M5BSX5txL6/2HaSL87T9/WjxiBJ2vaYp6TxsmiSNpLkicCzgf2r6tEMvsTu2i3c3EHASMloWFXNt47JSJKWKPOUNH4WTdJd7QbcMPula1V1Q1VdN7T8vyf5SpKvJdkHIMn9knykHfG7MMmjk+wF/DHwqnYU8CnDO0ly/ySfTPLVJP8EZGjZD9vtbkk+19a/PMlTkrwFuEdre3/r95EkF7ejjscObyfJm5Nc2uLatbXvmuSc1n7p7FHGJC9M8uW27X9Kst1Cv7iSpK1mnjJPacwsmqS7+iSwZ5L/SPIPSf7rRstvqKr9gXcAf9ra/gL4ajvi93rgPVV1DfCPwIlVtV9VfX6j7ZwAfKGqHgusZPDt6xv7XeC8qtoPeAxwSVUdD/ykbfP3Wr8/rKrHATPAy5Pcv7XvCFxYVY8BPge8pLWfBPxba98fuCLJI4AXAE9q+7sDmN2+JGl6mKfMUxoziyZpI1X1Q+BxwLHABuADSV401OXD7fZiYK92/8nAe9v6nwbun+S+8+zqqcD72jr/Atw0R5+LgGOSvAH4L1V16ya29fIklwIXAnsCK1r7T4GPzxHv0xgkU6rqjqq6GTiYwfO+KMkl7fGD53kOkqQxM0+ZpzR+yyYdgDSNquoO4LPAZ5N8DTgaOK0tvq3d3sEv/4bCXdUou5onjs8leSrwG8B7k/yfqnrPcJ8kBzEYz/7Eqvpxks8Cv9IW/6yqZvcxHO9cApxeVa8bIW5J0gSZp6Tx8kyTtJEkD0+yYqhpP+Db86z2OdoQgZYcbqiqW4BbgXuPsM5hwM5zxPKrwPqqeidwCoMhCgA/S7J9u39f4KaWiPYBDpwnVoALgD9p+9guyX1a2/OTPKC136/tX5I0RcxT5imNn0WTdFf3Ak5PcmWSy4B9gTfMs84bgJnW/y0MjvgBfAx43lwX2DIYX/7UJF8BDgG+M8d2DwIuSfJV4LeBv2vtJwOXtQtsPwEsa/t+E4OhD/N5BfDr7ejkxcAjq+pK4M+BT7Ztnc/gYmNJ0nQxT5mnNGb55RlRSZIkSdLGPNMkSZIkSR0smiRJkiSpg0WTJEmSJHWwaJIkSZKkDhZNkiRJktTBokmSJEmSOlg0SZIkSVIHiyZJkiRJ6vD/ASFtz7ylkO2cAAAAAElFTkSuQmCC\n",
      "text/plain": [
<<<<<<< HEAD
       "<matplotlib.figure.Figure at 0x1a251a1a10>"
=======
       "<matplotlib.figure.Figure at 0xc0a6710>"
>>>>>>> 2e27a2a439dbcefa3123ea3c5caa317425f0d630
      ]
     },
     "metadata": {},
     "output_type": "display_data"
    }
   ],
   "source": [
    "# we also look at how many shots were made from differnet distances from the net\n",
    "# sorted by least accurate action type to most accurate\n",
    "plt.figure(figsize=(14,5))\n",
    "plt.subplot(1,2,1)\n",
    "plt.hist(d1[\"shot_distance\"][d1['shot_made_flag']==0], bins = 30, color = 'b', alpha=0.8)\n",
    "plt.ylim(ymax=3000)\n",
    "plt.xlabel(\"Shot distance\")\n",
    "plt.ylabel(\"# of shots\")\n",
    "plt.title(\"Shots missed\")\n",
    "plt.subplot(1,2,2)\n",
    "plt.hist(d1[\"shot_distance\"][d1['shot_made_flag']==1], bins = 30, color = 'r', alpha=0.8)\n",
    "plt.ylim(ymax=3000)\n",
    "plt.xlabel(\"Shot distance\")\n",
    "plt.ylabel(\"# of shots\")\n",
    "plt.title(\"Shots made\")\n",
    "plt.show()"
   ]
  },
  {
   "cell_type": "markdown",
   "metadata": {},
   "source": [
    "In general, shots made and shots missed appear to follow a similar distribution. However, smaller shot distances generally correlate with a higher shot made percentage."
   ]
  },
  {
   "cell_type": "markdown",
   "metadata": {},
   "source": [
    "#### Shot zone area"
   ]
  },
  {
   "cell_type": "code",
<<<<<<< HEAD
   "execution_count": 71,
=======
   "execution_count": 28,
>>>>>>> 2e27a2a439dbcefa3123ea3c5caa317425f0d630
   "metadata": {},
   "outputs": [
    {
     "data": {
      "text/plain": [
       "6"
      ]
     },
<<<<<<< HEAD
     "execution_count": 71,
=======
     "execution_count": 28,
>>>>>>> 2e27a2a439dbcefa3123ea3c5caa317425f0d630
     "metadata": {},
     "output_type": "execute_result"
    }
   ],
   "source": [
    "# number of different combined shot types\n",
    "len(d1[\"shot_zone_area\"].unique())"
   ]
  },
  {
   "cell_type": "code",
<<<<<<< HEAD
   "execution_count": 72,
=======
   "execution_count": 29,
>>>>>>> 2e27a2a439dbcefa3123ea3c5caa317425f0d630
   "metadata": {},
   "outputs": [
    {
     "data": {
      "image/png": "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\n",
      "text/plain": [
<<<<<<< HEAD
       "<matplotlib.figure.Figure at 0x1a250cb210>"
=======
       "<matplotlib.figure.Figure at 0xc0b8208>"
>>>>>>> 2e27a2a439dbcefa3123ea3c5caa317425f0d630
      ]
     },
     "metadata": {},
     "output_type": "display_data"
    }
   ],
   "source": [
    "d1[\"shot_made_flag\"].groupby(d1[\"shot_zone_area\"]).mean().sort_values().plot.bar(figsize=(12,5)).set_title(\"% Shots Made, by Shot Zone Area\")\n",
    "plt.show()"
   ]
  },
  {
   "cell_type": "markdown",
   "metadata": {
    "collapsed": true
   },
   "source": [
    "We observe a correlation between shot_made_flag and shot_zone_area. Specifically, Kobe was historically much less likely to make a shot from the Back Court than from the other shot zone areas."
   ]
  },
  {
   "cell_type": "markdown",
   "metadata": {},
   "source": [
    "#### Shot zone basic"
   ]
  },
  {
   "cell_type": "code",
<<<<<<< HEAD
   "execution_count": 73,
=======
   "execution_count": 30,
>>>>>>> 2e27a2a439dbcefa3123ea3c5caa317425f0d630
   "metadata": {},
   "outputs": [
    {
     "data": {
      "image/png": "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\n",
      "text/plain": [
<<<<<<< HEAD
       "<matplotlib.figure.Figure at 0x1a2506c7d0>"
=======
       "<matplotlib.figure.Figure at 0xcb79cc0>"
>>>>>>> 2e27a2a439dbcefa3123ea3c5caa317425f0d630
      ]
     },
     "metadata": {},
     "output_type": "display_data"
    }
   ],
   "source": [
    "d1[\"shot_made_flag\"].groupby(d1[\"shot_zone_basic\"]).mean().sort_values().plot.bar(figsize=(12,5)).set_title(\"% Shots Made, by Shot Zone Basic\")\n",
    "plt.show()"
   ]
  },
  {
   "cell_type": "markdown",
   "metadata": {
    "collapsed": true
   },
   "source": [
    "Again, we observe a correlation between shot_made_flag and shot_zone_basic. This variable is very similar to shot_zone_area. Specifically, Kobe was historically much less likely to make a shot from the Back Court than from the other shot zone areas."
   ]
  },
  {
   "cell_type": "markdown",
   "metadata": {},
   "source": [
    "#### Shot zone range"
   ]
  },
  {
   "cell_type": "code",
<<<<<<< HEAD
   "execution_count": 74,
=======
   "execution_count": 31,
>>>>>>> 2e27a2a439dbcefa3123ea3c5caa317425f0d630
   "metadata": {},
   "outputs": [
    {
     "data": {
      "image/png": "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\n",
      "text/plain": [
<<<<<<< HEAD
       "<matplotlib.figure.Figure at 0x1a21b531d0>"
=======
       "<matplotlib.figure.Figure at 0xca24f98>"
>>>>>>> 2e27a2a439dbcefa3123ea3c5caa317425f0d630
      ]
     },
     "metadata": {},
     "output_type": "display_data"
    }
   ],
   "source": [
    "## bar plot of counts of different combined shot types \n",
    "d1[\"shot_made_flag\"].groupby(d1[\"shot_zone_range\"]).mean().sort_values().plot.bar(figsize=(12,5)).set_title(\"% Shots Made, by Shot Zone Range\")\n",
    "plt.show()"
   ]
  },
  {
   "cell_type": "markdown",
   "metadata": {
    "collapsed": true
   },
   "source": [
    "We again observe correlation between shot_made_flag and shot_zone_range, which is a bucketed version of the shot_distance variable. We again see that shots made closer to the basket are more likely to be made."
   ]
  },
  {
   "cell_type": "markdown",
   "metadata": {},
   "source": [
    "#### Opponent"
   ]
  },
  {
   "cell_type": "code",
<<<<<<< HEAD
   "execution_count": 75,
=======
   "execution_count": 32,
>>>>>>> 2e27a2a439dbcefa3123ea3c5caa317425f0d630
   "metadata": {
    "scrolled": true
   },
   "outputs": [
    {
     "data": {
      "image/png": "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\n",
      "text/plain": [
<<<<<<< HEAD
       "<matplotlib.figure.Figure at 0x1a24f31550>"
=======
       "<matplotlib.figure.Figure at 0xcac73c8>"
>>>>>>> 2e27a2a439dbcefa3123ea3c5caa317425f0d630
      ]
     },
     "metadata": {},
     "output_type": "display_data"
    }
   ],
   "source": [
    "## bar plot of counts of different opponents\n",
    "d1[\"shot_made_flag\"].groupby(d1[\"opponent\"]).mean().sort_values().plot.bar(figsize=(12,5)).set_title(\"% Shots Made, by Opponent\")\n",
    "plt.show()"
   ]
  },
  {
   "cell_type": "markdown",
   "metadata": {
    "collapsed": true
   },
   "source": [
    "We do not observe a strong correlation between shot_made_flag and shot_zone_range."
   ]
  },
  {
   "cell_type": "markdown",
   "metadata": {},
   "source": [
    "#### Game Date\n",
    "\n",
    "From game_date, we can derive a couple of additional features:\n",
    "* Weekday (Monday, Tuesday, etc)\n",
    "* Month"
   ]
  },
  {
   "cell_type": "code",
<<<<<<< HEAD
   "execution_count": 76,
=======
   "execution_count": 33,
>>>>>>> 2e27a2a439dbcefa3123ea3c5caa317425f0d630
   "metadata": {},
   "outputs": [
    {
     "name": "stderr",
     "output_type": "stream",
     "text": [
<<<<<<< HEAD
      "/anaconda2/lib/python2.7/site-packages/ipykernel_launcher.py:8: SettingWithCopyWarning: \n",
=======
      "C:\\Users\\Desktop\\Anaconda3\\lib\\site-packages\\ipykernel_launcher.py:8: SettingWithCopyWarning: \n",
>>>>>>> 2e27a2a439dbcefa3123ea3c5caa317425f0d630
      "A value is trying to be set on a copy of a slice from a DataFrame.\n",
      "Try using .loc[row_indexer,col_indexer] = value instead\n",
      "\n",
      "See the caveats in the documentation: http://pandas.pydata.org/pandas-docs/stable/indexing.html#indexing-view-versus-copy\n",
      "  \n"
     ]
    },
    {
     "data": {
      "text/html": [
       "<div>\n",
       "<style scoped>\n",
       "    .dataframe tbody tr th:only-of-type {\n",
       "        vertical-align: middle;\n",
       "    }\n",
       "\n",
       "    .dataframe tbody tr th {\n",
       "        vertical-align: top;\n",
       "    }\n",
       "\n",
       "    .dataframe thead th {\n",
       "        text-align: right;\n",
       "    }\n",
       "</style>\n",
       "<table border=\"1\" class=\"dataframe\">\n",
       "  <thead>\n",
       "    <tr style=\"text-align: right;\">\n",
       "      <th></th>\n",
       "      <th>shot_made_flag</th>\n",
       "      <th>action_type</th>\n",
       "      <th>combined_shot_type</th>\n",
       "      <th>loc_x</th>\n",
       "      <th>loc_y</th>\n",
       "      <th>minutes_remaining</th>\n",
       "      <th>seconds_remaining</th>\n",
       "      <th>period</th>\n",
       "      <th>playoffs</th>\n",
       "      <th>season</th>\n",
       "      <th>shot_distance</th>\n",
       "      <th>shot_type</th>\n",
       "      <th>shot_zone_area</th>\n",
       "      <th>shot_zone_basic</th>\n",
       "      <th>shot_zone_range</th>\n",
       "      <th>opponent</th>\n",
       "      <th>game_date</th>\n",
       "      <th>loc_cluster</th>\n",
       "      <th>time_remaining</th>\n",
       "      <th>made_in_last_30</th>\n",
       "      <th>game_weekday</th>\n",
       "      <th>game_month</th>\n",
       "    </tr>\n",
       "  </thead>\n",
       "  <tbody>\n",
       "    <tr>\n",
       "      <th>0</th>\n",
       "      <td>NaN</td>\n",
       "      <td>Jump Shot</td>\n",
       "      <td>Jump Shot</td>\n",
       "      <td>167</td>\n",
       "      <td>72</td>\n",
       "      <td>10</td>\n",
       "      <td>27</td>\n",
       "      <td>1</td>\n",
       "      <td>0</td>\n",
       "      <td>2000-01</td>\n",
       "      <td>18</td>\n",
       "      <td>2PT Field Goal</td>\n",
       "      <td>Right Side(R)</td>\n",
       "      <td>Mid-Range</td>\n",
       "      <td>16-24 ft.</td>\n",
       "      <td>POR</td>\n",
       "      <td>2000-10-31</td>\n",
<<<<<<< HEAD
       "      <td>6</td>\n",
=======
       "      <td>8</td>\n",
>>>>>>> 2e27a2a439dbcefa3123ea3c5caa317425f0d630
       "      <td>627</td>\n",
       "      <td>False</td>\n",
       "      <td>1</td>\n",
       "      <td>10</td>\n",
       "    </tr>\n",
       "    <tr>\n",
       "      <th>1</th>\n",
       "      <td>0.0</td>\n",
       "      <td>Jump Shot</td>\n",
       "      <td>Jump Shot</td>\n",
       "      <td>-157</td>\n",
       "      <td>0</td>\n",
       "      <td>10</td>\n",
       "      <td>22</td>\n",
       "      <td>1</td>\n",
       "      <td>0</td>\n",
       "      <td>2000-01</td>\n",
       "      <td>15</td>\n",
       "      <td>2PT Field Goal</td>\n",
       "      <td>Left Side(L)</td>\n",
       "      <td>Mid-Range</td>\n",
       "      <td>8-16 ft.</td>\n",
       "      <td>POR</td>\n",
       "      <td>2000-10-31</td>\n",
<<<<<<< HEAD
       "      <td>4</td>\n",
=======
       "      <td>7</td>\n",
>>>>>>> 2e27a2a439dbcefa3123ea3c5caa317425f0d630
       "      <td>622</td>\n",
       "      <td>False</td>\n",
       "      <td>1</td>\n",
       "      <td>10</td>\n",
       "    </tr>\n",
       "    <tr>\n",
       "      <th>2</th>\n",
       "      <td>1.0</td>\n",
       "      <td>Jump Shot</td>\n",
       "      <td>Jump Shot</td>\n",
       "      <td>-101</td>\n",
       "      <td>135</td>\n",
       "      <td>7</td>\n",
       "      <td>45</td>\n",
       "      <td>1</td>\n",
       "      <td>0</td>\n",
       "      <td>2000-01</td>\n",
       "      <td>16</td>\n",
       "      <td>2PT Field Goal</td>\n",
       "      <td>Left Side Center(LC)</td>\n",
       "      <td>Mid-Range</td>\n",
       "      <td>16-24 ft.</td>\n",
       "      <td>POR</td>\n",
       "      <td>2000-10-31</td>\n",
<<<<<<< HEAD
       "      <td>8</td>\n",
=======
       "      <td>3</td>\n",
>>>>>>> 2e27a2a439dbcefa3123ea3c5caa317425f0d630
       "      <td>465</td>\n",
       "      <td>False</td>\n",
       "      <td>1</td>\n",
       "      <td>10</td>\n",
       "    </tr>\n",
       "    <tr>\n",
       "      <th>3</th>\n",
       "      <td>0.0</td>\n",
       "      <td>Jump Shot</td>\n",
       "      <td>Jump Shot</td>\n",
       "      <td>138</td>\n",
       "      <td>175</td>\n",
       "      <td>6</td>\n",
       "      <td>52</td>\n",
       "      <td>1</td>\n",
       "      <td>0</td>\n",
       "      <td>2000-01</td>\n",
       "      <td>22</td>\n",
       "      <td>2PT Field Goal</td>\n",
       "      <td>Right Side Center(RC)</td>\n",
       "      <td>Mid-Range</td>\n",
       "      <td>16-24 ft.</td>\n",
       "      <td>POR</td>\n",
       "      <td>2000-10-31</td>\n",
<<<<<<< HEAD
       "      <td>6</td>\n",
=======
       "      <td>8</td>\n",
>>>>>>> 2e27a2a439dbcefa3123ea3c5caa317425f0d630
       "      <td>412</td>\n",
       "      <td>False</td>\n",
       "      <td>1</td>\n",
       "      <td>10</td>\n",
       "    </tr>\n",
       "    <tr>\n",
       "      <th>4</th>\n",
       "      <td>1.0</td>\n",
       "      <td>Driving Dunk Shot</td>\n",
       "      <td>Dunk</td>\n",
       "      <td>0</td>\n",
       "      <td>0</td>\n",
       "      <td>6</td>\n",
       "      <td>19</td>\n",
       "      <td>2</td>\n",
       "      <td>0</td>\n",
       "      <td>2000-01</td>\n",
       "      <td>0</td>\n",
       "      <td>2PT Field Goal</td>\n",
       "      <td>Center(C)</td>\n",
       "      <td>Restricted Area</td>\n",
       "      <td>Less Than 8 ft.</td>\n",
       "      <td>POR</td>\n",
       "      <td>2000-10-31</td>\n",
<<<<<<< HEAD
       "      <td>0</td>\n",
=======
       "      <td>2</td>\n",
>>>>>>> 2e27a2a439dbcefa3123ea3c5caa317425f0d630
       "      <td>379</td>\n",
       "      <td>False</td>\n",
       "      <td>1</td>\n",
       "      <td>10</td>\n",
       "    </tr>\n",
       "  </tbody>\n",
       "</table>\n",
       "</div>"
      ],
      "text/plain": [
       "   shot_made_flag        action_type combined_shot_type  loc_x  loc_y  \\\n",
       "0             NaN          Jump Shot          Jump Shot    167     72   \n",
       "1             0.0          Jump Shot          Jump Shot   -157      0   \n",
       "2             1.0          Jump Shot          Jump Shot   -101    135   \n",
       "3             0.0          Jump Shot          Jump Shot    138    175   \n",
       "4             1.0  Driving Dunk Shot               Dunk      0      0   \n",
       "\n",
       "   minutes_remaining  seconds_remaining  period  playoffs   season  \\\n",
       "0                 10                 27       1         0  2000-01   \n",
       "1                 10                 22       1         0  2000-01   \n",
       "2                  7                 45       1         0  2000-01   \n",
       "3                  6                 52       1         0  2000-01   \n",
       "4                  6                 19       2         0  2000-01   \n",
       "\n",
       "   shot_distance       shot_type         shot_zone_area  shot_zone_basic  \\\n",
       "0             18  2PT Field Goal          Right Side(R)        Mid-Range   \n",
       "1             15  2PT Field Goal           Left Side(L)        Mid-Range   \n",
       "2             16  2PT Field Goal   Left Side Center(LC)        Mid-Range   \n",
       "3             22  2PT Field Goal  Right Side Center(RC)        Mid-Range   \n",
       "4              0  2PT Field Goal              Center(C)  Restricted Area   \n",
       "\n",
       "   shot_zone_range opponent   game_date  loc_cluster  time_remaining  \\\n",
<<<<<<< HEAD
       "0        16-24 ft.      POR  2000-10-31            6             627   \n",
       "1         8-16 ft.      POR  2000-10-31            4             622   \n",
       "2        16-24 ft.      POR  2000-10-31            8             465   \n",
       "3        16-24 ft.      POR  2000-10-31            6             412   \n",
       "4  Less Than 8 ft.      POR  2000-10-31            0             379   \n",
=======
       "0        16-24 ft.      POR  2000-10-31            8             627   \n",
       "1         8-16 ft.      POR  2000-10-31            7             622   \n",
       "2        16-24 ft.      POR  2000-10-31            3             465   \n",
       "3        16-24 ft.      POR  2000-10-31            8             412   \n",
       "4  Less Than 8 ft.      POR  2000-10-31            2             379   \n",
>>>>>>> 2e27a2a439dbcefa3123ea3c5caa317425f0d630
       "\n",
       "   made_in_last_30  game_weekday  game_month  \n",
       "0            False             1          10  \n",
       "1            False             1          10  \n",
       "2            False             1          10  \n",
       "3            False             1          10  \n",
       "4            False             1          10  "
      ]
     },
<<<<<<< HEAD
     "execution_count": 76,
=======
     "execution_count": 33,
>>>>>>> 2e27a2a439dbcefa3123ea3c5caa317425f0d630
     "metadata": {},
     "output_type": "execute_result"
    }
   ],
   "source": [
    "game_date_converted = []\n",
    "game_weekday = []\n",
    "game_month = []\n",
    "for i in range(0, d1.shape[0]):\n",
    "    game_date_converted.append(datetime.strptime(d1[\"game_date\"][i], '%Y-%m-%d'))\n",
    "    game_weekday.append(game_date_converted[i].weekday())\n",
    "    game_month.append(game_date_converted[i].month)\n",
    "d1['game_weekday'], d1['game_month'] = game_weekday, game_month\n",
    "d1.head(5)"
   ]
  },
  {
   "cell_type": "code",
<<<<<<< HEAD
   "execution_count": 77,
=======
   "execution_count": 34,
>>>>>>> 2e27a2a439dbcefa3123ea3c5caa317425f0d630
   "metadata": {},
   "outputs": [
    {
     "data": {
      "text/plain": [
       "Text(0.5,1,u'% Shots Made, by Game Weekday')"
      ]
     },
<<<<<<< HEAD
     "execution_count": 77,
=======
     "execution_count": 34,
>>>>>>> 2e27a2a439dbcefa3123ea3c5caa317425f0d630
     "metadata": {},
     "output_type": "execute_result"
    },
    {
     "data": {
      "image/png": "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\n",
      "text/plain": [
<<<<<<< HEAD
       "<matplotlib.figure.Figure at 0x1a22f6ae90>"
=======
       "<matplotlib.figure.Figure at 0xccdbcf8>"
>>>>>>> 2e27a2a439dbcefa3123ea3c5caa317425f0d630
      ]
     },
     "metadata": {},
     "output_type": "display_data"
    }
   ],
   "source": [
    "d1[\"shot_made_flag\"].groupby(d1[\"game_weekday\"]).mean().plot.bar(figsize=(12,5)).set_title(\"% Shots Made, by Game Weekday\")\n"
   ]
  },
  {
   "cell_type": "code",
<<<<<<< HEAD
   "execution_count": 78,
=======
   "execution_count": 35,
>>>>>>> 2e27a2a439dbcefa3123ea3c5caa317425f0d630
   "metadata": {},
   "outputs": [
    {
     "data": {
      "text/plain": [
       "Text(0.5,1,u'% Shots Made, by Game Month')"
      ]
     },
<<<<<<< HEAD
     "execution_count": 78,
=======
     "execution_count": 35,
>>>>>>> 2e27a2a439dbcefa3123ea3c5caa317425f0d630
     "metadata": {},
     "output_type": "execute_result"
    },
    {
     "data": {
      "image/png": "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\n",
      "text/plain": [
<<<<<<< HEAD
       "<matplotlib.figure.Figure at 0x1a25318c10>"
=======
       "<matplotlib.figure.Figure at 0xcac7c88>"
>>>>>>> 2e27a2a439dbcefa3123ea3c5caa317425f0d630
      ]
     },
     "metadata": {},
     "output_type": "display_data"
    }
   ],
   "source": [
    "d1[\"shot_made_flag\"].groupby(d1[\"game_month\"]).mean().plot.bar(figsize=(12,5)).set_title(\"% Shots Made, by Game Month\")\n"
   ]
  },
  {
   "cell_type": "markdown",
   "metadata": {},
   "source": [
    "There does not appear to be any relationship between game weekday and shot_made_flag. There is some correlation between game month and shot_made_flag, but not by much."
   ]
  },
  {
   "cell_type": "code",
   "execution_count": 79,
   "metadata": {},
   "outputs": [],
   "source": [
    "### DELETE BEFORE SUBMITTING\n",
    "d1_copy = d1"
   ]
  },
  {
   "cell_type": "markdown",
   "metadata": {},
   "source": [
    "## Data Preparation\n",
    "\n",
    "To prepare the data for analysis, we will first have to convert the categorical variables into numeric form so that they can be fed to algorithms. We will then have to divide the data into the appropriate training, development, and test sets."
   ]
  },
  {
   "cell_type": "markdown",
   "metadata": {},
   "source": [
    "### Transformations"
   ]
  },
  {
   "cell_type": "code",
<<<<<<< HEAD
   "execution_count": 81,
=======
   "execution_count": 36,
>>>>>>> 2e27a2a439dbcefa3123ea3c5caa317425f0d630
   "metadata": {},
   "outputs": [
    {
     "data": {
      "text/html": [
       "<div>\n",
       "<style scoped>\n",
       "    .dataframe tbody tr th:only-of-type {\n",
       "        vertical-align: middle;\n",
       "    }\n",
       "\n",
       "    .dataframe tbody tr th {\n",
       "        vertical-align: top;\n",
       "    }\n",
       "\n",
       "    .dataframe thead th {\n",
       "        text-align: right;\n",
       "    }\n",
       "</style>\n",
       "<table border=\"1\" class=\"dataframe\">\n",
       "  <thead>\n",
       "    <tr style=\"text-align: right;\">\n",
       "      <th></th>\n",
       "      <th>shot_made_flag</th>\n",
       "      <th>action_type</th>\n",
       "      <th>combined_shot_type</th>\n",
       "      <th>loc_x</th>\n",
       "      <th>loc_y</th>\n",
       "      <th>minutes_remaining</th>\n",
       "      <th>seconds_remaining</th>\n",
       "      <th>period</th>\n",
       "      <th>playoffs</th>\n",
       "      <th>season</th>\n",
       "      <th>shot_distance</th>\n",
       "      <th>shot_type</th>\n",
       "      <th>shot_zone_area</th>\n",
       "      <th>shot_zone_basic</th>\n",
       "      <th>shot_zone_range</th>\n",
       "      <th>opponent</th>\n",
       "      <th>game_date</th>\n",
       "      <th>loc_cluster</th>\n",
       "      <th>time_remaining</th>\n",
       "      <th>made_in_last_30</th>\n",
       "      <th>game_weekday</th>\n",
       "      <th>game_month</th>\n",
       "    </tr>\n",
       "  </thead>\n",
       "  <tbody>\n",
       "    <tr>\n",
       "      <th>0</th>\n",
       "      <td>NaN</td>\n",
       "      <td>Jump Shot</td>\n",
       "      <td>Jump Shot</td>\n",
       "      <td>167</td>\n",
       "      <td>72</td>\n",
       "      <td>10</td>\n",
       "      <td>27</td>\n",
       "      <td>1</td>\n",
       "      <td>0</td>\n",
       "      <td>2000-01</td>\n",
       "      <td>18</td>\n",
       "      <td>2PT Field Goal</td>\n",
       "      <td>Right Side(R)</td>\n",
       "      <td>Mid-Range</td>\n",
       "      <td>16-24 ft.</td>\n",
       "      <td>POR</td>\n",
       "      <td>2000-10-31</td>\n",
<<<<<<< HEAD
       "      <td>6</td>\n",
=======
       "      <td>8</td>\n",
>>>>>>> 2e27a2a439dbcefa3123ea3c5caa317425f0d630
       "      <td>627</td>\n",
       "      <td>False</td>\n",
       "      <td>1</td>\n",
       "      <td>10</td>\n",
       "    </tr>\n",
       "    <tr>\n",
       "      <th>1</th>\n",
       "      <td>0.0</td>\n",
       "      <td>Jump Shot</td>\n",
       "      <td>Jump Shot</td>\n",
       "      <td>-157</td>\n",
       "      <td>0</td>\n",
       "      <td>10</td>\n",
       "      <td>22</td>\n",
       "      <td>1</td>\n",
       "      <td>0</td>\n",
       "      <td>2000-01</td>\n",
       "      <td>15</td>\n",
       "      <td>2PT Field Goal</td>\n",
       "      <td>Left Side(L)</td>\n",
       "      <td>Mid-Range</td>\n",
       "      <td>8-16 ft.</td>\n",
       "      <td>POR</td>\n",
       "      <td>2000-10-31</td>\n",
<<<<<<< HEAD
       "      <td>4</td>\n",
=======
       "      <td>7</td>\n",
>>>>>>> 2e27a2a439dbcefa3123ea3c5caa317425f0d630
       "      <td>622</td>\n",
       "      <td>False</td>\n",
       "      <td>1</td>\n",
       "      <td>10</td>\n",
       "    </tr>\n",
       "    <tr>\n",
       "      <th>2</th>\n",
       "      <td>1.0</td>\n",
       "      <td>Jump Shot</td>\n",
       "      <td>Jump Shot</td>\n",
       "      <td>-101</td>\n",
       "      <td>135</td>\n",
       "      <td>7</td>\n",
       "      <td>45</td>\n",
       "      <td>1</td>\n",
       "      <td>0</td>\n",
       "      <td>2000-01</td>\n",
       "      <td>16</td>\n",
       "      <td>2PT Field Goal</td>\n",
       "      <td>Left Side Center(LC)</td>\n",
       "      <td>Mid-Range</td>\n",
       "      <td>16-24 ft.</td>\n",
       "      <td>POR</td>\n",
       "      <td>2000-10-31</td>\n",
<<<<<<< HEAD
       "      <td>8</td>\n",
=======
       "      <td>3</td>\n",
>>>>>>> 2e27a2a439dbcefa3123ea3c5caa317425f0d630
       "      <td>465</td>\n",
       "      <td>False</td>\n",
       "      <td>1</td>\n",
       "      <td>10</td>\n",
       "    </tr>\n",
       "    <tr>\n",
       "      <th>3</th>\n",
       "      <td>0.0</td>\n",
       "      <td>Jump Shot</td>\n",
       "      <td>Jump Shot</td>\n",
       "      <td>138</td>\n",
       "      <td>175</td>\n",
       "      <td>6</td>\n",
       "      <td>52</td>\n",
       "      <td>1</td>\n",
       "      <td>0</td>\n",
       "      <td>2000-01</td>\n",
       "      <td>22</td>\n",
       "      <td>2PT Field Goal</td>\n",
       "      <td>Right Side Center(RC)</td>\n",
       "      <td>Mid-Range</td>\n",
       "      <td>16-24 ft.</td>\n",
       "      <td>POR</td>\n",
       "      <td>2000-10-31</td>\n",
<<<<<<< HEAD
       "      <td>6</td>\n",
=======
       "      <td>8</td>\n",
>>>>>>> 2e27a2a439dbcefa3123ea3c5caa317425f0d630
       "      <td>412</td>\n",
       "      <td>False</td>\n",
       "      <td>1</td>\n",
       "      <td>10</td>\n",
       "    </tr>\n",
       "    <tr>\n",
       "      <th>4</th>\n",
       "      <td>1.0</td>\n",
       "      <td>Driving Dunk Shot</td>\n",
       "      <td>Dunk</td>\n",
       "      <td>0</td>\n",
       "      <td>0</td>\n",
       "      <td>6</td>\n",
       "      <td>19</td>\n",
       "      <td>2</td>\n",
       "      <td>0</td>\n",
       "      <td>2000-01</td>\n",
       "      <td>0</td>\n",
       "      <td>2PT Field Goal</td>\n",
       "      <td>Center(C)</td>\n",
       "      <td>Restricted Area</td>\n",
       "      <td>Less Than 8 ft.</td>\n",
       "      <td>POR</td>\n",
       "      <td>2000-10-31</td>\n",
<<<<<<< HEAD
       "      <td>0</td>\n",
=======
       "      <td>2</td>\n",
>>>>>>> 2e27a2a439dbcefa3123ea3c5caa317425f0d630
       "      <td>379</td>\n",
       "      <td>False</td>\n",
       "      <td>1</td>\n",
       "      <td>10</td>\n",
       "    </tr>\n",
       "  </tbody>\n",
       "</table>\n",
       "</div>"
      ],
      "text/plain": [
       "   shot_made_flag        action_type combined_shot_type  loc_x  loc_y  \\\n",
       "0             NaN          Jump Shot          Jump Shot    167     72   \n",
       "1             0.0          Jump Shot          Jump Shot   -157      0   \n",
       "2             1.0          Jump Shot          Jump Shot   -101    135   \n",
       "3             0.0          Jump Shot          Jump Shot    138    175   \n",
       "4             1.0  Driving Dunk Shot               Dunk      0      0   \n",
       "\n",
       "   minutes_remaining  seconds_remaining  period  playoffs   season  \\\n",
       "0                 10                 27       1         0  2000-01   \n",
       "1                 10                 22       1         0  2000-01   \n",
       "2                  7                 45       1         0  2000-01   \n",
       "3                  6                 52       1         0  2000-01   \n",
       "4                  6                 19       2         0  2000-01   \n",
       "\n",
       "   shot_distance       shot_type         shot_zone_area  shot_zone_basic  \\\n",
       "0             18  2PT Field Goal          Right Side(R)        Mid-Range   \n",
       "1             15  2PT Field Goal           Left Side(L)        Mid-Range   \n",
       "2             16  2PT Field Goal   Left Side Center(LC)        Mid-Range   \n",
       "3             22  2PT Field Goal  Right Side Center(RC)        Mid-Range   \n",
       "4              0  2PT Field Goal              Center(C)  Restricted Area   \n",
       "\n",
       "   shot_zone_range opponent   game_date  loc_cluster  time_remaining  \\\n",
<<<<<<< HEAD
       "0        16-24 ft.      POR  2000-10-31            6             627   \n",
       "1         8-16 ft.      POR  2000-10-31            4             622   \n",
       "2        16-24 ft.      POR  2000-10-31            8             465   \n",
       "3        16-24 ft.      POR  2000-10-31            6             412   \n",
       "4  Less Than 8 ft.      POR  2000-10-31            0             379   \n",
=======
       "0        16-24 ft.      POR  2000-10-31            8             627   \n",
       "1         8-16 ft.      POR  2000-10-31            7             622   \n",
       "2        16-24 ft.      POR  2000-10-31            3             465   \n",
       "3        16-24 ft.      POR  2000-10-31            8             412   \n",
       "4  Less Than 8 ft.      POR  2000-10-31            2             379   \n",
>>>>>>> 2e27a2a439dbcefa3123ea3c5caa317425f0d630
       "\n",
       "   made_in_last_30  game_weekday  game_month  \n",
       "0            False             1          10  \n",
       "1            False             1          10  \n",
       "2            False             1          10  \n",
       "3            False             1          10  \n",
       "4            False             1          10  "
      ]
     },
<<<<<<< HEAD
     "execution_count": 81,
=======
     "execution_count": 36,
>>>>>>> 2e27a2a439dbcefa3123ea3c5caa317425f0d630
     "metadata": {},
     "output_type": "execute_result"
    }
   ],
   "source": [
    "d1.head(5)"
   ]
  },
  {
   "cell_type": "code",
<<<<<<< HEAD
   "execution_count": 82,
   "metadata": {},
   "outputs": [],
=======
   "execution_count": 37,
   "metadata": {},
   "outputs": [
    {
     "name": "stderr",
     "output_type": "stream",
     "text": [
      "C:\\Users\\Desktop\\Anaconda3\\lib\\site-packages\\pandas\\core\\indexing.py:537: SettingWithCopyWarning: \n",
      "A value is trying to be set on a copy of a slice from a DataFrame.\n",
      "Try using .loc[row_indexer,col_indexer] = value instead\n",
      "\n",
      "See the caveats in the documentation: http://pandas.pydata.org/pandas-docs/stable/indexing.html#indexing-view-versus-copy\n",
      "  self.obj[item] = s\n"
     ]
    }
   ],
>>>>>>> 2e27a2a439dbcefa3123ea3c5caa317425f0d630
   "source": [
    "# convert type object to categorical \n",
    "to_convert = d1.select_dtypes([\"object\"]).columns\n",
    "for col in to_convert:\n",
    "    d1.loc[:,col] = d1.loc[:,col].astype('category')\n",
    "# convert categorical to numerical values\n",
    "d1.loc[:,to_convert] = d1.loc[:,to_convert].apply(lambda x: x.cat.codes)"
   ]
  },
  {
   "cell_type": "code",
<<<<<<< HEAD
   "execution_count": 83,
=======
   "execution_count": 38,
>>>>>>> 2e27a2a439dbcefa3123ea3c5caa317425f0d630
   "metadata": {},
   "outputs": [
    {
     "data": {
      "text/plain": [
       "shot_made_flag        float64\n",
       "action_type              int8\n",
       "combined_shot_type       int8\n",
       "loc_x                   int64\n",
       "loc_y                   int64\n",
       "minutes_remaining       int64\n",
       "seconds_remaining       int64\n",
       "period                  int64\n",
       "playoffs                int64\n",
       "season                   int8\n",
       "shot_distance           int64\n",
       "shot_type                int8\n",
       "shot_zone_area           int8\n",
       "shot_zone_basic          int8\n",
       "shot_zone_range          int8\n",
       "opponent                 int8\n",
       "game_date               int16\n",
       "loc_cluster             int64\n",
       "time_remaining          int64\n",
       "made_in_last_30          bool\n",
       "game_weekday            int64\n",
       "game_month              int64\n",
       "dtype: object"
      ]
     },
<<<<<<< HEAD
     "execution_count": 83,
=======
     "execution_count": 38,
>>>>>>> 2e27a2a439dbcefa3123ea3c5caa317425f0d630
     "metadata": {},
     "output_type": "execute_result"
    }
   ],
   "source": [
    "d1.dtypes"
   ]
  },
  {
   "cell_type": "code",
<<<<<<< HEAD
   "execution_count": 84,
=======
   "execution_count": 39,
>>>>>>> 2e27a2a439dbcefa3123ea3c5caa317425f0d630
   "metadata": {},
   "outputs": [
    {
     "data": {
      "text/plain": [
       "(30697, 22)"
      ]
     },
<<<<<<< HEAD
     "execution_count": 84,
=======
     "execution_count": 39,
>>>>>>> 2e27a2a439dbcefa3123ea3c5caa317425f0d630
     "metadata": {},
     "output_type": "execute_result"
    }
   ],
   "source": [
    "d1.shape"
   ]
  },
  {
   "cell_type": "code",
<<<<<<< HEAD
   "execution_count": 85,
=======
   "execution_count": 40,
>>>>>>> 2e27a2a439dbcefa3123ea3c5caa317425f0d630
   "metadata": {
    "scrolled": true
   },
   "outputs": [
    {
     "data": {
      "text/html": [
       "<div>\n",
       "<style scoped>\n",
       "    .dataframe tbody tr th:only-of-type {\n",
       "        vertical-align: middle;\n",
       "    }\n",
       "\n",
       "    .dataframe tbody tr th {\n",
       "        vertical-align: top;\n",
       "    }\n",
       "\n",
       "    .dataframe thead th {\n",
       "        text-align: right;\n",
       "    }\n",
       "</style>\n",
       "<table border=\"1\" class=\"dataframe\">\n",
       "  <thead>\n",
       "    <tr style=\"text-align: right;\">\n",
       "      <th></th>\n",
       "      <th>shot_made_flag</th>\n",
       "      <th>action_type</th>\n",
       "      <th>combined_shot_type</th>\n",
       "      <th>loc_x</th>\n",
       "      <th>loc_y</th>\n",
       "      <th>minutes_remaining</th>\n",
       "      <th>seconds_remaining</th>\n",
       "      <th>period</th>\n",
       "      <th>playoffs</th>\n",
       "      <th>season</th>\n",
       "      <th>shot_distance</th>\n",
       "      <th>shot_type</th>\n",
       "      <th>shot_zone_area</th>\n",
       "      <th>shot_zone_basic</th>\n",
       "      <th>shot_zone_range</th>\n",
       "      <th>opponent</th>\n",
       "      <th>game_date</th>\n",
       "      <th>loc_cluster</th>\n",
       "      <th>time_remaining</th>\n",
       "      <th>made_in_last_30</th>\n",
       "      <th>game_weekday</th>\n",
       "      <th>game_month</th>\n",
       "    </tr>\n",
       "  </thead>\n",
       "  <tbody>\n",
       "    <tr>\n",
       "      <th>0</th>\n",
       "      <td>NaN</td>\n",
       "      <td>18</td>\n",
       "      <td>3</td>\n",
       "      <td>167</td>\n",
       "      <td>72</td>\n",
       "      <td>10</td>\n",
       "      <td>27</td>\n",
       "      <td>1</td>\n",
       "      <td>0</td>\n",
       "      <td>4</td>\n",
       "      <td>18</td>\n",
       "      <td>0</td>\n",
       "      <td>5</td>\n",
       "      <td>4</td>\n",
       "      <td>0</td>\n",
       "      <td>25</td>\n",
       "      <td>310</td>\n",
<<<<<<< HEAD
       "      <td>6</td>\n",
=======
       "      <td>8</td>\n",
>>>>>>> 2e27a2a439dbcefa3123ea3c5caa317425f0d630
       "      <td>627</td>\n",
       "      <td>False</td>\n",
       "      <td>1</td>\n",
       "      <td>10</td>\n",
       "    </tr>\n",
       "    <tr>\n",
       "      <th>1</th>\n",
       "      <td>0.0</td>\n",
       "      <td>18</td>\n",
       "      <td>3</td>\n",
       "      <td>-157</td>\n",
       "      <td>0</td>\n",
       "      <td>10</td>\n",
       "      <td>22</td>\n",
       "      <td>1</td>\n",
       "      <td>0</td>\n",
       "      <td>4</td>\n",
       "      <td>15</td>\n",
       "      <td>0</td>\n",
       "      <td>3</td>\n",
       "      <td>4</td>\n",
       "      <td>2</td>\n",
       "      <td>25</td>\n",
       "      <td>310</td>\n",
<<<<<<< HEAD
       "      <td>4</td>\n",
=======
       "      <td>7</td>\n",
>>>>>>> 2e27a2a439dbcefa3123ea3c5caa317425f0d630
       "      <td>622</td>\n",
       "      <td>False</td>\n",
       "      <td>1</td>\n",
       "      <td>10</td>\n",
       "    </tr>\n",
       "    <tr>\n",
       "      <th>2</th>\n",
       "      <td>1.0</td>\n",
       "      <td>18</td>\n",
       "      <td>3</td>\n",
       "      <td>-101</td>\n",
       "      <td>135</td>\n",
       "      <td>7</td>\n",
       "      <td>45</td>\n",
       "      <td>1</td>\n",
       "      <td>0</td>\n",
       "      <td>4</td>\n",
       "      <td>16</td>\n",
       "      <td>0</td>\n",
       "      <td>2</td>\n",
       "      <td>4</td>\n",
       "      <td>0</td>\n",
       "      <td>25</td>\n",
       "      <td>310</td>\n",
<<<<<<< HEAD
       "      <td>8</td>\n",
=======
       "      <td>3</td>\n",
>>>>>>> 2e27a2a439dbcefa3123ea3c5caa317425f0d630
       "      <td>465</td>\n",
       "      <td>False</td>\n",
       "      <td>1</td>\n",
       "      <td>10</td>\n",
       "    </tr>\n",
       "    <tr>\n",
       "      <th>3</th>\n",
       "      <td>0.0</td>\n",
       "      <td>18</td>\n",
       "      <td>3</td>\n",
       "      <td>138</td>\n",
       "      <td>175</td>\n",
       "      <td>6</td>\n",
       "      <td>52</td>\n",
       "      <td>1</td>\n",
       "      <td>0</td>\n",
       "      <td>4</td>\n",
       "      <td>22</td>\n",
       "      <td>0</td>\n",
       "      <td>4</td>\n",
       "      <td>4</td>\n",
       "      <td>0</td>\n",
       "      <td>25</td>\n",
       "      <td>310</td>\n",
<<<<<<< HEAD
       "      <td>6</td>\n",
=======
       "      <td>8</td>\n",
>>>>>>> 2e27a2a439dbcefa3123ea3c5caa317425f0d630
       "      <td>412</td>\n",
       "      <td>False</td>\n",
       "      <td>1</td>\n",
       "      <td>10</td>\n",
       "    </tr>\n",
       "    <tr>\n",
       "      <th>4</th>\n",
       "      <td>1.0</td>\n",
       "      <td>2</td>\n",
       "      <td>1</td>\n",
       "      <td>0</td>\n",
       "      <td>0</td>\n",
       "      <td>6</td>\n",
       "      <td>19</td>\n",
       "      <td>2</td>\n",
       "      <td>0</td>\n",
       "      <td>4</td>\n",
       "      <td>0</td>\n",
       "      <td>0</td>\n",
       "      <td>1</td>\n",
       "      <td>5</td>\n",
       "      <td>4</td>\n",
       "      <td>25</td>\n",
       "      <td>310</td>\n",
<<<<<<< HEAD
       "      <td>0</td>\n",
=======
       "      <td>2</td>\n",
>>>>>>> 2e27a2a439dbcefa3123ea3c5caa317425f0d630
       "      <td>379</td>\n",
       "      <td>False</td>\n",
       "      <td>1</td>\n",
       "      <td>10</td>\n",
       "    </tr>\n",
       "  </tbody>\n",
       "</table>\n",
       "</div>"
      ],
      "text/plain": [
       "   shot_made_flag  action_type  combined_shot_type  loc_x  loc_y  \\\n",
       "0             NaN           18                   3    167     72   \n",
       "1             0.0           18                   3   -157      0   \n",
       "2             1.0           18                   3   -101    135   \n",
       "3             0.0           18                   3    138    175   \n",
       "4             1.0            2                   1      0      0   \n",
       "\n",
       "   minutes_remaining  seconds_remaining  period  playoffs  season  \\\n",
       "0                 10                 27       1         0       4   \n",
       "1                 10                 22       1         0       4   \n",
       "2                  7                 45       1         0       4   \n",
       "3                  6                 52       1         0       4   \n",
       "4                  6                 19       2         0       4   \n",
       "\n",
       "   shot_distance  shot_type  shot_zone_area  shot_zone_basic  shot_zone_range  \\\n",
       "0             18          0               5                4                0   \n",
       "1             15          0               3                4                2   \n",
       "2             16          0               2                4                0   \n",
       "3             22          0               4                4                0   \n",
       "4              0          0               1                5                4   \n",
       "\n",
       "   opponent  game_date  loc_cluster  time_remaining  made_in_last_30  \\\n",
<<<<<<< HEAD
       "0        25        310            6             627            False   \n",
       "1        25        310            4             622            False   \n",
       "2        25        310            8             465            False   \n",
       "3        25        310            6             412            False   \n",
       "4        25        310            0             379            False   \n",
=======
       "0        25        310            8             627            False   \n",
       "1        25        310            7             622            False   \n",
       "2        25        310            3             465            False   \n",
       "3        25        310            8             412            False   \n",
       "4        25        310            2             379            False   \n",
>>>>>>> 2e27a2a439dbcefa3123ea3c5caa317425f0d630
       "\n",
       "   game_weekday  game_month  \n",
       "0             1          10  \n",
       "1             1          10  \n",
       "2             1          10  \n",
       "3             1          10  \n",
       "4             1          10  "
      ]
     },
<<<<<<< HEAD
     "execution_count": 85,
=======
     "execution_count": 40,
>>>>>>> 2e27a2a439dbcefa3123ea3c5caa317425f0d630
     "metadata": {},
     "output_type": "execute_result"
    }
   ],
   "source": [
    "d1.head(5)"
   ]
  },
  {
   "cell_type": "code",
<<<<<<< HEAD
   "execution_count": 86,
=======
   "execution_count": 41,
>>>>>>> 2e27a2a439dbcefa3123ea3c5caa317425f0d630
   "metadata": {},
   "outputs": [
    {
     "name": "stderr",
     "output_type": "stream",
     "text": [
<<<<<<< HEAD
      "/anaconda2/lib/python2.7/site-packages/ipykernel_launcher.py:2: SettingWithCopyWarning: \n",
=======
      "C:\\Users\\Desktop\\Anaconda3\\lib\\site-packages\\ipykernel_launcher.py:2: SettingWithCopyWarning: \n",
>>>>>>> 2e27a2a439dbcefa3123ea3c5caa317425f0d630
      "A value is trying to be set on a copy of a slice from a DataFrame\n",
      "\n",
      "See the caveats in the documentation: http://pandas.pydata.org/pandas-docs/stable/indexing.html#indexing-view-versus-copy\n",
      "  \n",
<<<<<<< HEAD
      "/anaconda2/lib/python2.7/site-packages/ipykernel_launcher.py:3: SettingWithCopyWarning: \n",
=======
      "C:\\Users\\Desktop\\Anaconda3\\lib\\site-packages\\ipykernel_launcher.py:3: SettingWithCopyWarning: \n",
>>>>>>> 2e27a2a439dbcefa3123ea3c5caa317425f0d630
      "A value is trying to be set on a copy of a slice from a DataFrame\n",
      "\n",
      "See the caveats in the documentation: http://pandas.pydata.org/pandas-docs/stable/indexing.html#indexing-view-versus-copy\n",
      "  This is separate from the ipykernel package so we can avoid doing imports until\n",
<<<<<<< HEAD
      "/anaconda2/lib/python2.7/site-packages/ipykernel_launcher.py:4: SettingWithCopyWarning: \n",
      "A value is trying to be set on a copy of a slice from a DataFrame\n",
      "\n",
      "See the caveats in the documentation: http://pandas.pydata.org/pandas-docs/stable/indexing.html#indexing-view-versus-copy\n",
      "  after removing the cwd from sys.path.\n",
      "/anaconda2/lib/python2.7/site-packages/ipykernel_launcher.py:5: SettingWithCopyWarning: \n",
      "A value is trying to be set on a copy of a slice from a DataFrame\n",
      "\n",
      "See the caveats in the documentation: http://pandas.pydata.org/pandas-docs/stable/indexing.html#indexing-view-versus-copy\n",
      "  \"\"\"\n",
      "/anaconda2/lib/python2.7/site-packages/ipykernel_launcher.py:6: SettingWithCopyWarning: \n",
      "A value is trying to be set on a copy of a slice from a DataFrame\n",
      "\n",
      "See the caveats in the documentation: http://pandas.pydata.org/pandas-docs/stable/indexing.html#indexing-view-versus-copy\n",
      "  \n",
      "/anaconda2/lib/python2.7/site-packages/ipykernel_launcher.py:7: SettingWithCopyWarning: \n",
      "A value is trying to be set on a copy of a slice from a DataFrame\n",
      "\n",
      "See the caveats in the documentation: http://pandas.pydata.org/pandas-docs/stable/indexing.html#indexing-view-versus-copy\n",
      "  import sys\n"
=======
      "C:\\Users\\Desktop\\Anaconda3\\lib\\site-packages\\ipykernel_launcher.py:4: SettingWithCopyWarning: \n",
      "A value is trying to be set on a copy of a slice from a DataFrame\n",
      "\n",
      "See the caveats in the documentation: http://pandas.pydata.org/pandas-docs/stable/indexing.html#indexing-view-versus-copy\n",
      "  after removing the cwd from sys.path.\n"
>>>>>>> 2e27a2a439dbcefa3123ea3c5caa317425f0d630
     ]
    }
   ],
   "source": [
    "# drop unused columns/variables that were transformed\n",
    "d1.drop(\"minutes_remaining\", 1, inplace=True)\n",
    "d1.drop(\"seconds_remaining\", 1, inplace=True)\n",
<<<<<<< HEAD
    "d1.drop(\"time_remaining\", 1, inplace=True)\n",
    "d1.drop(\"loc_x\", 1, inplace=True)\n",
    "d1.drop(\"loc_y\", 1, inplace=True)\n",
=======
>>>>>>> 2e27a2a439dbcefa3123ea3c5caa317425f0d630
    "d1.drop(\"game_date\", 1, inplace=True)"
   ]
  },
  {
   "cell_type": "code",
<<<<<<< HEAD
   "execution_count": 87,
=======
   "execution_count": 42,
>>>>>>> 2e27a2a439dbcefa3123ea3c5caa317425f0d630
   "metadata": {},
   "outputs": [
    {
     "data": {
      "text/html": [
       "<div>\n",
       "<style scoped>\n",
       "    .dataframe tbody tr th:only-of-type {\n",
       "        vertical-align: middle;\n",
       "    }\n",
       "\n",
       "    .dataframe tbody tr th {\n",
       "        vertical-align: top;\n",
       "    }\n",
       "\n",
       "    .dataframe thead th {\n",
       "        text-align: right;\n",
       "    }\n",
       "</style>\n",
       "<table border=\"1\" class=\"dataframe\">\n",
       "  <thead>\n",
       "    <tr style=\"text-align: right;\">\n",
       "      <th></th>\n",
       "      <th>shot_made_flag</th>\n",
       "      <th>action_type</th>\n",
       "      <th>combined_shot_type</th>\n",
       "      <th>loc_x</th>\n",
       "      <th>loc_y</th>\n",
       "      <th>period</th>\n",
       "      <th>playoffs</th>\n",
       "      <th>season</th>\n",
       "      <th>shot_distance</th>\n",
       "      <th>shot_type</th>\n",
       "      <th>shot_zone_area</th>\n",
       "      <th>shot_zone_basic</th>\n",
       "      <th>shot_zone_range</th>\n",
       "      <th>opponent</th>\n",
       "      <th>loc_cluster</th>\n",
<<<<<<< HEAD
=======
       "      <th>time_remaining</th>\n",
>>>>>>> 2e27a2a439dbcefa3123ea3c5caa317425f0d630
       "      <th>made_in_last_30</th>\n",
       "      <th>game_weekday</th>\n",
       "      <th>game_month</th>\n",
       "    </tr>\n",
       "  </thead>\n",
       "  <tbody>\n",
       "    <tr>\n",
       "      <th>0</th>\n",
       "      <td>NaN</td>\n",
       "      <td>18</td>\n",
       "      <td>3</td>\n",
       "      <td>167</td>\n",
       "      <td>72</td>\n",
       "      <td>1</td>\n",
       "      <td>0</td>\n",
       "      <td>4</td>\n",
       "      <td>18</td>\n",
       "      <td>0</td>\n",
       "      <td>5</td>\n",
       "      <td>4</td>\n",
       "      <td>0</td>\n",
       "      <td>25</td>\n",
<<<<<<< HEAD
       "      <td>6</td>\n",
=======
       "      <td>8</td>\n",
       "      <td>627</td>\n",
>>>>>>> 2e27a2a439dbcefa3123ea3c5caa317425f0d630
       "      <td>False</td>\n",
       "      <td>1</td>\n",
       "      <td>10</td>\n",
       "    </tr>\n",
       "    <tr>\n",
       "      <th>1</th>\n",
       "      <td>0.0</td>\n",
       "      <td>18</td>\n",
       "      <td>3</td>\n",
       "      <td>-157</td>\n",
       "      <td>0</td>\n",
       "      <td>1</td>\n",
       "      <td>0</td>\n",
       "      <td>4</td>\n",
       "      <td>15</td>\n",
       "      <td>0</td>\n",
       "      <td>3</td>\n",
       "      <td>4</td>\n",
       "      <td>2</td>\n",
       "      <td>25</td>\n",
<<<<<<< HEAD
       "      <td>4</td>\n",
=======
       "      <td>7</td>\n",
       "      <td>622</td>\n",
>>>>>>> 2e27a2a439dbcefa3123ea3c5caa317425f0d630
       "      <td>False</td>\n",
       "      <td>1</td>\n",
       "      <td>10</td>\n",
       "    </tr>\n",
       "    <tr>\n",
       "      <th>2</th>\n",
       "      <td>1.0</td>\n",
       "      <td>18</td>\n",
       "      <td>3</td>\n",
       "      <td>-101</td>\n",
       "      <td>135</td>\n",
       "      <td>1</td>\n",
       "      <td>0</td>\n",
       "      <td>4</td>\n",
       "      <td>16</td>\n",
       "      <td>0</td>\n",
       "      <td>2</td>\n",
       "      <td>4</td>\n",
       "      <td>0</td>\n",
       "      <td>25</td>\n",
<<<<<<< HEAD
       "      <td>8</td>\n",
=======
       "      <td>3</td>\n",
       "      <td>465</td>\n",
>>>>>>> 2e27a2a439dbcefa3123ea3c5caa317425f0d630
       "      <td>False</td>\n",
       "      <td>1</td>\n",
       "      <td>10</td>\n",
       "    </tr>\n",
       "    <tr>\n",
       "      <th>3</th>\n",
       "      <td>0.0</td>\n",
       "      <td>18</td>\n",
       "      <td>3</td>\n",
       "      <td>138</td>\n",
       "      <td>175</td>\n",
       "      <td>1</td>\n",
       "      <td>0</td>\n",
       "      <td>4</td>\n",
       "      <td>22</td>\n",
       "      <td>0</td>\n",
       "      <td>4</td>\n",
       "      <td>4</td>\n",
       "      <td>0</td>\n",
       "      <td>25</td>\n",
<<<<<<< HEAD
       "      <td>6</td>\n",
=======
       "      <td>8</td>\n",
       "      <td>412</td>\n",
>>>>>>> 2e27a2a439dbcefa3123ea3c5caa317425f0d630
       "      <td>False</td>\n",
       "      <td>1</td>\n",
       "      <td>10</td>\n",
       "    </tr>\n",
       "    <tr>\n",
       "      <th>4</th>\n",
       "      <td>1.0</td>\n",
       "      <td>2</td>\n",
       "      <td>1</td>\n",
       "      <td>0</td>\n",
       "      <td>0</td>\n",
       "      <td>2</td>\n",
       "      <td>0</td>\n",
       "      <td>4</td>\n",
       "      <td>0</td>\n",
       "      <td>0</td>\n",
       "      <td>1</td>\n",
       "      <td>5</td>\n",
       "      <td>4</td>\n",
       "      <td>25</td>\n",
<<<<<<< HEAD
       "      <td>0</td>\n",
=======
       "      <td>2</td>\n",
       "      <td>379</td>\n",
>>>>>>> 2e27a2a439dbcefa3123ea3c5caa317425f0d630
       "      <td>False</td>\n",
       "      <td>1</td>\n",
       "      <td>10</td>\n",
       "    </tr>\n",
       "  </tbody>\n",
       "</table>\n",
       "</div>"
      ],
      "text/plain": [
       "   shot_made_flag  action_type  combined_shot_type  loc_x  loc_y  period  \\\n",
       "0             NaN           18                   3    167     72       1   \n",
       "1             0.0           18                   3   -157      0       1   \n",
       "2             1.0           18                   3   -101    135       1   \n",
       "3             0.0           18                   3    138    175       1   \n",
       "4             1.0            2                   1      0      0       2   \n",
       "\n",
       "   playoffs  season  shot_distance  shot_type  shot_zone_area  \\\n",
       "0         0       4             18          0               5   \n",
       "1         0       4             15          0               3   \n",
       "2         0       4             16          0               2   \n",
       "3         0       4             22          0               4   \n",
       "4         0       4              0          0               1   \n",
       "\n",
<<<<<<< HEAD
       "   opponent  loc_cluster  made_in_last_30  game_weekday  game_month  \n",
       "0        25            6            False             1          10  \n",
       "1        25            4            False             1          10  \n",
       "2        25            8            False             1          10  \n",
       "3        25            6            False             1          10  \n",
       "4        25            0            False             1          10  "
      ]
     },
     "execution_count": 87,
=======
       "   shot_zone_basic  shot_zone_range  opponent  loc_cluster  time_remaining  \\\n",
       "0                4                0        25            8             627   \n",
       "1                4                2        25            7             622   \n",
       "2                4                0        25            3             465   \n",
       "3                4                0        25            8             412   \n",
       "4                5                4        25            2             379   \n",
       "\n",
       "   made_in_last_30  game_weekday  game_month  \n",
       "0            False             1          10  \n",
       "1            False             1          10  \n",
       "2            False             1          10  \n",
       "3            False             1          10  \n",
       "4            False             1          10  "
      ]
     },
     "execution_count": 42,
>>>>>>> 2e27a2a439dbcefa3123ea3c5caa317425f0d630
     "metadata": {},
     "output_type": "execute_result"
    }
   ],
   "source": [
    "d1.head(5)"
   ]
  },
  {
   "cell_type": "markdown",
   "metadata": {},
   "source": [
    "### Test, train, dev datasets"
   ]
  },
  {
   "cell_type": "code",
<<<<<<< HEAD
   "execution_count": 88,
=======
   "execution_count": 43,
>>>>>>> 2e27a2a439dbcefa3123ea3c5caa317425f0d630
   "metadata": {},
   "outputs": [
    {
     "name": "stdout",
     "output_type": "stream",
     "text": [
<<<<<<< HEAD
      "(20697, 15)\n",
      "(5000, 15)\n"
=======
      "(20697, 18)\n",
      "(5000, 18)\n"
>>>>>>> 2e27a2a439dbcefa3123ea3c5caa317425f0d630
     ]
    }
   ],
   "source": [
    "## create test dataset\n",
    "d2 = d1[pd.notnull(d1['shot_made_flag'])]\n",
    "X = d2.drop('shot_made_flag', 1)\n",
    "Y = d2['shot_made_flag']\n",
    "\n",
    "test = d1[pd.isnull(d1['shot_made_flag'])]\n",
    "test = test.drop('shot_made_flag', 1)\n",
    "\n",
    "## create train and dev datasets\n",
    "## shuffle dataframe rows\n",
    "\n",
    "## Shuffle the input\n",
    "np.random.seed(50)\n",
    "shuffle = d1.sample(frac=1)\n",
    "d2_shuffle = shuffle[pd.notnull(shuffle['shot_made_flag'])]\n",
    "X_shuffle = d2_shuffle.drop('shot_made_flag', 1)\n",
    "Y_shuffle = d2_shuffle['shot_made_flag']\n",
    "\n",
    "## create train and test set\n",
    "X_train, Y_train = X_shuffle.iloc[:20697], Y_shuffle.iloc[:20697]\n",
    "X_dev, Y_dev = X_shuffle.iloc[20697:], Y_shuffle.iloc[20697:]\n",
    "\n",
    "print(X_train.shape)\n",
    "print(X_dev.shape)\n",
    "\n",
    "train_data, train_labels = X_train.values, Y_train.values\n",
    "dev_data, dev_labels = X_dev.values, Y_dev.values"
   ]
  },
  {
   "cell_type": "code",
   "execution_count": 44,
   "metadata": {},
   "outputs": [
    {
     "name": "stdout",
     "output_type": "stream",
     "text": [
      "[[6 4 0 0 1 0 2 0 0 1 5 4 6 2 115 False 0 3]\n",
      " [18 3 -6 149 1 1 3 14 0 1 4 2 25 1 587 False 6 5]\n",
      " [18 3 43 207 1 0 5 21 0 1 4 0 13 1 373 False 4 12]\n",
      " [18 3 67 40 3 1 6 7 0 1 2 4 16 5 448 False 6 4]\n",
      " [13 4 35 26 1 0 5 4 0 1 2 4 16 5 112 False 3 4]]\n"
     ]
    }
   ],
   "source": [
    "print(train_data[:5,:])"
   ]
  },
  {
   "cell_type": "markdown",
   "metadata": {},
   "source": [
    "## Modeling part 1"
   ]
  },
  {
   "cell_type": "markdown",
   "metadata": {},
   "source": [
    "### Logistic Regression"
   ]
  },
  {
   "cell_type": "code",
<<<<<<< HEAD
   "execution_count": 309,
=======
   "execution_count": 45,
>>>>>>> 2e27a2a439dbcefa3123ea3c5caa317425f0d630
   "metadata": {},
   "outputs": [
    {
     "name": "stdout",
     "output_type": "stream",
     "text": [
      "Logistic Regression Model:\n",
<<<<<<< HEAD
      "Optimal C = {'C': 0.05}; best LR score = 0.605\n",
      "\n",
      "Accuracy with dev data = 0.612\n"
=======
      "Optimal C = {'C': 0.05}; best LR score = 0.607\n",
      "\n",
      "Accuracy with dev data = 0.615\n"
>>>>>>> 2e27a2a439dbcefa3123ea3c5caa317425f0d630
     ]
    }
   ],
   "source": [
    "## Logistic regression model\n",
    "lr_model = LogisticRegression(penalty=\"l2\")\n",
    "Cs = {\"C\": [0.05, 0.1, 0.15, 0.2, 0.25, 0.3, 0.35, 0.4]}\n",
    "## use grid search to try different C values\n",
    "gs_lr = GridSearchCV(lr_model, Cs)\n",
    "gs_lr.fit(train_data, train_labels)\n",
    "print (\"Logistic Regression Model:\")\n",
    "print (\"Optimal C = {}; best LR score = {:.3}\\n\".format(gs_lr.best_params_, gs_lr.best_score_) )\n",
    "## using optimal C\n",
    "lr_model_optimal = LogisticRegression(C=gs_lr.best_params_[\"C\"])\n",
    "lr_model_optimal.fit(train_data, train_labels)\n",
    "predicted_dev_lr = lr_model_optimal.predict(dev_data)\n",
    "prob_lr = lr_model_optimal.predict_proba(dev_data)\n",
    "print (\"Accuracy with dev data = {:.3}\".format(np.mean(dev_labels == predicted_dev)) )"
   ]
  },
  {
<<<<<<< HEAD
=======
   "cell_type": "code",
   "execution_count": 46,
   "metadata": {
    "collapsed": true
   },
   "outputs": [],
   "source": [
    "## Kaggle submission score for logistic regression: 0.74563"
   ]
  },
  {
>>>>>>> 2e27a2a439dbcefa3123ea3c5caa317425f0d630
   "cell_type": "markdown",
   "metadata": {},
   "source": [
    "### BernoulliNB"
   ]
  },
  {
   "cell_type": "code",
<<<<<<< HEAD
   "execution_count": 306,
=======
   "execution_count": 47,
>>>>>>> 2e27a2a439dbcefa3123ea3c5caa317425f0d630
   "metadata": {
    "scrolled": true
   },
   "outputs": [
    {
<<<<<<< HEAD
=======
     "name": "stderr",
     "output_type": "stream",
     "text": [
      "C:\\Users\\Desktop\\Anaconda3\\lib\\site-packages\\sklearn\\naive_bayes.py:472: UserWarning: alpha too small will result in numeric errors, setting alpha = 1.0e-10\n",
      "  'setting alpha = %.1e' % _ALPHA_MIN)\n",
      "C:\\Users\\Desktop\\Anaconda3\\lib\\site-packages\\sklearn\\naive_bayes.py:472: UserWarning: alpha too small will result in numeric errors, setting alpha = 1.0e-10\n",
      "  'setting alpha = %.1e' % _ALPHA_MIN)\n",
      "C:\\Users\\Desktop\\Anaconda3\\lib\\site-packages\\sklearn\\naive_bayes.py:472: UserWarning: alpha too small will result in numeric errors, setting alpha = 1.0e-10\n",
      "  'setting alpha = %.1e' % _ALPHA_MIN)\n"
     ]
    },
    {
>>>>>>> 2e27a2a439dbcefa3123ea3c5caa317425f0d630
     "name": "stdout",
     "output_type": "stream",
     "text": [
      "BernoulliNB Model:\n",
<<<<<<< HEAD
      "Optimal alpha = {'alpha': 2.0}; best BernoulliNB score = 0.605\n",
      "\n",
      "Accuracy with dev data = 0.606\n"
=======
      "Optimal alpha = {'alpha': 10.0}; best BernoulliNB score = 0.598\n",
      "\n",
      "Accuracy with dev data = 0.602\n"
>>>>>>> 2e27a2a439dbcefa3123ea3c5caa317425f0d630
     ]
    }
   ],
   "source": [
    "## BernoulliNB model with default\n",
    "bernoulli_model = BernoulliNB()\n",
    "alphas = {'alpha': [0.0, 0.001, 0.01, 0.1, 0.5, 1.0, 2.0, 10.0]}\n",
    "## perform search using GridSearchCV in Bernoulli NB model\n",
    "gs_b = GridSearchCV(bernoulli_model, alphas)\n",
    "## fit the model with mini training set\n",
    "gs_b.fit(train_data, train_labels)\n",
    "print (\"BernoulliNB Model:\")\n",
    "print (\"Optimal alpha = {}; best BernoulliNB score = {:.3}\\n\".format(gs_b.best_params_, gs_b.best_score_) )\n",
    "## using optimal alpha\n",
    "b_model_optimal = BernoulliNB(alpha=gs_b.best_params_['alpha'])\n",
    "b_model_optimal.fit(train_data, train_labels)\n",
    "predicted_dev = b_model_optimal.predict(dev_data)\n",
    "prob_b = b_model_optimal.predict_proba(dev_data)\n",
    "print (\"Accuracy with dev data = {:.3}\".format(np.mean(dev_labels == predicted_dev)) )"
   ]
  },
  {
<<<<<<< HEAD
=======
   "cell_type": "code",
   "execution_count": 48,
   "metadata": {
    "collapsed": true
   },
   "outputs": [],
   "source": [
    "## Kaggle submission score for BernoulliNB: 0.78988"
   ]
  },
  {
>>>>>>> 2e27a2a439dbcefa3123ea3c5caa317425f0d630
   "cell_type": "markdown",
   "metadata": {},
   "source": [
    "### K Nearest Neighbors"
   ]
  },
  {
   "cell_type": "code",
<<<<<<< HEAD
   "execution_count": 115,
=======
   "execution_count": 49,
>>>>>>> 2e27a2a439dbcefa3123ea3c5caa317425f0d630
   "metadata": {},
   "outputs": [
    {
     "name": "stdout",
     "output_type": "stream",
     "text": [
      "K-Nearest Neighbors Classifier:\n",
<<<<<<< HEAD
      "Optimal k = {'n_neighbors': 14}; best KNN score = 0.642\n",
      "\n",
      "Accuracy with dev data = 0.642\n"
=======
      "Optimal k = {'n_neighbors': 14}; best KNN score = 0.599\n",
      "\n",
      "Accuracy with dev data = 0.61\n"
>>>>>>> 2e27a2a439dbcefa3123ea3c5caa317425f0d630
     ]
    }
   ],
   "source": [
    "## KNN classifier\n",
    "knn_model = KNeighborsClassifier()\n",
    "k_values = {\"n_neighbors\": [1,2,3,4,5,6,7,8,9,10,11,12,13,14,15] }\n",
    "## use grid search to try different # of neighbors\n",
    "gs_knn = GridSearchCV(knn_model, k_values)\n",
    "gs_knn.fit(train_data, train_labels) \n",
    "print (\"K-Nearest Neighbors Classifier:\" )\n",
    "print (\"Optimal k = {}; best KNN score = {:.3}\\n\".format(gs_knn.best_params_, gs_knn.best_score_) )\n",
    "# using most optimal k value, report f1 score\n",
    "knn_model_optimal = KNeighborsClassifier(n_neighbors=gs_knn.best_params_[\"n_neighbors\"])\n",
    "knn_model_optimal.fit(train_data, train_labels)\n",
    "predicted_dev = knn_model_optimal.predict(dev_data)\n",
    "prob_knn = knn_model_optimal.predict_proba(dev_data)\n",
    "print (\"Accuracy with dev data = {:.3}\".format(np.mean(dev_labels == predicted_dev)) )"
   ]
  },
  {
<<<<<<< HEAD
=======
   "cell_type": "code",
   "execution_count": 50,
   "metadata": {
    "collapsed": true
   },
   "outputs": [],
   "source": [
    "## Kaggle submission score for KNN classifier: 1.22009"
   ]
  },
  {
>>>>>>> 2e27a2a439dbcefa3123ea3c5caa317425f0d630
   "cell_type": "markdown",
   "metadata": {},
   "source": [
    "### Gradient Boosted Decision Trees"
   ]
  },
  {
   "cell_type": "code",
<<<<<<< HEAD
   "execution_count": 313,
=======
   "execution_count": 51,
>>>>>>> 2e27a2a439dbcefa3123ea3c5caa317425f0d630
   "metadata": {},
   "outputs": [
    {
     "name": "stdout",
     "output_type": "stream",
     "text": [
      "Gradient Boosted Decision Trees:\n",
<<<<<<< HEAD
      "Optimal parameters = {'n_estimators': 100, 'learning_rate': 0.1}; best GB score = 0.677\n",
=======
      "Optimal parameters = {'learning_rate': 0.1, 'n_estimators': 100}; best GB score = 0.678\n",
>>>>>>> 2e27a2a439dbcefa3123ea3c5caa317425f0d630
      "\n",
      "Accuracy with dev data = 0.612\n"
     ]
    }
   ],
   "source": [
    "## Gradient Boosted Decision Trees\n",
    "gb_model = GradientBoostingClassifier()\n",
    "n_estimators = [100, 200, 300, 400, 500]\n",
    "learning_rate = [0.001, 0.01, 0.1]\n",
    "param_grid = dict(learning_rate=learning_rate, n_estimators=n_estimators)\n",
    "gs_gb = GridSearchCV(gb_model, param_grid)\n",
    "gs_gb.fit(train_data, train_labels)\n",
    "print (\"Gradient Boosted Decision Trees:\")\n",
    "print (\"Optimal parameters = {}; best GB score = {:.3}\\n\".format(gs_gb.best_params_, gs_gb.best_score_) )\n",
    "gb_model_optimal = GradientBoostingClassifier(learning_rate=0.1, n_estimators=100)\n",
    "gb_model_optimal.fit(train_data, train_labels)\n",
    "predicted_dev_gb = gb_model_optimal.predict(dev_data)\n",
    "prob_gb = gb_model_optimal.predict_proba(dev_data)\n",
    "print (\"Accuracy with dev data = {:.3}\".format(np.mean(dev_labels == predicted_dev)) )"
   ]
  },
  {
   "cell_type": "markdown",
   "metadata": {},
   "source": [
    "## Evaluation\n",
    "\n",
    "To predict whether Kobe's shots were made, we created four modes, logsitic regression, Bernoulli NB, K Nearest Neighbors and gradient boosted regression tree with the best Kaggle scores of 0.81217, 0.92939, 1.63969 and 0.97197. To evaluate the errors made by these models, we chose the two best performing models, logistic regression and gradient boosted regression tree."
   ]
  },
  {
   "cell_type": "code",
<<<<<<< HEAD
   "execution_count": 326,
   "metadata": {},
   "outputs": [],
   "source": [
    "def error_analysis(d, true_labels, pred_labels, predict_proba):\n",
    "    # observe confusion matrix\n",
    "    print (\"Confusion matrix: \")\n",
    "    print(metrics.confusion_matrix(y_true=true_labels,y_pred=pred_labels,labels=[0,1]))\n",
    "    \n",
    "    # find max label probability \n",
    "    max_probs = np.max(predict_proba, axis=1)\n",
    "    true_label_probs = []\n",
    "    for label in range(len(pred_labels)):\n",
    "        true_label_probs.append(predict_proba[label][int(true_labels[label])])\n",
    "    r_ratio = max_probs / true_label_probs\n",
    "    # get index\n",
    "    indices = np.argpartition(r_ratio, -5)[-5:]\n",
    "    print indices\n",
    "    \n",
    "    print \"\\nPredicted label  Correct label  R-ratio  Predicted probabilities\"\n",
    "    for index in indices:\n",
    "        # pred lable, correct label, ratio r, probability of label\n",
    "        print \"{:9}           {:5}        {:0.3f}        {}\".format(pred_labels[index], true_labels[index], r_ratio[index], predict_proba[label])\n",
    "    print \"\\nSnippet of dev data set: \"\n",
    "    print list(X_dev.dtypes.index)\n",
    "    for index in indices:\n",
    "        print d[index]\n",
    "        "
   ]
  },
  {
   "cell_type": "markdown",
   "metadata": {},
   "source": [
    "#### Logistic regression model error analysis"
   ]
  },
  {
   "cell_type": "code",
   "execution_count": 327,
=======
   "execution_count": 52,
>>>>>>> 2e27a2a439dbcefa3123ea3c5caa317425f0d630
   "metadata": {
    "scrolled": true
   },
   "outputs": [
    {
     "name": "stdout",
     "output_type": "stream",
     "text": [
      "Confusion matrix: \n",
      "[[2259  555]\n",
      " [1383  803]]\n",
      "[3521  174 2816 3093 2356]\n",
      "\n",
      "Predicted label  Correct label  R-ratio  Predicted probabilities\n",
      "      1.0             0.0        4.473        [0.42 0.58]\n",
      "      1.0             0.0        4.818        [0.42 0.58]\n",
      "      1.0             0.0        4.812        [0.42 0.58]\n",
      "      1.0             0.0        4.826        [0.42 0.58]\n",
      "      0.0             1.0        4.538        [0.42 0.58]\n",
      "\n",
      "Snippet of dev data set: \n",
      "['action_type', 'combined_shot_type', 'period', 'playoffs', 'season', 'shot_distance', 'shot_type', 'shot_zone_area', 'shot_zone_basic', 'shot_zone_range', 'opponent', 'loc_cluster', 'made_in_last_30', 'game_weekday', 'game_month']\n",
      "[9 1 4L 1L 1 0L 0 1 5 4 25 0L False 3L 4L]\n",
      "[9 1 1L 0L 8 0L 0 1 5 4 10 0L False 3L 4L]\n",
      "[9 1 3L 0L 13 0L 0 1 5 4 24 0L False 4L 3L]\n",
      "[9 1 2L 1L 4 0L 0 1 5 4 23 0L False 2L 6L]\n",
      "[18 3 5L 0L 2 29L 1 4 0 1 7 6L True 0L 2L]\n"
     ]
    }
   ],
   "source": [
    "## logistic regression error analysis\n",
    "error_analysis(dev_data, dev_labels, predicted_dev_lr, prob_lr)"
   ]
  },
  {
   "cell_type": "markdown",
   "metadata": {},
   "source": [
    "Logistic regression model had the best Kaggle score of 0.81217, with the accuracy of 0.612. The logsitic regression model introduced false negatives, where the model predicted Kobe missed the shot when in fact it was a successful shot. Observing the details of the shots that were predicted incorrectly in detail, we believe the shot type and boolean expression of whether the shot was made with 30 seconds remaining in the period to be negatively impacting the predictions. Kobe missed most of the long distance shots attempted with less than 30 seconds remaining in the period, but the model seems to be driven by the outliers, the shots that he did make. "
   ]
  },
  {
   "cell_type": "markdown",
   "metadata": {},
   "source": [
    "#### Gradient boosted decision tree error analysis"
   ]
  },
  {
   "cell_type": "code",
   "execution_count": 328,
   "metadata": {},
   "outputs": [
    {
     "name": "stdout",
     "output_type": "stream",
     "text": [
      "Confusion matrix: \n",
      "[[2452  362]\n",
      " [1179 1007]]\n",
      "[3630 3770 3758 2356 1874]\n",
      "\n",
      "Predicted label  Correct label  R-ratio  Predicted probabilities\n",
      "      1.0             0.0        6.192        [0.2 0.8]\n",
      "      0.0             1.0        6.280        [0.2 0.8]\n",
      "      0.0             1.0        6.922        [0.2 0.8]\n",
      "      0.0             1.0        6.989        [0.2 0.8]\n",
      "      0.0             1.0        7.443        [0.2 0.8]\n",
      "\n",
      "Snippet of dev data set: \n",
      "['action_type', 'combined_shot_type', 'period', 'playoffs', 'season', 'shot_distance', 'shot_type', 'shot_zone_area', 'shot_zone_basic', 'shot_zone_range', 'opponent', 'loc_cluster', 'made_in_last_30', 'game_weekday', 'game_month']\n",
      "[20 1 4L 0L 10 0L 0 1 5 4 6 0L False 3L 1L]\n",
      "[18 3 2L 0L 10 28L 1 2 0 1 9 8L True 0L 1L]\n",
      "[18 3 3L 0L 10 29L 1 2 0 1 2 8L True 2L 1L]\n",
      "[18 3 5L 0L 2 29L 1 4 0 1 7 6L True 0L 2L]\n",
      "[18 3 4L 0L 2 28L 1 1 0 1 11 7L True 6L 2L]\n"
     ]
    }
   ],
   "source": [
    "error_analysis(dev_data, dev_labels, predicted_dev_gb, prob_gb)"
   ]
  },
  {
   "cell_type": "markdown",
   "metadata": {},
   "source": [
    "Gradient boosted decision tree had the best Kaggle score of 0.97197 and accuracy of 0.612 with dev data. Similar to the logistic regression model, we believe shot/action type and the outliers of shots made in the last 30 seconds  to be causing false negatives in gradient boosted decision tree model."
   ]
  },
  {
   "cell_type": "markdown",
   "metadata": {},
   "source": [
    "Based on the results of the four initial classifiers, we decided to experiement with principal component analysis and gaussian mixture model to identify the multiple componenet settings to achieve highest accuracy."
   ]
  },
  {
   "cell_type": "markdown",
   "metadata": {},
   "source": [
    "## Modeling part 2"
   ]
  },
  {
   "cell_type": "markdown",
   "metadata": {},
   "source": [
    "### Gaussian Mixture Model"
   ]
  },
  {
   "cell_type": "code",
<<<<<<< HEAD
   "execution_count": 291,
=======
   "execution_count": 53,
>>>>>>> 2e27a2a439dbcefa3123ea3c5caa317425f0d630
   "metadata": {},
   "outputs": [
    {
     "name": "stdout",
     "output_type": "stream",
     "text": [
<<<<<<< HEAD
      "4\n"
=======
      "2\n"
>>>>>>> 2e27a2a439dbcefa3123ea3c5caa317425f0d630
     ]
    },
    {
     "data": {
<<<<<<< HEAD
      "image/png": "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\n",
      "text/plain": [
       "<matplotlib.figure.Figure at 0x1a26be0290>"
=======
      "image/png": "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\n",
      "text/plain": [
       "<matplotlib.figure.Figure at 0xd05df98>"
>>>>>>> 2e27a2a439dbcefa3123ea3c5caa317425f0d630
      ]
     },
     "metadata": {},
     "output_type": "display_data"
    }
   ],
   "source": [
    "## GMM Model\n",
    "\n",
    "# Determine appropriate PCA component count\n",
    "pca = PCA(n_components=13)\n",
    "pca.fit(train_data)\n",
    "plt.plot(np.cumsum(pca.explained_variance_ratio_))\n",
    "print (np.sum(np.cumsum(pca.explained_variance_ratio_) < .9))"
   ]
  },
  {
   "cell_type": "code",
<<<<<<< HEAD
   "execution_count": 292,
=======
   "execution_count": 54,
>>>>>>> 2e27a2a439dbcefa3123ea3c5caa317425f0d630
   "metadata": {},
   "outputs": [
    {
     "data": {
      "text/plain": [
<<<<<<< HEAD
       "array([[-15.78,  11.6 ,  -9.59],\n",
       "       [ -0.34,  -8.72,   0.06],\n",
       "       [  7.7 ,   2.79,  -1.35],\n",
       "       [ -7.06,   1.19,   1.12],\n",
       "       [-10.88,   1.45,  -3.24]])"
      ]
     },
     "execution_count": 292,
=======
       "array([[-202.66814734,    4.16268836, -101.13929537],\n",
       "       [ 262.49754882,   16.98042032,   68.28435157],\n",
       "       [  46.46738363,  -31.91244508,  118.80152297],\n",
       "       [ 128.65873816,  -59.64043403,  -44.71805276],\n",
       "       [-206.5971111 ,  -30.16773316,  -74.0321537 ]])"
      ]
     },
     "execution_count": 54,
>>>>>>> 2e27a2a439dbcefa3123ea3c5caa317425f0d630
     "metadata": {},
     "output_type": "execute_result"
    }
   ],
   "source": [
    "# ideal # components looks like 3-4\n",
    "num_comp = 3\n",
    "\n",
    "# project training and dev data to 3d\n",
    "pca = PCA(n_components=num_comp)\n",
    "pca.fit(train_data)\n",
    "train_3d = pca.transform(train_data)\n",
    "dev_3d = pca.transform(dev_data)\n",
    "train_3d[:5,:]\n"
   ]
  },
  {
   "cell_type": "code",
<<<<<<< HEAD
   "execution_count": 293,
=======
   "execution_count": 55,
>>>>>>> 2e27a2a439dbcefa3123ea3c5caa317425f0d630
   "metadata": {},
   "outputs": [
    {
     "name": "stdout",
     "output_type": "stream",
     "text": [
      "Gaussian Mixture Models:\n",
<<<<<<< HEAD
      "Optimal parameters = {'covariance_type': 'full', 'n_components': 3}; best GMM score = -8.7\n",
      "\n"
=======
      "Optimal parameters = {'covariance_type': 'full', 'n_components': 4}; best GMM score = -18.6\n",
      "\n",
      "Accuracy with dev data = 0.238\n"
>>>>>>> 2e27a2a439dbcefa3123ea3c5caa317425f0d630
     ]
    }
   ],
   "source": [
    "## perform search using GridSearchCV for GaussianMixture model\n",
    "gmm_model = GaussianMixture()\n",
    "comps = [1, 2, 3, 4]\n",
    "structures = ['spherical', 'tied', 'diag', 'full']\n",
    "param_grid = dict(n_components=comps, covariance_type=structures)\n",
    "gs_gmm = GridSearchCV(gmm_model, param_grid)\n",
    "gs_gmm.fit(train_3d, train_labels)\n",
    "print (\"Gaussian Mixture Models:\")\n",
    "print (\"Optimal parameters = {}; best GMM score = {:.3}\\n\".format(gs_gmm.best_params_, gs_gmm.best_score_) )"
   ]
  },
  {
   "cell_type": "code",
<<<<<<< HEAD
   "execution_count": 298,
=======
   "execution_count": 56,
>>>>>>> 2e27a2a439dbcefa3123ea3c5caa317425f0d630
   "metadata": {},
   "outputs": [
    {
     "name": "stdout",
     "output_type": "stream",
     "text": [
<<<<<<< HEAD
      "Accuracy with dev data = 0.665\n"
=======
      "Accuracy with dev data = 0.497\n"
>>>>>>> 2e27a2a439dbcefa3123ea3c5caa317425f0d630
     ]
    }
   ],
   "source": [
    "## Best-of GMM\n",
    "train_3d_pos = pca.transform(train_data[train_labels==1])\n",
    "train_3d_neg = pca.transform(train_data[train_labels==0])\n",
    "\n",
    "## Create one GMM model for the positive examples, and one for negative\n",
    "gmm_mod_pos = GaussianMixture(n_components=gs_gmm.best_params_[\"n_components\"], covariance_type=gs_gmm.best_params_[\"covariance_type\"])\n",
    "gmm_mod_pos.fit(train_3d_pos)\n",
    "gmm_mod_neg = GaussianMixture(n_components=gs_gmm.best_params_[\"n_components\"], covariance_type=gs_gmm.best_params_[\"covariance_type\"])\n",
    "gmm_mod_neg.fit(train_3d_neg)\n",
    "\n",
    "pred = np.empty([dev_3d.shape[0],1])\n",
    "prob_gmm = []\n",
    "for i in range(0, len(dev_3d)):\n",
    "    record = dev_3d[i].reshape(1, -1)\n",
    "    if np.exp(gmm_mod_pos.score(record)) > np.exp(gmm_mod_neg.score(record)):\n",
    "        pred[i] = 1\n",
    "    else: \n",
    "        pred[i] = 0\n",
<<<<<<< HEAD
    "    prob_gmm.append([np.exp(gmm_mod_pos.score(record)) / (np.exp(gmm_mod_pos.score(record)) + np.exp(gmm_mod_neg.score(record)))]) \n",
    "        \n",
    "accuracy = 0\n",
    "for i in range(len(pred)):\n",
    "    if pred[i] == dev_labels[i]:\n",
    "        accuracy+=1\n",
    "accuracy = accuracy*1.0     \n",
    "    \n",
    "# compute accuracy\n",
    "print (\"Accuracy with dev data = {:.3}\".format(accuracy/len(pred)))"
=======
    "    \n",
    "# compute accuracy\n",
    "print (\"Accuracy with dev data = {:.3}\".format(np.mean(dev_labels == pred)) )"
>>>>>>> 2e27a2a439dbcefa3123ea3c5caa317425f0d630
   ]
  },
  {
   "cell_type": "markdown",
   "metadata": {},
   "source": [
    "## Final results & analysis"
   ]
  },
  {
   "cell_type": "markdown",
   "metadata": {},
   "source": [
    "GMM with 3 componenets and covariance type \"full\" with 3 PCA components achieved the best Kaggle score of 0.89021."
   ]
  },
  {
   "cell_type": "markdown",
   "metadata": {},
   "source": [
    "## Deployment"
   ]
  },
  {
   "cell_type": "markdown",
   "metadata": {},
   "source": [
    "To deploy the model, the predicted probablities for the data missing 'shot_made_flag' are written to a CSV file. This file is uploaded to Kaggle and automatically scored."
   ]
  },
  {
   "cell_type": "code",
<<<<<<< HEAD
   "execution_count": 347,
   "metadata": {},
=======
   "execution_count": 57,
   "metadata": {
    "collapsed": true
   },
>>>>>>> 2e27a2a439dbcefa3123ea3c5caa317425f0d630
   "outputs": [],
   "source": [
    "sample['shot_made_flag'] = prob_gmm_t\n",
    "sample.to_csv(\"submission_gmm.csv\", index=False)"
   ]
  },
  {
   "cell_type": "markdown",
   "metadata": {},
   "source": [
    "Our final Kaggle score was XXX.\n",
    "\n",
    "[Screenshot]"
   ]
  },
  {
   "cell_type": "markdown",
   "metadata": {},
   "source": [
    "### DELETE BEFORE SUBMITTING"
   ]
  },
  {
   "cell_type": "code",
   "execution_count": 100,
   "metadata": {},
   "outputs": [],
   "source": [
    "#logistic regression kaggle\n",
    "## Logistic regression model\n",
    "lr_model_optimal = LogisticRegression(C=gs_lr.best_params_[\"C\"])\n",
    "lr_model_optimal.fit(X, Y)\n",
    "kaggle_submission = lr_model_optimal.predict_proba(test)\n"
   ]
  },
  {
   "cell_type": "code",
   "execution_count": 102,
   "metadata": {},
   "outputs": [],
   "source": [
    "#beroulli kaggle\n",
    "## BernoulliNB model with default\n",
    "b_model_optimal = BernoulliNB(alpha=gs_b.best_params_['alpha'])\n",
    "b_model_optimal.fit(X, Y)\n",
    "kaggle_submission = b_model_optimal.predict_proba(test)"
   ]
  },
  {
   "cell_type": "code",
   "execution_count": 104,
   "metadata": {},
   "outputs": [],
   "source": [
    "## KNN classifier kaggle\n",
    "knn_model_optimal = KNeighborsClassifier(n_neighbors=gs_knn.best_params_[\"n_neighbors\"])\n",
    "knn_model_optimal.fit(X, Y)\n",
    "kaggle_submission = knn_model_optimal.predict_proba(test)"
   ]
  },
  {
   "cell_type": "code",
   "execution_count": 106,
   "metadata": {},
   "outputs": [],
   "source": [
    "gb_model_optimal = GradientBoostingClassifier(learning_rate=0.1, n_estimators=100)\n",
    "gb_model_optimal.fit(X, Y)\n",
    "kaggle_submission = gb_model_optimal.predict_proba(test)\n"
   ]
  },
  {
   "cell_type": "code",
   "execution_count": 346,
   "metadata": {},
   "outputs": [
    {
     "name": "stdout",
     "output_type": "stream",
     "text": [
      "Accuracy with dev data = 0.525\n"
     ]
    }
   ],
   "source": [
    "### PCA AND GMM\n",
    "# ideal # components looks like 3-4\n",
    "num_comp = 3\n",
    "\n",
    "# project training and dev data to 3d\n",
    "pca = PCA(n_components=num_comp)\n",
    "pca.fit(X)\n",
    "train_3d = pca.transform(X)\n",
    "dev_3d = pca.transform(test)\n",
    "train_3d[:5,:]\n",
    "\n",
    "## Best-of GMM\n",
    "train_3d_pos = pca.transform(X[Y==1])\n",
    "train_3d_neg = pca.transform(X[Y==0])\n",
    "\n",
    "## Create one GMM model for the positive examples, and one for negative\n",
    "gmm_mod_pos = GaussianMixture(n_components=3, covariance_type=\"full\")\n",
    "gmm_mod_pos.fit(train_3d_pos)\n",
    "gmm_mod_neg = GaussianMixture(n_components=3, covariance_type=\"full\")\n",
    "gmm_mod_neg.fit(train_3d_neg)\n",
    "\n",
    "pred = np.empty([dev_3d.shape[0],1])\n",
    "prob_gmm = []\n",
    "for i in range(0, len(dev_3d)):\n",
    "    record = dev_3d[i].reshape(1, -1)\n",
    "    if np.exp(gmm_mod_pos.score(record)) > np.exp(gmm_mod_neg.score(record)):\n",
    "        pred[i] = 1\n",
    "    else: \n",
    "        pred[i] = 0\n",
    "    prob_gmm.append([np.exp(gmm_mod_pos.score(record)) / (np.exp(gmm_mod_pos.score(record)) + np.exp(gmm_mod_neg.score(record)))]) \n",
    "        \n",
    "accuracy = 0\n",
    "for i in range(len(pred)):\n",
    "    if pred[i] == dev_labels[i]:\n",
    "        accuracy+=1\n",
    "accuracy = accuracy*1.0   \n",
    "\n",
    "\n",
    "prob_gmm_t = pd.DataFrame(np.array(prob_gmm))\n",
    "    \n",
    "# compute accuracy\n",
    "print (\"Accuracy with dev data = {:.3}\".format(accuracy/len(pred)))"
   ]
  },
  {
   "cell_type": "code",
   "execution_count": null,
   "metadata": {},
   "outputs": [],
   "source": []
  },
  {
   "cell_type": "code",
   "execution_count": null,
   "metadata": {},
   "outputs": [],
   "source": []
  }
 ],
 "metadata": {
  "kernelspec": {
   "display_name": "Python 2",
   "language": "python",
   "name": "python2"
  },
  "language_info": {
   "codemirror_mode": {
    "name": "ipython",
    "version": 2
   },
   "file_extension": ".py",
   "mimetype": "text/x-python",
   "name": "python",
   "nbconvert_exporter": "python",
   "pygments_lexer": "ipython2",
   "version": "2.7.14"
  }
 },
 "nbformat": 4,
 "nbformat_minor": 2
}
